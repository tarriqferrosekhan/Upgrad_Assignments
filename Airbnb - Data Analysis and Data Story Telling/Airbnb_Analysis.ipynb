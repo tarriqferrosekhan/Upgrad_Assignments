{
 "cells": [
  {
   "cell_type": "code",
   "execution_count": 26,
   "metadata": {},
   "outputs": [],
   "source": [
    "import numpy as np\n",
    "import pandas as pd\n",
    "import seaborn as sns\n",
    "import matplotlib.pyplot as plt\n",
    "%matplotlib inline\n",
    "\n",
    "import warnings\n",
    "warnings.filterwarnings('ignore')"
   ]
  },
  {
   "cell_type": "code",
   "execution_count": 27,
   "metadata": {},
   "outputs": [],
   "source": [
    "def plotvaluecounts(dfSource,_column):\n",
    "    dfTemp=pd.DataFrame(round(dfSource[_column].value_counts(normalize=True)*100.0,2)).reset_index()\n",
    "    dfTemp.columns=[\"column_values\",'value_percentage']\n",
    "    dfTemp.insert(0,\"column_name\",column_name)\n",
    "    fig,ax1=plt.subplots(figsize=(5,5))\n",
    "    sns.barplot(x='column_values',y='value_percentage',data=dfTemp,orient='h',ax=ax1)\n",
    "    plt.show()"
   ]
  },
  {
   "cell_type": "code",
   "execution_count": 28,
   "metadata": {},
   "outputs": [],
   "source": [
    "def checkColumnHasOutlier(dfInput,column_name,minQuartile=0.1,maxQuartile=0.9):\n",
    "    QMin=dfInput[column_name].quantile(minQuartile)\n",
    "    QMax=dfInput[column_name].quantile(maxQuartile)\n",
    "    IQR=QMax-QMin\n",
    "    IQRmin=QMin-(1.5*IQR)\n",
    "    IQRmax=QMax+(1.5*IQR)\n",
    "    dfLessThan=dfInput[dfInput[column_name]<IQRmin]\n",
    "    dfGreaterThan=dfInput[dfInput[column_name]>IQRmax]\n",
    "    hasOutlier=(dfLessThan.empty==False and dfGreaterThan.empty==False)\n",
    "    return hasOutlier"
   ]
  },
  {
   "cell_type": "code",
   "execution_count": 29,
   "metadata": {},
   "outputs": [],
   "source": [
    "def getNullColumns(dfInput, exporttocsv=False,filename='nullcolumns.csv'):\n",
    "    null_count=dfInput.isnull().sum()\n",
    "    null_percentage=100.0*dfInput.isnull().sum()/len(dfInput.index)\n",
    "    dfFinal=pd.DataFrame({'column_name':dfInput.columns,'null_count':null_count,'null_percentage':null_percentage,'dtype':dfInput.dtypes}).reset_index()\n",
    "    for idx,row in dfFinal.iterrows():\n",
    "        column_name=row['column_name']\n",
    "        data_type=row['dtype']\n",
    "        if data_type in ['float64','int64']:\n",
    "            dfFinal['HasOutlier']=checkColumnHasOutlier(dfInput,column_name)\n",
    "        else:\n",
    "            dfFinal['HasOutlier']='False'\n",
    "    if exporttocsv==True:\n",
    "        dfFinal.to_csv(filename,index=False)\n",
    "    dfFinal=dfFinal.drop('column_name',axis=1)\n",
    "    dfFinal=dfFinal.rename({'index':'column_name'},axis=1)\n",
    "    dfFinal=dfFinal[dfFinal['null_percentage']>0]\n",
    "    dfFinal=dfFinal.sort_values(by='null_count',ascending=False).reset_index(drop=True)\n",
    "    return dfFinal"
   ]
  },
  {
   "cell_type": "code",
   "execution_count": 30,
   "metadata": {},
   "outputs": [],
   "source": [
    "def getColumnsByType(dfInput,column_type,exclude=False):\n",
    "    lstColumns=[]\n",
    "    column_type=column_type.strip().lower()\n",
    "    dft=pd.DataFrame(dfInput.dtypes).reset_index()\n",
    "    dft.columns=['column_name','dtype']\n",
    "    if column_type=='numeric':\n",
    "        lstColumns=list(dft[(dft['dtype']=='float64')|(dft['dtype']=='int64')|(dft['dtype']=='bool')]['column_name'])\n",
    "    elif column_type=='categorical':\n",
    "        lstColumns=list(dft[dft['dtype']=='object']['column_name'])\n",
    "    return lstColumns\n",
    "        "
   ]
  },
  {
   "cell_type": "code",
   "execution_count": 31,
   "metadata": {},
   "outputs": [],
   "source": [
    "def applyBinValue(row,group_column_name,column_name,i,_interval,_StopMaxValue=0):\n",
    "    groupvalue=str(i)+\"-\"+str(i+_interval)\n",
    "    if row[group_column_name]=='':\n",
    "        if row[column_name]>=i and row[column_name]<=i+_interval:\n",
    "            if _StopMaxValue==0 or (i+_interval)<=_StopMaxValue:\n",
    "                return groupvalue\n",
    "            else:\n",
    "                if (i+_interval)> _StopMaxValue:\n",
    "                    return 'Greater Than '+str(_StopMaxValue)\n",
    "        else:\n",
    "                return ''\n",
    "    else:\n",
    "        return row[group_column_name]"
   ]
  },
  {
   "cell_type": "code",
   "execution_count": 32,
   "metadata": {},
   "outputs": [],
   "source": [
    "def createBinValues(dfSource,column_name,_interval,_StopMaxValue=0):\n",
    "    dfSource[column_name]=dfSource[column_name].astype(int)\n",
    "    group_name=column_name+\"group\"\n",
    "    _min=dfSource[column_name].min()\n",
    "    _max=dfSource[column_name].max()\n",
    "    dfSource[group_name]=''\n",
    "    for i in range(_min,_max,_interval):\n",
    "        dfSource[group_name]=dfSource.apply(lambda x: applyBinValue(x,group_name,column_name,i,_interval,_StopMaxValue),axis=1)\n",
    "    return dfSource[group_name].value_counts()\n"
   ]
  },
  {
   "cell_type": "code",
   "execution_count": 33,
   "metadata": {},
   "outputs": [],
   "source": [
    "def drawHeatMapByPivot(dfSource,_indexColumn,_columns,_valueslist,aggfuncDictionary,drawHeatMap=True,_sort_values=False,_sortby=[],_figX=10,_figY=10):\n",
    "    dfPivot=dfSource.pivot_table(index=_indexColumn,\n",
    "    columns=_columns,\n",
    "    values=_valueslist,\n",
    "    aggfunc=aggfuncDictionary\n",
    "\n",
    "    )\n",
    "    if _sort_values==True:\n",
    "        dfPivot=dfPivot.sort_values(by=_sortby,ascending=False)\n",
    "    if drawHeatMap==True:\n",
    "        plt.figure(figsize=(_figX,_figY))\n",
    "        sns.heatmap(dfPivot,annot=True,cmap='Blues',fmt='g') \n",
    "\n"
   ]
  },
  {
   "cell_type": "code",
   "execution_count": 34,
   "metadata": {},
   "outputs": [],
   "source": [
    "def removeOutliersByThresholdValue(dfSource,column_name,threshold_value,draw_plot=False):\n",
    "    dfTemp=dfSource[dfSource[column_name]<=threshold_value]\n",
    "    if draw_plot==True:\n",
    "        dfTemp.boxplot(column=[column_name],vert=False)\n",
    "        plt.show()\n",
    "    return dfTemp"
   ]
  },
  {
   "cell_type": "code",
   "execution_count": 35,
   "metadata": {},
   "outputs": [
    {
     "data": {
      "text/html": [
       "<div>\n",
       "<style scoped>\n",
       "    .dataframe tbody tr th:only-of-type {\n",
       "        vertical-align: middle;\n",
       "    }\n",
       "\n",
       "    .dataframe tbody tr th {\n",
       "        vertical-align: top;\n",
       "    }\n",
       "\n",
       "    .dataframe thead th {\n",
       "        text-align: right;\n",
       "    }\n",
       "</style>\n",
       "<table border=\"1\" class=\"dataframe\">\n",
       "  <thead>\n",
       "    <tr style=\"text-align: right;\">\n",
       "      <th></th>\n",
       "      <th>id</th>\n",
       "      <th>name</th>\n",
       "      <th>host_id</th>\n",
       "      <th>host_name</th>\n",
       "      <th>neighbourhood_group</th>\n",
       "      <th>neighbourhood</th>\n",
       "      <th>latitude</th>\n",
       "      <th>longitude</th>\n",
       "      <th>room_type</th>\n",
       "      <th>price</th>\n",
       "      <th>minimum_nights</th>\n",
       "      <th>number_of_reviews</th>\n",
       "      <th>last_review</th>\n",
       "      <th>reviews_per_month</th>\n",
       "      <th>calculated_host_listings_count</th>\n",
       "      <th>availability_365</th>\n",
       "    </tr>\n",
       "  </thead>\n",
       "  <tbody>\n",
       "    <tr>\n",
       "      <th>0</th>\n",
       "      <td>2539</td>\n",
       "      <td>Clean &amp; quiet apt home by the park</td>\n",
       "      <td>2787</td>\n",
       "      <td>John</td>\n",
       "      <td>Brooklyn</td>\n",
       "      <td>Kensington</td>\n",
       "      <td>40.64749</td>\n",
       "      <td>-73.97237</td>\n",
       "      <td>Private room</td>\n",
       "      <td>149</td>\n",
       "      <td>1</td>\n",
       "      <td>9</td>\n",
       "      <td>19-10-2018</td>\n",
       "      <td>0.21</td>\n",
       "      <td>6</td>\n",
       "      <td>365</td>\n",
       "    </tr>\n",
       "    <tr>\n",
       "      <th>1</th>\n",
       "      <td>2595</td>\n",
       "      <td>Skylit Midtown Castle</td>\n",
       "      <td>2845</td>\n",
       "      <td>Jennifer</td>\n",
       "      <td>Manhattan</td>\n",
       "      <td>Midtown</td>\n",
       "      <td>40.75362</td>\n",
       "      <td>-73.98377</td>\n",
       "      <td>Entire home/apt</td>\n",
       "      <td>225</td>\n",
       "      <td>1</td>\n",
       "      <td>45</td>\n",
       "      <td>21-05-2019</td>\n",
       "      <td>0.38</td>\n",
       "      <td>2</td>\n",
       "      <td>355</td>\n",
       "    </tr>\n",
       "    <tr>\n",
       "      <th>2</th>\n",
       "      <td>3647</td>\n",
       "      <td>THE VILLAGE OF HARLEM....NEW YORK !</td>\n",
       "      <td>4632</td>\n",
       "      <td>Elisabeth</td>\n",
       "      <td>Manhattan</td>\n",
       "      <td>Harlem</td>\n",
       "      <td>40.80902</td>\n",
       "      <td>-73.94190</td>\n",
       "      <td>Private room</td>\n",
       "      <td>150</td>\n",
       "      <td>3</td>\n",
       "      <td>0</td>\n",
       "      <td>NaN</td>\n",
       "      <td>NaN</td>\n",
       "      <td>1</td>\n",
       "      <td>365</td>\n",
       "    </tr>\n",
       "    <tr>\n",
       "      <th>3</th>\n",
       "      <td>3831</td>\n",
       "      <td>Cozy Entire Floor of Brownstone</td>\n",
       "      <td>4869</td>\n",
       "      <td>LisaRoxanne</td>\n",
       "      <td>Brooklyn</td>\n",
       "      <td>Clinton Hill</td>\n",
       "      <td>40.68514</td>\n",
       "      <td>-73.95976</td>\n",
       "      <td>Entire home/apt</td>\n",
       "      <td>89</td>\n",
       "      <td>1</td>\n",
       "      <td>270</td>\n",
       "      <td>05-07-2019</td>\n",
       "      <td>4.64</td>\n",
       "      <td>1</td>\n",
       "      <td>194</td>\n",
       "    </tr>\n",
       "    <tr>\n",
       "      <th>4</th>\n",
       "      <td>5022</td>\n",
       "      <td>Entire Apt: Spacious Studio/Loft by central park</td>\n",
       "      <td>7192</td>\n",
       "      <td>Laura</td>\n",
       "      <td>Manhattan</td>\n",
       "      <td>East Harlem</td>\n",
       "      <td>40.79851</td>\n",
       "      <td>-73.94399</td>\n",
       "      <td>Entire home/apt</td>\n",
       "      <td>80</td>\n",
       "      <td>10</td>\n",
       "      <td>9</td>\n",
       "      <td>19-11-2018</td>\n",
       "      <td>0.10</td>\n",
       "      <td>1</td>\n",
       "      <td>0</td>\n",
       "    </tr>\n",
       "  </tbody>\n",
       "</table>\n",
       "</div>"
      ],
      "text/plain": [
       "     id                                              name  host_id  \\\n",
       "0  2539                Clean & quiet apt home by the park     2787   \n",
       "1  2595                             Skylit Midtown Castle     2845   \n",
       "2  3647               THE VILLAGE OF HARLEM....NEW YORK !     4632   \n",
       "3  3831                   Cozy Entire Floor of Brownstone     4869   \n",
       "4  5022  Entire Apt: Spacious Studio/Loft by central park     7192   \n",
       "\n",
       "     host_name neighbourhood_group neighbourhood  latitude  longitude  \\\n",
       "0         John            Brooklyn    Kensington  40.64749  -73.97237   \n",
       "1     Jennifer           Manhattan       Midtown  40.75362  -73.98377   \n",
       "2    Elisabeth           Manhattan        Harlem  40.80902  -73.94190   \n",
       "3  LisaRoxanne            Brooklyn  Clinton Hill  40.68514  -73.95976   \n",
       "4        Laura           Manhattan   East Harlem  40.79851  -73.94399   \n",
       "\n",
       "         room_type  price  minimum_nights  number_of_reviews last_review  \\\n",
       "0     Private room    149               1                  9  19-10-2018   \n",
       "1  Entire home/apt    225               1                 45  21-05-2019   \n",
       "2     Private room    150               3                  0         NaN   \n",
       "3  Entire home/apt     89               1                270  05-07-2019   \n",
       "4  Entire home/apt     80              10                  9  19-11-2018   \n",
       "\n",
       "   reviews_per_month  calculated_host_listings_count  availability_365  \n",
       "0               0.21                               6               365  \n",
       "1               0.38                               2               355  \n",
       "2                NaN                               1               365  \n",
       "3               4.64                               1               194  \n",
       "4               0.10                               1                 0  "
      ]
     },
     "execution_count": 35,
     "metadata": {},
     "output_type": "execute_result"
    }
   ],
   "source": [
    "dfSource=pd.read_csv('AB_NYC_2019.csv')\n",
    "dfSource.head()\n"
   ]
  },
  {
   "cell_type": "markdown",
   "metadata": {},
   "source": [
    "<h2>Null Handling and Data Cleaning</h2>"
   ]
  },
  {
   "cell_type": "code",
   "execution_count": 36,
   "metadata": {},
   "outputs": [
    {
     "data": {
      "text/html": [
       "<div>\n",
       "<style scoped>\n",
       "    .dataframe tbody tr th:only-of-type {\n",
       "        vertical-align: middle;\n",
       "    }\n",
       "\n",
       "    .dataframe tbody tr th {\n",
       "        vertical-align: top;\n",
       "    }\n",
       "\n",
       "    .dataframe thead th {\n",
       "        text-align: right;\n",
       "    }\n",
       "</style>\n",
       "<table border=\"1\" class=\"dataframe\">\n",
       "  <thead>\n",
       "    <tr style=\"text-align: right;\">\n",
       "      <th></th>\n",
       "      <th>column_name</th>\n",
       "      <th>null_count</th>\n",
       "      <th>null_percentage</th>\n",
       "      <th>dtype</th>\n",
       "      <th>HasOutlier</th>\n",
       "    </tr>\n",
       "  </thead>\n",
       "  <tbody>\n",
       "    <tr>\n",
       "      <th>0</th>\n",
       "      <td>last_review</td>\n",
       "      <td>10052</td>\n",
       "      <td>20.558339</td>\n",
       "      <td>object</td>\n",
       "      <td>False</td>\n",
       "    </tr>\n",
       "    <tr>\n",
       "      <th>1</th>\n",
       "      <td>reviews_per_month</td>\n",
       "      <td>10052</td>\n",
       "      <td>20.558339</td>\n",
       "      <td>float64</td>\n",
       "      <td>False</td>\n",
       "    </tr>\n",
       "    <tr>\n",
       "      <th>2</th>\n",
       "      <td>host_name</td>\n",
       "      <td>21</td>\n",
       "      <td>0.042949</td>\n",
       "      <td>object</td>\n",
       "      <td>False</td>\n",
       "    </tr>\n",
       "    <tr>\n",
       "      <th>3</th>\n",
       "      <td>name</td>\n",
       "      <td>16</td>\n",
       "      <td>0.032723</td>\n",
       "      <td>object</td>\n",
       "      <td>False</td>\n",
       "    </tr>\n",
       "  </tbody>\n",
       "</table>\n",
       "</div>"
      ],
      "text/plain": [
       "         column_name  null_count  null_percentage    dtype  HasOutlier\n",
       "0        last_review       10052        20.558339   object       False\n",
       "1  reviews_per_month       10052        20.558339  float64       False\n",
       "2          host_name          21         0.042949   object       False\n",
       "3               name          16         0.032723   object       False"
      ]
     },
     "execution_count": 36,
     "metadata": {},
     "output_type": "execute_result"
    }
   ],
   "source": [
    "getNullColumns(dfSource)"
   ]
  },
  {
   "cell_type": "code",
   "execution_count": 37,
   "metadata": {},
   "outputs": [],
   "source": [
    "#1.fill empty host_name with Host Id\n",
    "#2.fill empty reviews_per_month with 0\n",
    "#3.fill empty name with 'neighbourhood'+'room_type'+host_id\n",
    "#4.Replace names with special Characters\n",
    "dfSource['host_name'].fillna(value=dfSource['host_id'],inplace=True)\n",
    "dfSource['reviews_per_month'].fillna(value=0,inplace=True)\n",
    "dfSource['name'].fillna(value=dfSource['neighbourhood']+dfSource['room_type']+str(dfSource['host_id']),inplace=True)\n",
    "dfSource['name'].replace({r'[^\\x00-\\x7F]+':''},regex=True,inplace=True)"
   ]
  },
  {
   "cell_type": "code",
   "execution_count": 38,
   "metadata": {},
   "outputs": [
    {
     "data": {
      "text/html": [
       "<div>\n",
       "<style scoped>\n",
       "    .dataframe tbody tr th:only-of-type {\n",
       "        vertical-align: middle;\n",
       "    }\n",
       "\n",
       "    .dataframe tbody tr th {\n",
       "        vertical-align: top;\n",
       "    }\n",
       "\n",
       "    .dataframe thead th {\n",
       "        text-align: right;\n",
       "    }\n",
       "</style>\n",
       "<table border=\"1\" class=\"dataframe\">\n",
       "  <thead>\n",
       "    <tr style=\"text-align: right;\">\n",
       "      <th></th>\n",
       "      <th>column_name</th>\n",
       "      <th>null_count</th>\n",
       "      <th>null_percentage</th>\n",
       "      <th>dtype</th>\n",
       "      <th>HasOutlier</th>\n",
       "    </tr>\n",
       "  </thead>\n",
       "  <tbody>\n",
       "    <tr>\n",
       "      <th>0</th>\n",
       "      <td>last_review</td>\n",
       "      <td>10052</td>\n",
       "      <td>20.558339</td>\n",
       "      <td>object</td>\n",
       "      <td>False</td>\n",
       "    </tr>\n",
       "  </tbody>\n",
       "</table>\n",
       "</div>"
      ],
      "text/plain": [
       "   column_name  null_count  null_percentage   dtype  HasOutlier\n",
       "0  last_review       10052        20.558339  object       False"
      ]
     },
     "execution_count": 38,
     "metadata": {},
     "output_type": "execute_result"
    }
   ],
   "source": [
    "getNullColumns(dfSource)"
   ]
  },
  {
   "cell_type": "markdown",
   "metadata": {},
   "source": [
    "<h3>Change Date Format properly and Derive Calculated Columns</h3>"
   ]
  },
  {
   "cell_type": "code",
   "execution_count": 39,
   "metadata": {},
   "outputs": [
    {
     "data": {
      "text/html": [
       "<div>\n",
       "<style scoped>\n",
       "    .dataframe tbody tr th:only-of-type {\n",
       "        vertical-align: middle;\n",
       "    }\n",
       "\n",
       "    .dataframe tbody tr th {\n",
       "        vertical-align: top;\n",
       "    }\n",
       "\n",
       "    .dataframe thead th {\n",
       "        text-align: right;\n",
       "    }\n",
       "</style>\n",
       "<table border=\"1\" class=\"dataframe\">\n",
       "  <thead>\n",
       "    <tr style=\"text-align: right;\">\n",
       "      <th></th>\n",
       "      <th>last_review_date</th>\n",
       "      <th>last_review_Year</th>\n",
       "      <th>last_review_month</th>\n",
       "      <th>last_review_elapsed</th>\n",
       "    </tr>\n",
       "  </thead>\n",
       "  <tbody>\n",
       "    <tr>\n",
       "      <th>0</th>\n",
       "      <td>2018-10-19</td>\n",
       "      <td>2018</td>\n",
       "      <td>10</td>\n",
       "      <td>2334.0</td>\n",
       "    </tr>\n",
       "    <tr>\n",
       "      <th>1</th>\n",
       "      <td>2019-05-21</td>\n",
       "      <td>2019</td>\n",
       "      <td>05</td>\n",
       "      <td>2120.0</td>\n",
       "    </tr>\n",
       "    <tr>\n",
       "      <th>2</th>\n",
       "      <td>NaT</td>\n",
       "      <td>NaN</td>\n",
       "      <td>NaN</td>\n",
       "      <td>0.0</td>\n",
       "    </tr>\n",
       "    <tr>\n",
       "      <th>3</th>\n",
       "      <td>2019-07-05</td>\n",
       "      <td>2019</td>\n",
       "      <td>07</td>\n",
       "      <td>2075.0</td>\n",
       "    </tr>\n",
       "    <tr>\n",
       "      <th>4</th>\n",
       "      <td>2018-11-19</td>\n",
       "      <td>2018</td>\n",
       "      <td>11</td>\n",
       "      <td>2303.0</td>\n",
       "    </tr>\n",
       "  </tbody>\n",
       "</table>\n",
       "</div>"
      ],
      "text/plain": [
       "  last_review_date last_review_Year last_review_month  last_review_elapsed\n",
       "0       2018-10-19             2018                10               2334.0\n",
       "1       2019-05-21             2019                05               2120.0\n",
       "2              NaT              NaN               NaN                  0.0\n",
       "3       2019-07-05             2019                07               2075.0\n",
       "4       2018-11-19             2018                11               2303.0"
      ]
     },
     "execution_count": 39,
     "metadata": {},
     "output_type": "execute_result"
    }
   ],
   "source": [
    "dfSource['last_review']=dfSource['last_review'].str.replace('-','/')\n",
    "dfSource['last_review_date']=pd.to_datetime(dfSource['last_review'])\n",
    "dfSource['last_review_Year']=dfSource[~dfSource['last_review'].isnull()]['last_review_date'].dt.strftime('%Y')\n",
    "dfSource['last_review_month']=dfSource[~dfSource['last_review'].isnull()]['last_review_date'].dt.strftime('%m')\n",
    "dfSource['last_review_elapsed']=pd.Timestamp('today').floor('D')-dfSource['last_review_date']\n",
    "dfSource['last_review_elapsed']=dfSource['last_review_elapsed'].astype(str)\n",
    "dfSource['last_review_elapsed']=dfSource['last_review_elapsed'].str.replace('NaT','0 days')\n",
    "dfSource['last_review_elapsed']=dfSource['last_review_elapsed'].str.replace(' days','')\n",
    "dfSource['last_review_elapsed']=dfSource['last_review_elapsed'].astype(float)\n",
    "dfSource['last_review_elapsed'].fillna(0)\n",
    "dfSource[['last_review_date','last_review_Year','last_review_month','last_review_elapsed']].head()\n",
    "\n",
    "\n",
    "\n",
    "\n",
    "\n"
   ]
  },
  {
   "cell_type": "markdown",
   "metadata": {},
   "source": [
    "<h3>Check for Outliers and Remove</h3>"
   ]
  },
  {
   "cell_type": "code",
   "execution_count": 40,
   "metadata": {},
   "outputs": [
    {
     "data": {
      "text/plain": [
       "['id',\n",
       " 'host_id',\n",
       " 'latitude',\n",
       " 'longitude',\n",
       " 'price',\n",
       " 'minimum_nights',\n",
       " 'number_of_reviews',\n",
       " 'reviews_per_month',\n",
       " 'calculated_host_listings_count',\n",
       " 'availability_365',\n",
       " 'last_review_elapsed']"
      ]
     },
     "execution_count": 40,
     "metadata": {},
     "output_type": "execute_result"
    }
   ],
   "source": [
    "getColumnsByType(dfSource,'numeric')"
   ]
  },
  {
   "cell_type": "markdown",
   "metadata": {},
   "source": [
    "<h4>Check for Outlier: Price</h4>"
   ]
  },
  {
   "cell_type": "code",
   "execution_count": 41,
   "metadata": {},
   "outputs": [
    {
     "ename": "KeyboardInterrupt",
     "evalue": "",
     "output_type": "error",
     "traceback": [
      "\u001b[1;31m---------------------------------------------------------------------------\u001b[0m",
      "\u001b[1;31mKeyboardInterrupt\u001b[0m                         Traceback (most recent call last)",
      "Cell \u001b[1;32mIn[41], line 1\u001b[0m\n\u001b[1;32m----> 1\u001b[0m \u001b[43mdfSource\u001b[49m\u001b[38;5;241;43m.\u001b[39;49m\u001b[43mboxplot\u001b[49m\u001b[43m(\u001b[49m\u001b[43mcolumn\u001b[49m\u001b[38;5;241;43m=\u001b[39;49m\u001b[43m[\u001b[49m\u001b[38;5;124;43m'\u001b[39;49m\u001b[38;5;124;43mprice\u001b[39;49m\u001b[38;5;124;43m'\u001b[39;49m\u001b[43m]\u001b[49m\u001b[43m,\u001b[49m\u001b[43mvert\u001b[49m\u001b[38;5;241;43m=\u001b[39;49m\u001b[38;5;28;43;01mFalse\u001b[39;49;00m\u001b[43m)\u001b[49m\n",
      "File \u001b[1;32mc:\\Users\\synerjile\\AppData\\Local\\Programs\\Python\\Python312\\Lib\\site-packages\\pandas\\plotting\\_core.py:533\u001b[0m, in \u001b[0;36mboxplot_frame\u001b[1;34m(self, column, by, ax, fontsize, rot, grid, figsize, layout, return_type, backend, **kwargs)\u001b[0m\n\u001b[0;32m    516\u001b[0m \u001b[38;5;129m@Substitution\u001b[39m(data\u001b[38;5;241m=\u001b[39m\u001b[38;5;124m\"\u001b[39m\u001b[38;5;124m\"\u001b[39m, backend\u001b[38;5;241m=\u001b[39m_backend_doc)\n\u001b[0;32m    517\u001b[0m \u001b[38;5;129m@Appender\u001b[39m(_boxplot_doc)\n\u001b[0;32m    518\u001b[0m \u001b[38;5;28;01mdef\u001b[39;00m \u001b[38;5;21mboxplot_frame\u001b[39m(\n\u001b[1;32m   (...)\u001b[0m\n\u001b[0;32m    530\u001b[0m     \u001b[38;5;241m*\u001b[39m\u001b[38;5;241m*\u001b[39mkwargs,\n\u001b[0;32m    531\u001b[0m ):\n\u001b[0;32m    532\u001b[0m     plot_backend \u001b[38;5;241m=\u001b[39m _get_plot_backend(backend)\n\u001b[1;32m--> 533\u001b[0m     \u001b[38;5;28;01mreturn\u001b[39;00m \u001b[43mplot_backend\u001b[49m\u001b[38;5;241;43m.\u001b[39;49m\u001b[43mboxplot_frame\u001b[49m\u001b[43m(\u001b[49m\n\u001b[0;32m    534\u001b[0m \u001b[43m        \u001b[49m\u001b[38;5;28;43mself\u001b[39;49m\u001b[43m,\u001b[49m\n\u001b[0;32m    535\u001b[0m \u001b[43m        \u001b[49m\u001b[43mcolumn\u001b[49m\u001b[38;5;241;43m=\u001b[39;49m\u001b[43mcolumn\u001b[49m\u001b[43m,\u001b[49m\n\u001b[0;32m    536\u001b[0m \u001b[43m        \u001b[49m\u001b[43mby\u001b[49m\u001b[38;5;241;43m=\u001b[39;49m\u001b[43mby\u001b[49m\u001b[43m,\u001b[49m\n\u001b[0;32m    537\u001b[0m \u001b[43m        \u001b[49m\u001b[43max\u001b[49m\u001b[38;5;241;43m=\u001b[39;49m\u001b[43max\u001b[49m\u001b[43m,\u001b[49m\n\u001b[0;32m    538\u001b[0m \u001b[43m        \u001b[49m\u001b[43mfontsize\u001b[49m\u001b[38;5;241;43m=\u001b[39;49m\u001b[43mfontsize\u001b[49m\u001b[43m,\u001b[49m\n\u001b[0;32m    539\u001b[0m \u001b[43m        \u001b[49m\u001b[43mrot\u001b[49m\u001b[38;5;241;43m=\u001b[39;49m\u001b[43mrot\u001b[49m\u001b[43m,\u001b[49m\n\u001b[0;32m    540\u001b[0m \u001b[43m        \u001b[49m\u001b[43mgrid\u001b[49m\u001b[38;5;241;43m=\u001b[39;49m\u001b[43mgrid\u001b[49m\u001b[43m,\u001b[49m\n\u001b[0;32m    541\u001b[0m \u001b[43m        \u001b[49m\u001b[43mfigsize\u001b[49m\u001b[38;5;241;43m=\u001b[39;49m\u001b[43mfigsize\u001b[49m\u001b[43m,\u001b[49m\n\u001b[0;32m    542\u001b[0m \u001b[43m        \u001b[49m\u001b[43mlayout\u001b[49m\u001b[38;5;241;43m=\u001b[39;49m\u001b[43mlayout\u001b[49m\u001b[43m,\u001b[49m\n\u001b[0;32m    543\u001b[0m \u001b[43m        \u001b[49m\u001b[43mreturn_type\u001b[49m\u001b[38;5;241;43m=\u001b[39;49m\u001b[43mreturn_type\u001b[49m\u001b[43m,\u001b[49m\n\u001b[0;32m    544\u001b[0m \u001b[43m        \u001b[49m\u001b[38;5;241;43m*\u001b[39;49m\u001b[38;5;241;43m*\u001b[39;49m\u001b[43mkwargs\u001b[49m\u001b[43m,\u001b[49m\n\u001b[0;32m    545\u001b[0m \u001b[43m    \u001b[49m\u001b[43m)\u001b[49m\n",
      "File \u001b[1;32mc:\\Users\\synerjile\\AppData\\Local\\Programs\\Python\\Python312\\Lib\\site-packages\\pandas\\plotting\\_matplotlib\\boxplot.py:492\u001b[0m, in \u001b[0;36mboxplot_frame\u001b[1;34m(self, column, by, ax, fontsize, rot, grid, figsize, layout, return_type, **kwds)\u001b[0m\n\u001b[0;32m    477\u001b[0m \u001b[38;5;28;01mdef\u001b[39;00m \u001b[38;5;21mboxplot_frame\u001b[39m(\n\u001b[0;32m    478\u001b[0m     \u001b[38;5;28mself\u001b[39m,\n\u001b[0;32m    479\u001b[0m     column\u001b[38;5;241m=\u001b[39m\u001b[38;5;28;01mNone\u001b[39;00m,\n\u001b[1;32m   (...)\u001b[0m\n\u001b[0;32m    488\u001b[0m     \u001b[38;5;241m*\u001b[39m\u001b[38;5;241m*\u001b[39mkwds,\n\u001b[0;32m    489\u001b[0m ):\n\u001b[0;32m    490\u001b[0m     \u001b[38;5;28;01mimport\u001b[39;00m \u001b[38;5;21;01mmatplotlib\u001b[39;00m\u001b[38;5;21;01m.\u001b[39;00m\u001b[38;5;21;01mpyplot\u001b[39;00m \u001b[38;5;28;01mas\u001b[39;00m \u001b[38;5;21;01mplt\u001b[39;00m\n\u001b[1;32m--> 492\u001b[0m     ax \u001b[38;5;241m=\u001b[39m \u001b[43mboxplot\u001b[49m\u001b[43m(\u001b[49m\n\u001b[0;32m    493\u001b[0m \u001b[43m        \u001b[49m\u001b[38;5;28;43mself\u001b[39;49m\u001b[43m,\u001b[49m\n\u001b[0;32m    494\u001b[0m \u001b[43m        \u001b[49m\u001b[43mcolumn\u001b[49m\u001b[38;5;241;43m=\u001b[39;49m\u001b[43mcolumn\u001b[49m\u001b[43m,\u001b[49m\n\u001b[0;32m    495\u001b[0m \u001b[43m        \u001b[49m\u001b[43mby\u001b[49m\u001b[38;5;241;43m=\u001b[39;49m\u001b[43mby\u001b[49m\u001b[43m,\u001b[49m\n\u001b[0;32m    496\u001b[0m \u001b[43m        \u001b[49m\u001b[43max\u001b[49m\u001b[38;5;241;43m=\u001b[39;49m\u001b[43max\u001b[49m\u001b[43m,\u001b[49m\n\u001b[0;32m    497\u001b[0m \u001b[43m        \u001b[49m\u001b[43mfontsize\u001b[49m\u001b[38;5;241;43m=\u001b[39;49m\u001b[43mfontsize\u001b[49m\u001b[43m,\u001b[49m\n\u001b[0;32m    498\u001b[0m \u001b[43m        \u001b[49m\u001b[43mgrid\u001b[49m\u001b[38;5;241;43m=\u001b[39;49m\u001b[43mgrid\u001b[49m\u001b[43m,\u001b[49m\n\u001b[0;32m    499\u001b[0m \u001b[43m        \u001b[49m\u001b[43mrot\u001b[49m\u001b[38;5;241;43m=\u001b[39;49m\u001b[43mrot\u001b[49m\u001b[43m,\u001b[49m\n\u001b[0;32m    500\u001b[0m \u001b[43m        \u001b[49m\u001b[43mfigsize\u001b[49m\u001b[38;5;241;43m=\u001b[39;49m\u001b[43mfigsize\u001b[49m\u001b[43m,\u001b[49m\n\u001b[0;32m    501\u001b[0m \u001b[43m        \u001b[49m\u001b[43mlayout\u001b[49m\u001b[38;5;241;43m=\u001b[39;49m\u001b[43mlayout\u001b[49m\u001b[43m,\u001b[49m\n\u001b[0;32m    502\u001b[0m \u001b[43m        \u001b[49m\u001b[43mreturn_type\u001b[49m\u001b[38;5;241;43m=\u001b[39;49m\u001b[43mreturn_type\u001b[49m\u001b[43m,\u001b[49m\n\u001b[0;32m    503\u001b[0m \u001b[43m        \u001b[49m\u001b[38;5;241;43m*\u001b[39;49m\u001b[38;5;241;43m*\u001b[39;49m\u001b[43mkwds\u001b[49m\u001b[43m,\u001b[49m\n\u001b[0;32m    504\u001b[0m \u001b[43m    \u001b[49m\u001b[43m)\u001b[49m\n\u001b[0;32m    505\u001b[0m     plt\u001b[38;5;241m.\u001b[39mdraw_if_interactive()\n\u001b[0;32m    506\u001b[0m     \u001b[38;5;28;01mreturn\u001b[39;00m ax\n",
      "File \u001b[1;32mc:\\Users\\synerjile\\AppData\\Local\\Programs\\Python\\Python312\\Lib\\site-packages\\pandas\\plotting\\_matplotlib\\boxplot.py:471\u001b[0m, in \u001b[0;36mboxplot\u001b[1;34m(data, column, by, ax, fontsize, rot, grid, figsize, layout, return_type, **kwds)\u001b[0m\n\u001b[0;32m    468\u001b[0m     \u001b[38;5;28;01melse\u001b[39;00m:\n\u001b[0;32m    469\u001b[0m         data \u001b[38;5;241m=\u001b[39m data[columns]\n\u001b[1;32m--> 471\u001b[0m     result \u001b[38;5;241m=\u001b[39m \u001b[43mplot_group\u001b[49m\u001b[43m(\u001b[49m\u001b[43mcolumns\u001b[49m\u001b[43m,\u001b[49m\u001b[43m \u001b[49m\u001b[43mdata\u001b[49m\u001b[38;5;241;43m.\u001b[39;49m\u001b[43mvalues\u001b[49m\u001b[38;5;241;43m.\u001b[39;49m\u001b[43mT\u001b[49m\u001b[43m,\u001b[49m\u001b[43m \u001b[49m\u001b[43max\u001b[49m\u001b[43m,\u001b[49m\u001b[43m \u001b[49m\u001b[38;5;241;43m*\u001b[39;49m\u001b[38;5;241;43m*\u001b[39;49m\u001b[43mkwds\u001b[49m\u001b[43m)\u001b[49m\n\u001b[0;32m    472\u001b[0m     ax\u001b[38;5;241m.\u001b[39mgrid(grid)\n\u001b[0;32m    474\u001b[0m \u001b[38;5;28;01mreturn\u001b[39;00m result\n",
      "File \u001b[1;32mc:\\Users\\synerjile\\AppData\\Local\\Programs\\Python\\Python312\\Lib\\site-packages\\pandas\\plotting\\_matplotlib\\boxplot.py:409\u001b[0m, in \u001b[0;36mboxplot.<locals>.plot_group\u001b[1;34m(keys, values, ax, **kwds)\u001b[0m\n\u001b[0;32m    407\u001b[0m keys \u001b[38;5;241m=\u001b[39m [pprint_thing(x) \u001b[38;5;28;01mfor\u001b[39;00m x \u001b[38;5;129;01min\u001b[39;00m keys]\n\u001b[0;32m    408\u001b[0m values \u001b[38;5;241m=\u001b[39m [np\u001b[38;5;241m.\u001b[39masarray(remove_na_arraylike(v), dtype\u001b[38;5;241m=\u001b[39m\u001b[38;5;28mobject\u001b[39m) \u001b[38;5;28;01mfor\u001b[39;00m v \u001b[38;5;129;01min\u001b[39;00m values]\n\u001b[1;32m--> 409\u001b[0m bp \u001b[38;5;241m=\u001b[39m \u001b[43max\u001b[49m\u001b[38;5;241;43m.\u001b[39;49m\u001b[43mboxplot\u001b[49m\u001b[43m(\u001b[49m\u001b[43mvalues\u001b[49m\u001b[43m,\u001b[49m\u001b[43m \u001b[49m\u001b[38;5;241;43m*\u001b[39;49m\u001b[38;5;241;43m*\u001b[39;49m\u001b[43mkwds\u001b[49m\u001b[43m)\u001b[49m\n\u001b[0;32m    410\u001b[0m \u001b[38;5;28;01mif\u001b[39;00m fontsize \u001b[38;5;129;01mis\u001b[39;00m \u001b[38;5;129;01mnot\u001b[39;00m \u001b[38;5;28;01mNone\u001b[39;00m:\n\u001b[0;32m    411\u001b[0m     ax\u001b[38;5;241m.\u001b[39mtick_params(axis\u001b[38;5;241m=\u001b[39m\u001b[38;5;124m\"\u001b[39m\u001b[38;5;124mboth\u001b[39m\u001b[38;5;124m\"\u001b[39m, labelsize\u001b[38;5;241m=\u001b[39mfontsize)\n",
      "File \u001b[1;32mc:\\Users\\synerjile\\AppData\\Local\\Programs\\Python\\Python312\\Lib\\site-packages\\matplotlib\\__init__.py:1486\u001b[0m, in \u001b[0;36m_preprocess_data.<locals>.inner\u001b[1;34m(ax, data, *args, **kwargs)\u001b[0m\n\u001b[0;32m   1483\u001b[0m \u001b[38;5;129m@functools\u001b[39m\u001b[38;5;241m.\u001b[39mwraps(func)\n\u001b[0;32m   1484\u001b[0m \u001b[38;5;28;01mdef\u001b[39;00m \u001b[38;5;21minner\u001b[39m(ax, \u001b[38;5;241m*\u001b[39margs, data\u001b[38;5;241m=\u001b[39m\u001b[38;5;28;01mNone\u001b[39;00m, \u001b[38;5;241m*\u001b[39m\u001b[38;5;241m*\u001b[39mkwargs):\n\u001b[0;32m   1485\u001b[0m     \u001b[38;5;28;01mif\u001b[39;00m data \u001b[38;5;129;01mis\u001b[39;00m \u001b[38;5;28;01mNone\u001b[39;00m:\n\u001b[1;32m-> 1486\u001b[0m         \u001b[38;5;28;01mreturn\u001b[39;00m \u001b[43mfunc\u001b[49m\u001b[43m(\u001b[49m\n\u001b[0;32m   1487\u001b[0m \u001b[43m            \u001b[49m\u001b[43max\u001b[49m\u001b[43m,\u001b[49m\n\u001b[0;32m   1488\u001b[0m \u001b[43m            \u001b[49m\u001b[38;5;241;43m*\u001b[39;49m\u001b[38;5;28;43mmap\u001b[39;49m\u001b[43m(\u001b[49m\u001b[43msanitize_sequence\u001b[49m\u001b[43m,\u001b[49m\u001b[43m \u001b[49m\u001b[43margs\u001b[49m\u001b[43m)\u001b[49m\u001b[43m,\u001b[49m\n\u001b[0;32m   1489\u001b[0m \u001b[43m            \u001b[49m\u001b[38;5;241;43m*\u001b[39;49m\u001b[38;5;241;43m*\u001b[39;49m\u001b[43m{\u001b[49m\u001b[43mk\u001b[49m\u001b[43m:\u001b[49m\u001b[43m \u001b[49m\u001b[43msanitize_sequence\u001b[49m\u001b[43m(\u001b[49m\u001b[43mv\u001b[49m\u001b[43m)\u001b[49m\u001b[43m \u001b[49m\u001b[38;5;28;43;01mfor\u001b[39;49;00m\u001b[43m \u001b[49m\u001b[43mk\u001b[49m\u001b[43m,\u001b[49m\u001b[43m \u001b[49m\u001b[43mv\u001b[49m\u001b[43m \u001b[49m\u001b[38;5;129;43;01min\u001b[39;49;00m\u001b[43m \u001b[49m\u001b[43mkwargs\u001b[49m\u001b[38;5;241;43m.\u001b[39;49m\u001b[43mitems\u001b[49m\u001b[43m(\u001b[49m\u001b[43m)\u001b[49m\u001b[43m}\u001b[49m\u001b[43m)\u001b[49m\n\u001b[0;32m   1491\u001b[0m     bound \u001b[38;5;241m=\u001b[39m new_sig\u001b[38;5;241m.\u001b[39mbind(ax, \u001b[38;5;241m*\u001b[39margs, \u001b[38;5;241m*\u001b[39m\u001b[38;5;241m*\u001b[39mkwargs)\n\u001b[0;32m   1492\u001b[0m     auto_label \u001b[38;5;241m=\u001b[39m (bound\u001b[38;5;241m.\u001b[39marguments\u001b[38;5;241m.\u001b[39mget(label_namer)\n\u001b[0;32m   1493\u001b[0m                   \u001b[38;5;129;01mor\u001b[39;00m bound\u001b[38;5;241m.\u001b[39mkwargs\u001b[38;5;241m.\u001b[39mget(label_namer))\n",
      "File \u001b[1;32mc:\\Users\\synerjile\\AppData\\Local\\Programs\\Python\\Python312\\Lib\\site-packages\\matplotlib\\_api\\deprecation.py:300\u001b[0m, in \u001b[0;36mrename_parameter.<locals>.wrapper\u001b[1;34m(*args, **kwargs)\u001b[0m\n\u001b[0;32m    295\u001b[0m     warn_deprecated(\n\u001b[0;32m    296\u001b[0m         since, message\u001b[38;5;241m=\u001b[39m\u001b[38;5;124mf\u001b[39m\u001b[38;5;124m\"\u001b[39m\u001b[38;5;124mThe \u001b[39m\u001b[38;5;132;01m{\u001b[39;00mold\u001b[38;5;132;01m!r}\u001b[39;00m\u001b[38;5;124m parameter of \u001b[39m\u001b[38;5;132;01m{\u001b[39;00mfunc\u001b[38;5;241m.\u001b[39m\u001b[38;5;18m__name__\u001b[39m\u001b[38;5;132;01m}\u001b[39;00m\u001b[38;5;124m() \u001b[39m\u001b[38;5;124m\"\u001b[39m\n\u001b[0;32m    297\u001b[0m         \u001b[38;5;124mf\u001b[39m\u001b[38;5;124m\"\u001b[39m\u001b[38;5;124mhas been renamed \u001b[39m\u001b[38;5;132;01m{\u001b[39;00mnew\u001b[38;5;132;01m!r}\u001b[39;00m\u001b[38;5;124m since Matplotlib \u001b[39m\u001b[38;5;132;01m{\u001b[39;00msince\u001b[38;5;132;01m}\u001b[39;00m\u001b[38;5;124m; support \u001b[39m\u001b[38;5;124m\"\u001b[39m\n\u001b[0;32m    298\u001b[0m         \u001b[38;5;124mf\u001b[39m\u001b[38;5;124m\"\u001b[39m\u001b[38;5;124mfor the old name will be dropped %(removal)s.\u001b[39m\u001b[38;5;124m\"\u001b[39m)\n\u001b[0;32m    299\u001b[0m     kwargs[new] \u001b[38;5;241m=\u001b[39m kwargs\u001b[38;5;241m.\u001b[39mpop(old)\n\u001b[1;32m--> 300\u001b[0m \u001b[38;5;28;01mreturn\u001b[39;00m \u001b[43mfunc\u001b[49m\u001b[43m(\u001b[49m\u001b[38;5;241;43m*\u001b[39;49m\u001b[43margs\u001b[49m\u001b[43m,\u001b[49m\u001b[43m \u001b[49m\u001b[38;5;241;43m*\u001b[39;49m\u001b[38;5;241;43m*\u001b[39;49m\u001b[43mkwargs\u001b[49m\u001b[43m)\u001b[49m\n",
      "File \u001b[1;32mc:\\Users\\synerjile\\AppData\\Local\\Programs\\Python\\Python312\\Lib\\site-packages\\matplotlib\\axes\\_axes.py:4039\u001b[0m, in \u001b[0;36mAxes.boxplot\u001b[1;34m(self, x, notch, sym, vert, whis, positions, widths, patch_artist, bootstrap, usermedians, conf_intervals, meanline, showmeans, showcaps, showbox, showfliers, boxprops, tick_labels, flierprops, medianprops, meanprops, capprops, whiskerprops, manage_ticks, autorange, zorder, capwidths, label)\u001b[0m\n\u001b[0;32m   4036\u001b[0m \u001b[38;5;28;01mif\u001b[39;00m bootstrap \u001b[38;5;129;01mis\u001b[39;00m \u001b[38;5;28;01mNone\u001b[39;00m:\n\u001b[0;32m   4037\u001b[0m     bootstrap \u001b[38;5;241m=\u001b[39m mpl\u001b[38;5;241m.\u001b[39mrcParams[\u001b[38;5;124m'\u001b[39m\u001b[38;5;124mboxplot.bootstrap\u001b[39m\u001b[38;5;124m'\u001b[39m]\n\u001b[1;32m-> 4039\u001b[0m bxpstats \u001b[38;5;241m=\u001b[39m \u001b[43mcbook\u001b[49m\u001b[38;5;241;43m.\u001b[39;49m\u001b[43mboxplot_stats\u001b[49m\u001b[43m(\u001b[49m\u001b[43mx\u001b[49m\u001b[43m,\u001b[49m\u001b[43m \u001b[49m\u001b[43mwhis\u001b[49m\u001b[38;5;241;43m=\u001b[39;49m\u001b[43mwhis\u001b[49m\u001b[43m,\u001b[49m\u001b[43m \u001b[49m\u001b[43mbootstrap\u001b[49m\u001b[38;5;241;43m=\u001b[39;49m\u001b[43mbootstrap\u001b[49m\u001b[43m,\u001b[49m\n\u001b[0;32m   4040\u001b[0m \u001b[43m                               \u001b[49m\u001b[43mlabels\u001b[49m\u001b[38;5;241;43m=\u001b[39;49m\u001b[43mtick_labels\u001b[49m\u001b[43m,\u001b[49m\u001b[43m \u001b[49m\u001b[43mautorange\u001b[49m\u001b[38;5;241;43m=\u001b[39;49m\u001b[43mautorange\u001b[49m\u001b[43m)\u001b[49m\n\u001b[0;32m   4041\u001b[0m \u001b[38;5;28;01mif\u001b[39;00m notch \u001b[38;5;129;01mis\u001b[39;00m \u001b[38;5;28;01mNone\u001b[39;00m:\n\u001b[0;32m   4042\u001b[0m     notch \u001b[38;5;241m=\u001b[39m mpl\u001b[38;5;241m.\u001b[39mrcParams[\u001b[38;5;124m'\u001b[39m\u001b[38;5;124mboxplot.notch\u001b[39m\u001b[38;5;124m'\u001b[39m]\n",
      "File \u001b[1;32mc:\\Users\\synerjile\\AppData\\Local\\Programs\\Python\\Python312\\Lib\\site-packages\\matplotlib\\cbook.py:1298\u001b[0m, in \u001b[0;36mboxplot_stats\u001b[1;34m(X, whis, bootstrap, labels, autorange)\u001b[0m\n\u001b[0;32m   1295\u001b[0m stats[\u001b[38;5;124m'\u001b[39m\u001b[38;5;124mmean\u001b[39m\u001b[38;5;124m'\u001b[39m] \u001b[38;5;241m=\u001b[39m np\u001b[38;5;241m.\u001b[39mmean(x)\n\u001b[0;32m   1297\u001b[0m \u001b[38;5;66;03m# medians and quartiles\u001b[39;00m\n\u001b[1;32m-> 1298\u001b[0m q1, med, q3 \u001b[38;5;241m=\u001b[39m \u001b[43mnp\u001b[49m\u001b[38;5;241;43m.\u001b[39;49m\u001b[43mpercentile\u001b[49m\u001b[43m(\u001b[49m\u001b[43mx\u001b[49m\u001b[43m,\u001b[49m\u001b[43m \u001b[49m\u001b[43m[\u001b[49m\u001b[38;5;241;43m25\u001b[39;49m\u001b[43m,\u001b[49m\u001b[43m \u001b[49m\u001b[38;5;241;43m50\u001b[39;49m\u001b[43m,\u001b[49m\u001b[43m \u001b[49m\u001b[38;5;241;43m75\u001b[39;49m\u001b[43m]\u001b[49m\u001b[43m)\u001b[49m\n\u001b[0;32m   1300\u001b[0m \u001b[38;5;66;03m# interquartile range\u001b[39;00m\n\u001b[0;32m   1301\u001b[0m stats[\u001b[38;5;124m'\u001b[39m\u001b[38;5;124miqr\u001b[39m\u001b[38;5;124m'\u001b[39m] \u001b[38;5;241m=\u001b[39m q3 \u001b[38;5;241m-\u001b[39m q1\n",
      "File \u001b[1;32mc:\\Users\\synerjile\\AppData\\Local\\Programs\\Python\\Python312\\Lib\\site-packages\\numpy\\lib\\function_base.py:4283\u001b[0m, in \u001b[0;36mpercentile\u001b[1;34m(a, q, axis, out, overwrite_input, method, keepdims, interpolation)\u001b[0m\n\u001b[0;32m   4281\u001b[0m \u001b[38;5;28;01mif\u001b[39;00m \u001b[38;5;129;01mnot\u001b[39;00m _quantile_is_valid(q):\n\u001b[0;32m   4282\u001b[0m     \u001b[38;5;28;01mraise\u001b[39;00m \u001b[38;5;167;01mValueError\u001b[39;00m(\u001b[38;5;124m\"\u001b[39m\u001b[38;5;124mPercentiles must be in the range [0, 100]\u001b[39m\u001b[38;5;124m\"\u001b[39m)\n\u001b[1;32m-> 4283\u001b[0m \u001b[38;5;28;01mreturn\u001b[39;00m \u001b[43m_quantile_unchecked\u001b[49m\u001b[43m(\u001b[49m\n\u001b[0;32m   4284\u001b[0m \u001b[43m    \u001b[49m\u001b[43ma\u001b[49m\u001b[43m,\u001b[49m\u001b[43m \u001b[49m\u001b[43mq\u001b[49m\u001b[43m,\u001b[49m\u001b[43m \u001b[49m\u001b[43maxis\u001b[49m\u001b[43m,\u001b[49m\u001b[43m \u001b[49m\u001b[43mout\u001b[49m\u001b[43m,\u001b[49m\u001b[43m \u001b[49m\u001b[43moverwrite_input\u001b[49m\u001b[43m,\u001b[49m\u001b[43m \u001b[49m\u001b[43mmethod\u001b[49m\u001b[43m,\u001b[49m\u001b[43m \u001b[49m\u001b[43mkeepdims\u001b[49m\u001b[43m)\u001b[49m\n",
      "File \u001b[1;32mc:\\Users\\synerjile\\AppData\\Local\\Programs\\Python\\Python312\\Lib\\site-packages\\numpy\\lib\\function_base.py:4555\u001b[0m, in \u001b[0;36m_quantile_unchecked\u001b[1;34m(a, q, axis, out, overwrite_input, method, keepdims)\u001b[0m\n\u001b[0;32m   4547\u001b[0m \u001b[38;5;28;01mdef\u001b[39;00m \u001b[38;5;21m_quantile_unchecked\u001b[39m(a,\n\u001b[0;32m   4548\u001b[0m                         q,\n\u001b[0;32m   4549\u001b[0m                         axis\u001b[38;5;241m=\u001b[39m\u001b[38;5;28;01mNone\u001b[39;00m,\n\u001b[1;32m   (...)\u001b[0m\n\u001b[0;32m   4552\u001b[0m                         method\u001b[38;5;241m=\u001b[39m\u001b[38;5;124m\"\u001b[39m\u001b[38;5;124mlinear\u001b[39m\u001b[38;5;124m\"\u001b[39m,\n\u001b[0;32m   4553\u001b[0m                         keepdims\u001b[38;5;241m=\u001b[39m\u001b[38;5;28;01mFalse\u001b[39;00m):\n\u001b[0;32m   4554\u001b[0m \u001b[38;5;250m    \u001b[39m\u001b[38;5;124;03m\"\"\"Assumes that q is in [0, 1], and is an ndarray\"\"\"\u001b[39;00m\n\u001b[1;32m-> 4555\u001b[0m     \u001b[38;5;28;01mreturn\u001b[39;00m \u001b[43m_ureduce\u001b[49m\u001b[43m(\u001b[49m\u001b[43ma\u001b[49m\u001b[43m,\u001b[49m\n\u001b[0;32m   4556\u001b[0m \u001b[43m                    \u001b[49m\u001b[43mfunc\u001b[49m\u001b[38;5;241;43m=\u001b[39;49m\u001b[43m_quantile_ureduce_func\u001b[49m\u001b[43m,\u001b[49m\n\u001b[0;32m   4557\u001b[0m \u001b[43m                    \u001b[49m\u001b[43mq\u001b[49m\u001b[38;5;241;43m=\u001b[39;49m\u001b[43mq\u001b[49m\u001b[43m,\u001b[49m\n\u001b[0;32m   4558\u001b[0m \u001b[43m                    \u001b[49m\u001b[43mkeepdims\u001b[49m\u001b[38;5;241;43m=\u001b[39;49m\u001b[43mkeepdims\u001b[49m\u001b[43m,\u001b[49m\n\u001b[0;32m   4559\u001b[0m \u001b[43m                    \u001b[49m\u001b[43maxis\u001b[49m\u001b[38;5;241;43m=\u001b[39;49m\u001b[43maxis\u001b[49m\u001b[43m,\u001b[49m\n\u001b[0;32m   4560\u001b[0m \u001b[43m                    \u001b[49m\u001b[43mout\u001b[49m\u001b[38;5;241;43m=\u001b[39;49m\u001b[43mout\u001b[49m\u001b[43m,\u001b[49m\n\u001b[0;32m   4561\u001b[0m \u001b[43m                    \u001b[49m\u001b[43moverwrite_input\u001b[49m\u001b[38;5;241;43m=\u001b[39;49m\u001b[43moverwrite_input\u001b[49m\u001b[43m,\u001b[49m\n\u001b[0;32m   4562\u001b[0m \u001b[43m                    \u001b[49m\u001b[43mmethod\u001b[49m\u001b[38;5;241;43m=\u001b[39;49m\u001b[43mmethod\u001b[49m\u001b[43m)\u001b[49m\n",
      "File \u001b[1;32mc:\\Users\\synerjile\\AppData\\Local\\Programs\\Python\\Python312\\Lib\\site-packages\\numpy\\lib\\function_base.py:3823\u001b[0m, in \u001b[0;36m_ureduce\u001b[1;34m(a, func, keepdims, **kwargs)\u001b[0m\n\u001b[0;32m   3820\u001b[0m             index_out \u001b[38;5;241m=\u001b[39m (\u001b[38;5;241m0\u001b[39m, ) \u001b[38;5;241m*\u001b[39m nd\n\u001b[0;32m   3821\u001b[0m             kwargs[\u001b[38;5;124m'\u001b[39m\u001b[38;5;124mout\u001b[39m\u001b[38;5;124m'\u001b[39m] \u001b[38;5;241m=\u001b[39m out[(\u001b[38;5;28mEllipsis\u001b[39m, ) \u001b[38;5;241m+\u001b[39m index_out]\n\u001b[1;32m-> 3823\u001b[0m r \u001b[38;5;241m=\u001b[39m \u001b[43mfunc\u001b[49m\u001b[43m(\u001b[49m\u001b[43ma\u001b[49m\u001b[43m,\u001b[49m\u001b[43m \u001b[49m\u001b[38;5;241;43m*\u001b[39;49m\u001b[38;5;241;43m*\u001b[39;49m\u001b[43mkwargs\u001b[49m\u001b[43m)\u001b[49m\n\u001b[0;32m   3825\u001b[0m \u001b[38;5;28;01mif\u001b[39;00m out \u001b[38;5;129;01mis\u001b[39;00m \u001b[38;5;129;01mnot\u001b[39;00m \u001b[38;5;28;01mNone\u001b[39;00m:\n\u001b[0;32m   3826\u001b[0m     \u001b[38;5;28;01mreturn\u001b[39;00m out\n",
      "File \u001b[1;32mc:\\Users\\synerjile\\AppData\\Local\\Programs\\Python\\Python312\\Lib\\site-packages\\numpy\\lib\\function_base.py:4722\u001b[0m, in \u001b[0;36m_quantile_ureduce_func\u001b[1;34m(a, q, axis, out, overwrite_input, method)\u001b[0m\n\u001b[0;32m   4720\u001b[0m     \u001b[38;5;28;01melse\u001b[39;00m:\n\u001b[0;32m   4721\u001b[0m         arr \u001b[38;5;241m=\u001b[39m a\u001b[38;5;241m.\u001b[39mcopy()\n\u001b[1;32m-> 4722\u001b[0m result \u001b[38;5;241m=\u001b[39m \u001b[43m_quantile\u001b[49m\u001b[43m(\u001b[49m\u001b[43marr\u001b[49m\u001b[43m,\u001b[49m\n\u001b[0;32m   4723\u001b[0m \u001b[43m                   \u001b[49m\u001b[43mquantiles\u001b[49m\u001b[38;5;241;43m=\u001b[39;49m\u001b[43mq\u001b[49m\u001b[43m,\u001b[49m\n\u001b[0;32m   4724\u001b[0m \u001b[43m                   \u001b[49m\u001b[43maxis\u001b[49m\u001b[38;5;241;43m=\u001b[39;49m\u001b[43maxis\u001b[49m\u001b[43m,\u001b[49m\n\u001b[0;32m   4725\u001b[0m \u001b[43m                   \u001b[49m\u001b[43mmethod\u001b[49m\u001b[38;5;241;43m=\u001b[39;49m\u001b[43mmethod\u001b[49m\u001b[43m,\u001b[49m\n\u001b[0;32m   4726\u001b[0m \u001b[43m                   \u001b[49m\u001b[43mout\u001b[49m\u001b[38;5;241;43m=\u001b[39;49m\u001b[43mout\u001b[49m\u001b[43m)\u001b[49m\n\u001b[0;32m   4727\u001b[0m \u001b[38;5;28;01mreturn\u001b[39;00m result\n",
      "File \u001b[1;32mc:\\Users\\synerjile\\AppData\\Local\\Programs\\Python\\Python312\\Lib\\site-packages\\numpy\\lib\\function_base.py:4838\u001b[0m, in \u001b[0;36m_quantile\u001b[1;34m(arr, quantiles, axis, method, out)\u001b[0m\n\u001b[0;32m   4836\u001b[0m \u001b[38;5;28mnext\u001b[39m \u001b[38;5;241m=\u001b[39m arr[next_indexes]\n\u001b[0;32m   4837\u001b[0m \u001b[38;5;66;03m# --- Linear interpolation\u001b[39;00m\n\u001b[1;32m-> 4838\u001b[0m gamma \u001b[38;5;241m=\u001b[39m \u001b[43m_get_gamma\u001b[49m\u001b[43m(\u001b[49m\u001b[43mvirtual_indexes\u001b[49m\u001b[43m,\u001b[49m\u001b[43m \u001b[49m\u001b[43mprevious_indexes\u001b[49m\u001b[43m,\u001b[49m\u001b[43m \u001b[49m\u001b[43mmethod\u001b[49m\u001b[43m)\u001b[49m\n\u001b[0;32m   4839\u001b[0m result_shape \u001b[38;5;241m=\u001b[39m virtual_indexes\u001b[38;5;241m.\u001b[39mshape \u001b[38;5;241m+\u001b[39m (\u001b[38;5;241m1\u001b[39m,) \u001b[38;5;241m*\u001b[39m (arr\u001b[38;5;241m.\u001b[39mndim \u001b[38;5;241m-\u001b[39m \u001b[38;5;241m1\u001b[39m)\n\u001b[0;32m   4840\u001b[0m gamma \u001b[38;5;241m=\u001b[39m gamma\u001b[38;5;241m.\u001b[39mreshape(result_shape)\n",
      "File \u001b[1;32mc:\\Users\\synerjile\\AppData\\Local\\Programs\\Python\\Python312\\Lib\\site-packages\\numpy\\lib\\function_base.py:4619\u001b[0m, in \u001b[0;36m_get_gamma\u001b[1;34m(virtual_indexes, previous_indexes, method)\u001b[0m\n\u001b[0;32m   4595\u001b[0m \u001b[38;5;250m    \u001b[39m\u001b[38;5;124;03m\"\"\"\u001b[39;00m\n\u001b[0;32m   4596\u001b[0m \u001b[38;5;124;03m    Compute the floating point indexes of an array for the linear\u001b[39;00m\n\u001b[0;32m   4597\u001b[0m \u001b[38;5;124;03m    interpolation of quantiles.\u001b[39;00m\n\u001b[1;32m   (...)\u001b[0m\n\u001b[0;32m   4612\u001b[0m \u001b[38;5;124;03m    DOI: 10.1080/00031305.1996.10473566\u001b[39;00m\n\u001b[0;32m   4613\u001b[0m \u001b[38;5;124;03m    \"\"\"\u001b[39;00m\n\u001b[0;32m   4614\u001b[0m     \u001b[38;5;28;01mreturn\u001b[39;00m n \u001b[38;5;241m*\u001b[39m quantiles \u001b[38;5;241m+\u001b[39m (\n\u001b[0;32m   4615\u001b[0m             alpha \u001b[38;5;241m+\u001b[39m quantiles \u001b[38;5;241m*\u001b[39m (\u001b[38;5;241m1\u001b[39m \u001b[38;5;241m-\u001b[39m alpha \u001b[38;5;241m-\u001b[39m beta)\n\u001b[0;32m   4616\u001b[0m     ) \u001b[38;5;241m-\u001b[39m \u001b[38;5;241m1\u001b[39m\n\u001b[1;32m-> 4619\u001b[0m \u001b[38;5;28;01mdef\u001b[39;00m \u001b[38;5;21m_get_gamma\u001b[39m(virtual_indexes, previous_indexes, method):\n\u001b[0;32m   4620\u001b[0m \u001b[38;5;250m    \u001b[39m\u001b[38;5;124;03m\"\"\"\u001b[39;00m\n\u001b[0;32m   4621\u001b[0m \u001b[38;5;124;03m    Compute gamma (a.k.a 'm' or 'weight') for the linear interpolation\u001b[39;00m\n\u001b[0;32m   4622\u001b[0m \u001b[38;5;124;03m    of quantiles.\u001b[39;00m\n\u001b[1;32m   (...)\u001b[0m\n\u001b[0;32m   4634\u001b[0m \u001b[38;5;124;03m    by the interpolation method.\u001b[39;00m\n\u001b[0;32m   4635\u001b[0m \u001b[38;5;124;03m    \"\"\"\u001b[39;00m\n\u001b[0;32m   4636\u001b[0m     gamma \u001b[38;5;241m=\u001b[39m np\u001b[38;5;241m.\u001b[39masanyarray(virtual_indexes \u001b[38;5;241m-\u001b[39m previous_indexes)\n",
      "\u001b[1;31mKeyboardInterrupt\u001b[0m: "
     ]
    },
    {
     "data": {
      "image/png": "[encoded data removed]",
      "text/plain": [
       "<Figure size 640x480 with 1 Axes>"
      ]
     },
     "metadata": {},
     "output_type": "display_data"
    }
   ],
   "source": [
    "dfSource.boxplot(column=['price'],vert=False)"
   ]
  },
  {
   "cell_type": "code",
   "execution_count": null,
   "metadata": {},
   "outputs": [
    {
     "data": {
      "image/png": "[encoded data removed]",
      "text/plain": [
       "<Figure size 640x480 with 1 Axes>"
      ]
     },
     "metadata": {},
     "output_type": "display_data"
    }
   ],
   "source": [
    "dfSource=removeOutliersByThresholdValue(dfSource,'price',threshold_value=5000,draw_plot=True)"
   ]
  },
  {
   "cell_type": "markdown",
   "metadata": {},
   "source": [
    "<h4>Check for Outlier: minimum_nights</h4>"
   ]
  },
  {
   "cell_type": "code",
   "execution_count": null,
   "metadata": {},
   "outputs": [
    {
     "data": {
      "text/plain": [
       "<Axes: >"
      ]
     },
     "execution_count": 632,
     "metadata": {},
     "output_type": "execute_result"
    },
    {
     "data": {
      "image/png": "[encoded data removed]",
      "text/plain": [
       "<Figure size 640x480 with 1 Axes>"
      ]
     },
     "metadata": {},
     "output_type": "display_data"
    }
   ],
   "source": [
    "dfSource.boxplot(column='minimum_nights',vert=False)"
   ]
  },
  {
   "cell_type": "code",
   "execution_count": null,
   "metadata": {},
   "outputs": [
    {
     "data": {
      "image/png": "[encoded data removed]",
      "text/plain": [
       "<Figure size 640x480 with 1 Axes>"
      ]
     },
     "metadata": {},
     "output_type": "display_data"
    }
   ],
   "source": [
    "#Removing minimum_nights above 365 considering a host may demand minimum 1 Year as max limit\n",
    "dfSource=removeOutliersByThresholdValue(dfSource,'minimum_nights',threshold_value=365,draw_plot=True)\n",
    "\n",
    "\n"
   ]
  },
  {
   "cell_type": "markdown",
   "metadata": {},
   "source": [
    "<h4>Check for Outlier: reviews_per_month</h4>"
   ]
  },
  {
   "cell_type": "code",
   "execution_count": null,
   "metadata": {},
   "outputs": [
    {
     "data": {
      "text/plain": [
       "<Axes: >"
      ]
     },
     "execution_count": 634,
     "metadata": {},
     "output_type": "execute_result"
    },
    {
     "data": {
      "image/png": "[encoded data removed]",
      "text/plain": [
       "<Figure size 640x480 with 1 Axes>"
      ]
     },
     "metadata": {},
     "output_type": "display_data"
    }
   ],
   "source": [
    "dfSource.boxplot(column='reviews_per_month',vert=False)"
   ]
  },
  {
   "cell_type": "code",
   "execution_count": null,
   "metadata": {},
   "outputs": [
    {
     "data": {
      "image/png": "[encoded data removed]",
      "text/plain": [
       "<Figure size 640x480 with 1 Axes>"
      ]
     },
     "metadata": {},
     "output_type": "display_data"
    }
   ],
   "source": [
    "dfSource=removeOutliersByThresholdValue(dfSource,'reviews_per_month',threshold_value=20,draw_plot=True)\n"
   ]
  },
  {
   "cell_type": "markdown",
   "metadata": {},
   "source": [
    "<h4>Check for Outlier: number_of_reviews</h4>\n"
   ]
  },
  {
   "cell_type": "code",
   "execution_count": null,
   "metadata": {},
   "outputs": [
    {
     "data": {
      "text/plain": [
       "<Axes: >"
      ]
     },
     "execution_count": 636,
     "metadata": {},
     "output_type": "execute_result"
    },
    {
     "data": {
      "image/png": "[encoded data removed]",
      "text/plain": [
       "<Figure size 640x480 with 1 Axes>"
      ]
     },
     "metadata": {},
     "output_type": "display_data"
    }
   ],
   "source": [
    "dfSource.boxplot(column='number_of_reviews',vert=False)\n"
   ]
  },
  {
   "cell_type": "code",
   "execution_count": null,
   "metadata": {},
   "outputs": [
    {
     "data": {
      "image/png": "[encoded data removed]",
      "text/plain": [
       "<Figure size 640x480 with 1 Axes>"
      ]
     },
     "metadata": {},
     "output_type": "display_data"
    }
   ],
   "source": [
    "dfSource=removeOutliersByThresholdValue(dfSource,'number_of_reviews',threshold_value=500,draw_plot=True)\n"
   ]
  },
  {
   "cell_type": "markdown",
   "metadata": {},
   "source": [
    "<h4>Check for Outlier: calculated_host_listings_count</h4>\n"
   ]
  },
  {
   "cell_type": "code",
   "execution_count": null,
   "metadata": {},
   "outputs": [
    {
     "data": {
      "text/plain": [
       "<Axes: >"
      ]
     },
     "execution_count": 638,
     "metadata": {},
     "output_type": "execute_result"
    },
    {
     "data": {
      "image/png": "[encoded data removed]",
      "text/plain": [
       "<Figure size 640x480 with 1 Axes>"
      ]
     },
     "metadata": {},
     "output_type": "display_data"
    }
   ],
   "source": [
    "dfSource.boxplot(column='calculated_host_listings_count',vert=False)\n"
   ]
  },
  {
   "cell_type": "code",
   "execution_count": null,
   "metadata": {},
   "outputs": [
    {
     "data": {
      "image/png": "[encoded data removed]",
      "text/plain": [
       "<Figure size 640x480 with 1 Axes>"
      ]
     },
     "metadata": {},
     "output_type": "display_data"
    }
   ],
   "source": [
    "dfSource=removeOutliersByThresholdValue(dfSource,'calculated_host_listings_count',threshold_value=50,draw_plot=True)\n"
   ]
  },
  {
   "cell_type": "markdown",
   "metadata": {},
   "source": [
    "<h4>Check for Outlier: availability_365</h4>\n"
   ]
  },
  {
   "cell_type": "code",
   "execution_count": null,
   "metadata": {},
   "outputs": [],
   "source": [
    "#dfSource.boxplot(column='availability_365',vert=False)\n",
    "#looks okay no outliers\n"
   ]
  },
  {
   "cell_type": "markdown",
   "metadata": {},
   "source": [
    "<h4> Add Additional Columns - for Grouping</h4>"
   ]
  },
  {
   "cell_type": "code",
   "execution_count": null,
   "metadata": {},
   "outputs": [
    {
     "data": {
      "text/html": [
       "<div>\n",
       "<style scoped>\n",
       "    .dataframe tbody tr th:only-of-type {\n",
       "        vertical-align: middle;\n",
       "    }\n",
       "\n",
       "    .dataframe tbody tr th {\n",
       "        vertical-align: top;\n",
       "    }\n",
       "\n",
       "    .dataframe thead th {\n",
       "        text-align: right;\n",
       "    }\n",
       "</style>\n",
       "<table border=\"1\" class=\"dataframe\">\n",
       "  <thead>\n",
       "    <tr style=\"text-align: right;\">\n",
       "      <th></th>\n",
       "      <th>id</th>\n",
       "      <th>name</th>\n",
       "      <th>host_id</th>\n",
       "      <th>host_name</th>\n",
       "      <th>neighbourhood_group</th>\n",
       "      <th>neighbourhood</th>\n",
       "      <th>latitude</th>\n",
       "      <th>longitude</th>\n",
       "      <th>room_type</th>\n",
       "      <th>price</th>\n",
       "      <th>...</th>\n",
       "      <th>availability_365</th>\n",
       "      <th>last_review_date</th>\n",
       "      <th>last_review_Year</th>\n",
       "      <th>last_review_month</th>\n",
       "      <th>last_review_elapsed</th>\n",
       "      <th>pricegroup</th>\n",
       "      <th>availability_365group</th>\n",
       "      <th>reviews_per_monthgroup</th>\n",
       "      <th>minimum_nightsgroup</th>\n",
       "      <th>number_of_reviewsgroup</th>\n",
       "    </tr>\n",
       "  </thead>\n",
       "  <tbody>\n",
       "    <tr>\n",
       "      <th>0</th>\n",
       "      <td>2539</td>\n",
       "      <td>Clean &amp; quiet apt home by the park</td>\n",
       "      <td>2787</td>\n",
       "      <td>John</td>\n",
       "      <td>Brooklyn</td>\n",
       "      <td>Kensington</td>\n",
       "      <td>40.64749</td>\n",
       "      <td>-73.97237</td>\n",
       "      <td>Private room</td>\n",
       "      <td>149</td>\n",
       "      <td>...</td>\n",
       "      <td>365</td>\n",
       "      <td>2018-10-19</td>\n",
       "      <td>2018</td>\n",
       "      <td>10</td>\n",
       "      <td>2333.0</td>\n",
       "      <td>0-300</td>\n",
       "      <td>300-400</td>\n",
       "      <td>0-2</td>\n",
       "      <td>1-30</td>\n",
       "      <td>0-60</td>\n",
       "    </tr>\n",
       "    <tr>\n",
       "      <th>1</th>\n",
       "      <td>2595</td>\n",
       "      <td>Skylit Midtown Castle</td>\n",
       "      <td>2845</td>\n",
       "      <td>Jennifer</td>\n",
       "      <td>Manhattan</td>\n",
       "      <td>Midtown</td>\n",
       "      <td>40.75362</td>\n",
       "      <td>-73.98377</td>\n",
       "      <td>Entire home/apt</td>\n",
       "      <td>225</td>\n",
       "      <td>...</td>\n",
       "      <td>355</td>\n",
       "      <td>2019-05-21</td>\n",
       "      <td>2019</td>\n",
       "      <td>05</td>\n",
       "      <td>2119.0</td>\n",
       "      <td>0-300</td>\n",
       "      <td>300-400</td>\n",
       "      <td>0-2</td>\n",
       "      <td>1-30</td>\n",
       "      <td>0-60</td>\n",
       "    </tr>\n",
       "    <tr>\n",
       "      <th>2</th>\n",
       "      <td>3647</td>\n",
       "      <td>THE VILLAGE OF HARLEM....NEW YORK !</td>\n",
       "      <td>4632</td>\n",
       "      <td>Elisabeth</td>\n",
       "      <td>Manhattan</td>\n",
       "      <td>Harlem</td>\n",
       "      <td>40.80902</td>\n",
       "      <td>-73.94190</td>\n",
       "      <td>Private room</td>\n",
       "      <td>150</td>\n",
       "      <td>...</td>\n",
       "      <td>365</td>\n",
       "      <td>NaT</td>\n",
       "      <td>NaN</td>\n",
       "      <td>NaN</td>\n",
       "      <td>0.0</td>\n",
       "      <td>0-300</td>\n",
       "      <td>300-400</td>\n",
       "      <td>0-2</td>\n",
       "      <td>1-30</td>\n",
       "      <td>0-60</td>\n",
       "    </tr>\n",
       "    <tr>\n",
       "      <th>3</th>\n",
       "      <td>3831</td>\n",
       "      <td>Cozy Entire Floor of Brownstone</td>\n",
       "      <td>4869</td>\n",
       "      <td>LisaRoxanne</td>\n",
       "      <td>Brooklyn</td>\n",
       "      <td>Clinton Hill</td>\n",
       "      <td>40.68514</td>\n",
       "      <td>-73.95976</td>\n",
       "      <td>Entire home/apt</td>\n",
       "      <td>89</td>\n",
       "      <td>...</td>\n",
       "      <td>194</td>\n",
       "      <td>2019-07-05</td>\n",
       "      <td>2019</td>\n",
       "      <td>07</td>\n",
       "      <td>2074.0</td>\n",
       "      <td>0-300</td>\n",
       "      <td>100-200</td>\n",
       "      <td>2-4</td>\n",
       "      <td>1-30</td>\n",
       "      <td>Greater Than 120</td>\n",
       "    </tr>\n",
       "    <tr>\n",
       "      <th>4</th>\n",
       "      <td>5022</td>\n",
       "      <td>Entire Apt: Spacious Studio/Loft by central park</td>\n",
       "      <td>7192</td>\n",
       "      <td>Laura</td>\n",
       "      <td>Manhattan</td>\n",
       "      <td>East Harlem</td>\n",
       "      <td>40.79851</td>\n",
       "      <td>-73.94399</td>\n",
       "      <td>Entire home/apt</td>\n",
       "      <td>80</td>\n",
       "      <td>...</td>\n",
       "      <td>0</td>\n",
       "      <td>2018-11-19</td>\n",
       "      <td>2018</td>\n",
       "      <td>11</td>\n",
       "      <td>2302.0</td>\n",
       "      <td>0-300</td>\n",
       "      <td>0-100</td>\n",
       "      <td>0-2</td>\n",
       "      <td>1-30</td>\n",
       "      <td>0-60</td>\n",
       "    </tr>\n",
       "  </tbody>\n",
       "</table>\n",
       "<p>5 rows × 25 columns</p>\n",
       "</div>"
      ],
      "text/plain": [
       "     id                                              name  host_id  \\\n",
       "0  2539                Clean & quiet apt home by the park     2787   \n",
       "1  2595                             Skylit Midtown Castle     2845   \n",
       "2  3647               THE VILLAGE OF HARLEM....NEW YORK !     4632   \n",
       "3  3831                   Cozy Entire Floor of Brownstone     4869   \n",
       "4  5022  Entire Apt: Spacious Studio/Loft by central park     7192   \n",
       "\n",
       "     host_name neighbourhood_group neighbourhood  latitude  longitude  \\\n",
       "0         John            Brooklyn    Kensington  40.64749  -73.97237   \n",
       "1     Jennifer           Manhattan       Midtown  40.75362  -73.98377   \n",
       "2    Elisabeth           Manhattan        Harlem  40.80902  -73.94190   \n",
       "3  LisaRoxanne            Brooklyn  Clinton Hill  40.68514  -73.95976   \n",
       "4        Laura           Manhattan   East Harlem  40.79851  -73.94399   \n",
       "\n",
       "         room_type  price  ...  availability_365  last_review_date  \\\n",
       "0     Private room    149  ...               365        2018-10-19   \n",
       "1  Entire home/apt    225  ...               355        2019-05-21   \n",
       "2     Private room    150  ...               365               NaT   \n",
       "3  Entire home/apt     89  ...               194        2019-07-05   \n",
       "4  Entire home/apt     80  ...                 0        2018-11-19   \n",
       "\n",
       "  last_review_Year  last_review_month  last_review_elapsed  pricegroup  \\\n",
       "0             2018                 10               2333.0       0-300   \n",
       "1             2019                 05               2119.0       0-300   \n",
       "2              NaN                NaN                  0.0       0-300   \n",
       "3             2019                 07               2074.0       0-300   \n",
       "4             2018                 11               2302.0       0-300   \n",
       "\n",
       "  availability_365group reviews_per_monthgroup minimum_nightsgroup  \\\n",
       "0               300-400                    0-2                1-30   \n",
       "1               300-400                    0-2                1-30   \n",
       "2               300-400                    0-2                1-30   \n",
       "3               100-200                    2-4                1-30   \n",
       "4                 0-100                    0-2                1-30   \n",
       "\n",
       "   number_of_reviewsgroup  \n",
       "0                    0-60  \n",
       "1                    0-60  \n",
       "2                    0-60  \n",
       "3        Greater Than 120  \n",
       "4                    0-60  \n",
       "\n",
       "[5 rows x 25 columns]"
      ]
     },
     "execution_count": 641,
     "metadata": {},
     "output_type": "execute_result"
    }
   ],
   "source": [
    "createBinValues(dfSource,'price',300,_StopMaxValue=1200)\n",
    "createBinValues(dfSource,'availability_365',100)\n",
    "createBinValues(dfSource,'reviews_per_month',2,_StopMaxValue=8)\n",
    "createBinValues(dfSource,'minimum_nights',29,_StopMaxValue=30)\n",
    "createBinValues(dfSource,'number_of_reviews',60,_StopMaxValue=120)\n",
    "\n",
    "dfSource.head()"
   ]
  },
  {
   "cell_type": "markdown",
   "metadata": {},
   "source": [
    "<h4>Extract Feature Information from listing Name like : Bedrooms and check for additional Features like Furnished etc., </h4>"
   ]
  },
  {
   "cell_type": "code",
   "execution_count": null,
   "metadata": {},
   "outputs": [
    {
     "data": {
      "text/plain": [
       "['one',\n",
       " 'two',\n",
       " 'three',\n",
       " 'four',\n",
       " 'five',\n",
       " 'six',\n",
       " 'seven',\n",
       " 'eight',\n",
       " 'nine',\n",
       " 'ten',\n",
       " 'zero']"
      ]
     },
     "execution_count": 642,
     "metadata": {},
     "output_type": "execute_result"
    }
   ],
   "source": [
    "words_to_numbers={\n",
    "    'one':1,\n",
    "    'two':2,\n",
    "    'three':3,\n",
    "    'four':4,\n",
    "    'five':5,\n",
    "    'six':6,\n",
    "    'seven':7,\n",
    "    'eight':8,\n",
    "    'nine':9,\n",
    "    'ten':10,\n",
    "    'zero':0\n",
    "}\n",
    "list(words_to_numbers.keys())"
   ]
  },
  {
   "cell_type": "code",
   "execution_count": null,
   "metadata": {},
   "outputs": [],
   "source": [
    "import re\n",
    "dfSource['Bedroom']=''\n",
    "dfSource['Bedroom_Matched']=0\n",
    "words_to_numbers={\n",
    "    'one':1,\n",
    "    'two':2,\n",
    "    'three':3,\n",
    "    'four':4,\n",
    "    'five':5,\n",
    "    'six':6,\n",
    "    'seven':7,\n",
    "    'eight':8,\n",
    "    'nine':9,\n",
    "    'ten':10,\n",
    "    'zero':0\n",
    "}\n",
    "rowIndex=0\n",
    "_listSource=list(dfSource['name'].unique())\n",
    "for _currentstr in _listSource:\n",
    "    try:\n",
    "        listOfStrings=[\" br \",\"bedroom\",\"bdrm\",\"bed room\",\"br\",\"bed\"]\n",
    "        _matchString=_currentstr.lower()\n",
    "        _matchString=re.sub('[^a-zA-Z0-9 \\n\\.]',' ',_matchString)\n",
    "        matchExists=any(substring in _currentstr.lower() for substring in listOfStrings)\n",
    "        if matchExists==True:\n",
    "            dfSource.at[rowIndex,\"Bedroom_Matched\"]=1\n",
    "            _tokens=_matchString.split(\" \")\n",
    "            _columnIndex=0\n",
    "            for _token in _tokens:\n",
    "                result=re.search(r\"(^[0-9].*br$)|(^[0-9]{1}.*br$)|(.*bedroom*)|(.*bdrm*)\",_token,re.IGNORECASE)\n",
    "                if result!=None:\n",
    "                    _prev=_tokens[_columnIndex-1].lower()\n",
    "                    _bedroomNumber=''\n",
    "                    if _prev.isdigit():\n",
    "                        _bedroomNumber=_prev\n",
    "                    if _prev in list(words_to_numbers.keys()):\n",
    "                        _bedroomNUmber=words_to_numbers[_prev]\n",
    "                    if _bedroomNumber=='':\n",
    "                        _bedroomNumber='1'\n",
    "                    if _bedroomNumber!='':\n",
    "                        dfSource.at[rowIndex,\"Bedroom\"]=_bedroomNumber\n",
    "                _columnIndex=_columnIndex+1\n",
    "    except:\n",
    "        continue\n",
    "    rowIndex=rowIndex+1\n",
    "\n"
   ]
  },
  {
   "cell_type": "code",
   "execution_count": null,
   "metadata": {},
   "outputs": [
    {
     "data": {
      "text/plain": [
       "Bedroom\n",
       "      36837\n",
       "1      9063\n",
       "2      1363\n",
       "3       442\n",
       "4        91\n",
       "5        23\n",
       "6        10\n",
       "7         4\n",
       "14        1\n",
       "8         1\n",
       "01        1\n",
       "Name: count, dtype: int64"
      ]
     },
     "execution_count": 644,
     "metadata": {},
     "output_type": "execute_result"
    }
   ],
   "source": [
    "dfSource['Bedroom'].value_counts()"
   ]
  },
  {
   "cell_type": "code",
   "execution_count": null,
   "metadata": {},
   "outputs": [],
   "source": [
    "dfSource['name']=dfSource['name'].astype(str)\n",
    "dfSource['Furnished']=dfSource['name'].apply(lambda x: 1 if 'furn' in x.lower() else 0)\n",
    "dfSource['Has_Gym']=dfSource['name'].apply(lambda x: 1 if 'gym' in x.lower() else 0)\n",
    "dfSource['Gender_Spec']=dfSource['name'].apply(lambda x: 1 if any(substring in x.lower() for substring in ['guys','male','female','woman']) else 0)\n",
    "dfSource['Landmark_Spec']=dfSource['name'].apply(lambda x: 1 if any(substring in x.lower() for substring in ['near','stop','mins','minute','from']) else 0)\n",
    "dfSource['Event_Spec']=dfSource['name'].apply(lambda x: 1 if any(substring in x.lower() for substring in ['superbowl','super bowl']) else 0)\n",
    "dfSource['Bedroom_Spec']=dfSource['Bedroom'].apply(lambda x: 1 if x!='' else 0)"
   ]
  },
  {
   "cell_type": "code",
   "execution_count": null,
   "metadata": {},
   "outputs": [],
   "source": [
    "dfSource.to_csv('AB_NYC_Analysed.csv',index=False)"
   ]
  },
  {
   "cell_type": "code",
   "execution_count": null,
   "metadata": {},
   "outputs": [
    {
     "data": {
      "text/plain": [
       "['id',\n",
       " 'host_id',\n",
       " 'latitude',\n",
       " 'longitude',\n",
       " 'price',\n",
       " 'minimum_nights',\n",
       " 'number_of_reviews',\n",
       " 'reviews_per_month',\n",
       " 'calculated_host_listings_count',\n",
       " 'availability_365',\n",
       " 'last_review_elapsed',\n",
       " 'Bedroom_Matched',\n",
       " 'Furnished',\n",
       " 'Has_Gym',\n",
       " 'Gender_Spec',\n",
       " 'Landmark_Spec',\n",
       " 'Event_Spec',\n",
       " 'Bedroom_Spec']"
      ]
     },
     "execution_count": 647,
     "metadata": {},
     "output_type": "execute_result"
    }
   ],
   "source": [
    "getColumnsByType(dfSource,'numeric')"
   ]
  },
  {
   "cell_type": "code",
   "execution_count": null,
   "metadata": {},
   "outputs": [],
   "source": [
    "numeric_columns=['price',\n",
    " 'minimum_nights',\n",
    " 'number_of_reviews',\n",
    " 'reviews_per_month',\n",
    " 'calculated_host_listings_count',\n",
    " 'availability_365',\n",
    " 'last_review_elapsed',\n",
    " 'Bedroom_Spec',\n",
    " 'Furnished',\n",
    " 'Has_Gym',\n",
    " 'Gender_Spec',\n",
    " 'Landmark_Spec',\n",
    " 'Event_Spec',\n",
    " 'Bedroom_Spec']"
   ]
  },
  {
   "cell_type": "code",
   "execution_count": null,
   "metadata": {},
   "outputs": [
    {
     "data": {
      "image/png": "[encoded data removed]",
      "text/plain": [
       "<Figure size 2500x2500 with 2 Axes>"
      ]
     },
     "metadata": {},
     "output_type": "display_data"
    }
   ],
   "source": [
    "plt.figure(figsize=(25,25))\n",
    "sns.heatmap(dfSource[numeric_columns].corr(),annot=True,cmap='Greens')\n",
    "plt.show()"
   ]
  },
  {
   "cell_type": "code",
   "execution_count": null,
   "metadata": {},
   "outputs": [
    {
     "data": {
      "text/html": [
       "<div>\n",
       "<style scoped>\n",
       "    .dataframe tbody tr th:only-of-type {\n",
       "        vertical-align: middle;\n",
       "    }\n",
       "\n",
       "    .dataframe tbody tr th {\n",
       "        vertical-align: top;\n",
       "    }\n",
       "\n",
       "    .dataframe thead th {\n",
       "        text-align: right;\n",
       "    }\n",
       "</style>\n",
       "<table border=\"1\" class=\"dataframe\">\n",
       "  <thead>\n",
       "    <tr style=\"text-align: right;\">\n",
       "      <th></th>\n",
       "      <th>price</th>\n",
       "      <th>minimum_nights</th>\n",
       "      <th>number_of_reviews</th>\n",
       "      <th>reviews_per_month</th>\n",
       "      <th>calculated_host_listings_count</th>\n",
       "      <th>availability_365</th>\n",
       "      <th>last_review_elapsed</th>\n",
       "      <th>Bedroom_Spec</th>\n",
       "      <th>Furnished</th>\n",
       "      <th>Has_Gym</th>\n",
       "      <th>Gender_Spec</th>\n",
       "      <th>Landmark_Spec</th>\n",
       "      <th>Event_Spec</th>\n",
       "      <th>Bedroom_Spec</th>\n",
       "    </tr>\n",
       "  </thead>\n",
       "  <tbody>\n",
       "    <tr>\n",
       "      <th>0</th>\n",
       "      <td>149.0</td>\n",
       "      <td>1.0</td>\n",
       "      <td>9.0</td>\n",
       "      <td>0.0</td>\n",
       "      <td>6.0</td>\n",
       "      <td>365.0</td>\n",
       "      <td>2333.0</td>\n",
       "      <td>0</td>\n",
       "      <td>0</td>\n",
       "      <td>0</td>\n",
       "      <td>0</td>\n",
       "      <td>0</td>\n",
       "      <td>0</td>\n",
       "      <td>0</td>\n",
       "    </tr>\n",
       "    <tr>\n",
       "      <th>1</th>\n",
       "      <td>225.0</td>\n",
       "      <td>1.0</td>\n",
       "      <td>45.0</td>\n",
       "      <td>0.0</td>\n",
       "      <td>2.0</td>\n",
       "      <td>355.0</td>\n",
       "      <td>2119.0</td>\n",
       "      <td>0</td>\n",
       "      <td>0</td>\n",
       "      <td>0</td>\n",
       "      <td>0</td>\n",
       "      <td>0</td>\n",
       "      <td>0</td>\n",
       "      <td>0</td>\n",
       "    </tr>\n",
       "    <tr>\n",
       "      <th>2</th>\n",
       "      <td>150.0</td>\n",
       "      <td>3.0</td>\n",
       "      <td>0.0</td>\n",
       "      <td>0.0</td>\n",
       "      <td>1.0</td>\n",
       "      <td>365.0</td>\n",
       "      <td>0.0</td>\n",
       "      <td>0</td>\n",
       "      <td>0</td>\n",
       "      <td>0</td>\n",
       "      <td>0</td>\n",
       "      <td>0</td>\n",
       "      <td>0</td>\n",
       "      <td>0</td>\n",
       "    </tr>\n",
       "    <tr>\n",
       "      <th>3</th>\n",
       "      <td>89.0</td>\n",
       "      <td>1.0</td>\n",
       "      <td>270.0</td>\n",
       "      <td>4.0</td>\n",
       "      <td>1.0</td>\n",
       "      <td>194.0</td>\n",
       "      <td>2074.0</td>\n",
       "      <td>0</td>\n",
       "      <td>0</td>\n",
       "      <td>0</td>\n",
       "      <td>0</td>\n",
       "      <td>0</td>\n",
       "      <td>0</td>\n",
       "      <td>0</td>\n",
       "    </tr>\n",
       "    <tr>\n",
       "      <th>4</th>\n",
       "      <td>80.0</td>\n",
       "      <td>10.0</td>\n",
       "      <td>9.0</td>\n",
       "      <td>0.0</td>\n",
       "      <td>1.0</td>\n",
       "      <td>0.0</td>\n",
       "      <td>2302.0</td>\n",
       "      <td>0</td>\n",
       "      <td>0</td>\n",
       "      <td>0</td>\n",
       "      <td>0</td>\n",
       "      <td>0</td>\n",
       "      <td>0</td>\n",
       "      <td>0</td>\n",
       "    </tr>\n",
       "    <tr>\n",
       "      <th>...</th>\n",
       "      <td>...</td>\n",
       "      <td>...</td>\n",
       "      <td>...</td>\n",
       "      <td>...</td>\n",
       "      <td>...</td>\n",
       "      <td>...</td>\n",
       "      <td>...</td>\n",
       "      <td>...</td>\n",
       "      <td>...</td>\n",
       "      <td>...</td>\n",
       "      <td>...</td>\n",
       "      <td>...</td>\n",
       "      <td>...</td>\n",
       "      <td>...</td>\n",
       "    </tr>\n",
       "    <tr>\n",
       "      <th>45949</th>\n",
       "      <td>0.0</td>\n",
       "      <td>0.0</td>\n",
       "      <td>0.0</td>\n",
       "      <td>0.0</td>\n",
       "      <td>0.0</td>\n",
       "      <td>0.0</td>\n",
       "      <td>0.0</td>\n",
       "      <td>1</td>\n",
       "      <td>0</td>\n",
       "      <td>0</td>\n",
       "      <td>0</td>\n",
       "      <td>0</td>\n",
       "      <td>0</td>\n",
       "      <td>1</td>\n",
       "    </tr>\n",
       "    <tr>\n",
       "      <th>45953</th>\n",
       "      <td>0.0</td>\n",
       "      <td>0.0</td>\n",
       "      <td>0.0</td>\n",
       "      <td>0.0</td>\n",
       "      <td>0.0</td>\n",
       "      <td>0.0</td>\n",
       "      <td>0.0</td>\n",
       "      <td>1</td>\n",
       "      <td>0</td>\n",
       "      <td>0</td>\n",
       "      <td>0</td>\n",
       "      <td>0</td>\n",
       "      <td>0</td>\n",
       "      <td>1</td>\n",
       "    </tr>\n",
       "    <tr>\n",
       "      <th>45955</th>\n",
       "      <td>0.0</td>\n",
       "      <td>0.0</td>\n",
       "      <td>0.0</td>\n",
       "      <td>0.0</td>\n",
       "      <td>0.0</td>\n",
       "      <td>0.0</td>\n",
       "      <td>0.0</td>\n",
       "      <td>1</td>\n",
       "      <td>0</td>\n",
       "      <td>0</td>\n",
       "      <td>0</td>\n",
       "      <td>0</td>\n",
       "      <td>0</td>\n",
       "      <td>1</td>\n",
       "    </tr>\n",
       "    <tr>\n",
       "      <th>45959</th>\n",
       "      <td>0.0</td>\n",
       "      <td>0.0</td>\n",
       "      <td>0.0</td>\n",
       "      <td>0.0</td>\n",
       "      <td>0.0</td>\n",
       "      <td>0.0</td>\n",
       "      <td>0.0</td>\n",
       "      <td>1</td>\n",
       "      <td>0</td>\n",
       "      <td>0</td>\n",
       "      <td>0</td>\n",
       "      <td>0</td>\n",
       "      <td>0</td>\n",
       "      <td>1</td>\n",
       "    </tr>\n",
       "    <tr>\n",
       "      <th>46310</th>\n",
       "      <td>0.0</td>\n",
       "      <td>0.0</td>\n",
       "      <td>0.0</td>\n",
       "      <td>0.0</td>\n",
       "      <td>0.0</td>\n",
       "      <td>0.0</td>\n",
       "      <td>0.0</td>\n",
       "      <td>1</td>\n",
       "      <td>0</td>\n",
       "      <td>0</td>\n",
       "      <td>0</td>\n",
       "      <td>0</td>\n",
       "      <td>0</td>\n",
       "      <td>1</td>\n",
       "    </tr>\n",
       "  </tbody>\n",
       "</table>\n",
       "<p>48080 rows × 14 columns</p>\n",
       "</div>"
      ],
      "text/plain": [
       "       price  minimum_nights  number_of_reviews  reviews_per_month  \\\n",
       "0      149.0             1.0                9.0                0.0   \n",
       "1      225.0             1.0               45.0                0.0   \n",
       "2      150.0             3.0                0.0                0.0   \n",
       "3       89.0             1.0              270.0                4.0   \n",
       "4       80.0            10.0                9.0                0.0   \n",
       "...      ...             ...                ...                ...   \n",
       "45949    0.0             0.0                0.0                0.0   \n",
       "45953    0.0             0.0                0.0                0.0   \n",
       "45955    0.0             0.0                0.0                0.0   \n",
       "45959    0.0             0.0                0.0                0.0   \n",
       "46310    0.0             0.0                0.0                0.0   \n",
       "\n",
       "       calculated_host_listings_count  availability_365  last_review_elapsed  \\\n",
       "0                                 6.0             365.0               2333.0   \n",
       "1                                 2.0             355.0               2119.0   \n",
       "2                                 1.0             365.0                  0.0   \n",
       "3                                 1.0             194.0               2074.0   \n",
       "4                                 1.0               0.0               2302.0   \n",
       "...                               ...               ...                  ...   \n",
       "45949                             0.0               0.0                  0.0   \n",
       "45953                             0.0               0.0                  0.0   \n",
       "45955                             0.0               0.0                  0.0   \n",
       "45959                             0.0               0.0                  0.0   \n",
       "46310                             0.0               0.0                  0.0   \n",
       "\n",
       "       Bedroom_Spec  Furnished  Has_Gym  Gender_Spec  Landmark_Spec  \\\n",
       "0                 0          0        0            0              0   \n",
       "1                 0          0        0            0              0   \n",
       "2                 0          0        0            0              0   \n",
       "3                 0          0        0            0              0   \n",
       "4                 0          0        0            0              0   \n",
       "...             ...        ...      ...          ...            ...   \n",
       "45949             1          0        0            0              0   \n",
       "45953             1          0        0            0              0   \n",
       "45955             1          0        0            0              0   \n",
       "45959             1          0        0            0              0   \n",
       "46310             1          0        0            0              0   \n",
       "\n",
       "       Event_Spec  Bedroom_Spec  \n",
       "0               0             0  \n",
       "1               0             0  \n",
       "2               0             0  \n",
       "3               0             0  \n",
       "4               0             0  \n",
       "...           ...           ...  \n",
       "45949           0             1  \n",
       "45953           0             1  \n",
       "45955           0             1  \n",
       "45959           0             1  \n",
       "46310           0             1  \n",
       "\n",
       "[48080 rows x 14 columns]"
      ]
     },
     "execution_count": 650,
     "metadata": {},
     "output_type": "execute_result"
    }
   ],
   "source": [
    "dfSource_Numeric=dfSource[numeric_columns]\n",
    "dfSource_Numeric.fillna(0,inplace=True)\n",
    "dfSource_Numeric"
   ]
  },
  {
   "cell_type": "code",
   "execution_count": null,
   "metadata": {},
   "outputs": [
    {
     "data": {
      "text/plain": [
       "(48080, 14)"
      ]
     },
     "execution_count": 651,
     "metadata": {},
     "output_type": "execute_result"
    }
   ],
   "source": [
    "dfSource_Numeric.shape"
   ]
  },
  {
   "cell_type": "code",
   "execution_count": null,
   "metadata": {},
   "outputs": [
    {
     "data": {
      "text/plain": [
       "pandas.core.frame.DataFrame"
      ]
     },
     "execution_count": 652,
     "metadata": {},
     "output_type": "execute_result"
    }
   ],
   "source": [
    "type(dfSource_Numeric)"
   ]
  },
  {
   "cell_type": "code",
   "execution_count": null,
   "metadata": {},
   "outputs": [],
   "source": [
    "# plt.figure(figsize=(10,10))\n",
    "# sns.pairplot(data=dfSource[['price',\n",
    "#  'minimum_nights',\n",
    "#  'number_of_reviews',\n",
    "#  'reviews_per_month',\n",
    "#  'calculated_host_listings_count',\n",
    "#  'availability_365',\n",
    "#  'last_review_elapsed',\n",
    "#  'Furnished',\n",
    "#  'Has_Gym',\n",
    "#  'Gender_Spec',\n",
    "#  'Landmark_Spec',\n",
    "#  'Event_Spec',\n",
    "#  'Bedroom_Spec']])\n",
    "# plt.show()\n"
   ]
  },
  {
   "cell_type": "markdown",
   "metadata": {},
   "source": [
    "<h3>Creating Dummy Variables</h3>"
   ]
  },
  {
   "cell_type": "code",
   "execution_count": null,
   "metadata": {},
   "outputs": [
    {
     "data": {
      "text/plain": [
       "Index(['id', 'name', 'host_id', 'host_name', 'neighbourhood_group',\n",
       "       'neighbourhood', 'latitude', 'longitude', 'room_type', 'price',\n",
       "       'minimum_nights', 'number_of_reviews', 'last_review',\n",
       "       'reviews_per_month', 'calculated_host_listings_count',\n",
       "       'availability_365', 'last_review_date', 'last_review_Year',\n",
       "       'last_review_month', 'last_review_elapsed', 'pricegroup',\n",
       "       'availability_365group', 'reviews_per_monthgroup',\n",
       "       'minimum_nightsgroup', 'number_of_reviewsgroup', 'Bedroom',\n",
       "       'Bedroom_Matched', 'Furnished', 'Has_Gym', 'Gender_Spec',\n",
       "       'Landmark_Spec', 'Event_Spec', 'Bedroom_Spec'],\n",
       "      dtype='object')"
      ]
     },
     "execution_count": 654,
     "metadata": {},
     "output_type": "execute_result"
    }
   ],
   "source": [
    "dfSource.columns"
   ]
  },
  {
   "cell_type": "code",
   "execution_count": null,
   "metadata": {},
   "outputs": [
    {
     "data": {
      "text/html": [
       "<div>\n",
       "<style scoped>\n",
       "    .dataframe tbody tr th:only-of-type {\n",
       "        vertical-align: middle;\n",
       "    }\n",
       "\n",
       "    .dataframe tbody tr th {\n",
       "        vertical-align: top;\n",
       "    }\n",
       "\n",
       "    .dataframe thead th {\n",
       "        text-align: right;\n",
       "    }\n",
       "</style>\n",
       "<table border=\"1\" class=\"dataframe\">\n",
       "  <thead>\n",
       "    <tr style=\"text-align: right;\">\n",
       "      <th></th>\n",
       "      <th>price_300-600</th>\n",
       "      <th>price_600-900</th>\n",
       "      <th>price_900-1200</th>\n",
       "      <th>price_Greater Than 1200</th>\n",
       "    </tr>\n",
       "  </thead>\n",
       "  <tbody>\n",
       "    <tr>\n",
       "      <th>0</th>\n",
       "      <td>False</td>\n",
       "      <td>False</td>\n",
       "      <td>False</td>\n",
       "      <td>False</td>\n",
       "    </tr>\n",
       "    <tr>\n",
       "      <th>1</th>\n",
       "      <td>False</td>\n",
       "      <td>False</td>\n",
       "      <td>False</td>\n",
       "      <td>False</td>\n",
       "    </tr>\n",
       "    <tr>\n",
       "      <th>2</th>\n",
       "      <td>False</td>\n",
       "      <td>False</td>\n",
       "      <td>False</td>\n",
       "      <td>False</td>\n",
       "    </tr>\n",
       "    <tr>\n",
       "      <th>3</th>\n",
       "      <td>False</td>\n",
       "      <td>False</td>\n",
       "      <td>False</td>\n",
       "      <td>False</td>\n",
       "    </tr>\n",
       "    <tr>\n",
       "      <th>4</th>\n",
       "      <td>False</td>\n",
       "      <td>False</td>\n",
       "      <td>False</td>\n",
       "      <td>False</td>\n",
       "    </tr>\n",
       "  </tbody>\n",
       "</table>\n",
       "</div>"
      ],
      "text/plain": [
       "   price_300-600  price_600-900  price_900-1200  price_Greater Than 1200\n",
       "0          False          False           False                    False\n",
       "1          False          False           False                    False\n",
       "2          False          False           False                    False\n",
       "3          False          False           False                    False\n",
       "4          False          False           False                    False"
      ]
     },
     "execution_count": 655,
     "metadata": {},
     "output_type": "execute_result"
    }
   ],
   "source": [
    "price_group_dummy=pd.get_dummies(dfSource['pricegroup'],prefix='price',drop_first=True)\n",
    "price_group_dummy.head()\n"
   ]
  },
  {
   "cell_type": "code",
   "execution_count": null,
   "metadata": {},
   "outputs": [
    {
     "data": {
      "text/html": [
       "<div>\n",
       "<style scoped>\n",
       "    .dataframe tbody tr th:only-of-type {\n",
       "        vertical-align: middle;\n",
       "    }\n",
       "\n",
       "    .dataframe tbody tr th {\n",
       "        vertical-align: top;\n",
       "    }\n",
       "\n",
       "    .dataframe thead th {\n",
       "        text-align: right;\n",
       "    }\n",
       "</style>\n",
       "<table border=\"1\" class=\"dataframe\">\n",
       "  <thead>\n",
       "    <tr style=\"text-align: right;\">\n",
       "      <th></th>\n",
       "      <th>Private room</th>\n",
       "      <th>Shared room</th>\n",
       "    </tr>\n",
       "  </thead>\n",
       "  <tbody>\n",
       "    <tr>\n",
       "      <th>0</th>\n",
       "      <td>True</td>\n",
       "      <td>False</td>\n",
       "    </tr>\n",
       "    <tr>\n",
       "      <th>1</th>\n",
       "      <td>False</td>\n",
       "      <td>False</td>\n",
       "    </tr>\n",
       "    <tr>\n",
       "      <th>2</th>\n",
       "      <td>True</td>\n",
       "      <td>False</td>\n",
       "    </tr>\n",
       "    <tr>\n",
       "      <th>3</th>\n",
       "      <td>False</td>\n",
       "      <td>False</td>\n",
       "    </tr>\n",
       "    <tr>\n",
       "      <th>4</th>\n",
       "      <td>False</td>\n",
       "      <td>False</td>\n",
       "    </tr>\n",
       "  </tbody>\n",
       "</table>\n",
       "</div>"
      ],
      "text/plain": [
       "   Private room  Shared room\n",
       "0          True        False\n",
       "1         False        False\n",
       "2          True        False\n",
       "3         False        False\n",
       "4         False        False"
      ]
     },
     "execution_count": 656,
     "metadata": {},
     "output_type": "execute_result"
    }
   ],
   "source": [
    "room_type_dummy=pd.get_dummies(dfSource['room_type'],drop_first=True)\n",
    "room_type_dummy.head()\n"
   ]
  },
  {
   "cell_type": "code",
   "execution_count": null,
   "metadata": {},
   "outputs": [
    {
     "data": {
      "text/html": [
       "<div>\n",
       "<style scoped>\n",
       "    .dataframe tbody tr th:only-of-type {\n",
       "        vertical-align: middle;\n",
       "    }\n",
       "\n",
       "    .dataframe tbody tr th {\n",
       "        vertical-align: top;\n",
       "    }\n",
       "\n",
       "    .dataframe thead th {\n",
       "        text-align: right;\n",
       "    }\n",
       "</style>\n",
       "<table border=\"1\" class=\"dataframe\">\n",
       "  <thead>\n",
       "    <tr style=\"text-align: right;\">\n",
       "      <th></th>\n",
       "      <th>Brooklyn</th>\n",
       "      <th>Manhattan</th>\n",
       "      <th>Queens</th>\n",
       "      <th>Staten Island</th>\n",
       "    </tr>\n",
       "  </thead>\n",
       "  <tbody>\n",
       "    <tr>\n",
       "      <th>0</th>\n",
       "      <td>True</td>\n",
       "      <td>False</td>\n",
       "      <td>False</td>\n",
       "      <td>False</td>\n",
       "    </tr>\n",
       "    <tr>\n",
       "      <th>1</th>\n",
       "      <td>False</td>\n",
       "      <td>True</td>\n",
       "      <td>False</td>\n",
       "      <td>False</td>\n",
       "    </tr>\n",
       "    <tr>\n",
       "      <th>2</th>\n",
       "      <td>False</td>\n",
       "      <td>True</td>\n",
       "      <td>False</td>\n",
       "      <td>False</td>\n",
       "    </tr>\n",
       "    <tr>\n",
       "      <th>3</th>\n",
       "      <td>True</td>\n",
       "      <td>False</td>\n",
       "      <td>False</td>\n",
       "      <td>False</td>\n",
       "    </tr>\n",
       "    <tr>\n",
       "      <th>4</th>\n",
       "      <td>False</td>\n",
       "      <td>True</td>\n",
       "      <td>False</td>\n",
       "      <td>False</td>\n",
       "    </tr>\n",
       "  </tbody>\n",
       "</table>\n",
       "</div>"
      ],
      "text/plain": [
       "   Brooklyn  Manhattan  Queens  Staten Island\n",
       "0      True      False   False          False\n",
       "1     False       True   False          False\n",
       "2     False       True   False          False\n",
       "3      True      False   False          False\n",
       "4     False       True   False          False"
      ]
     },
     "execution_count": 657,
     "metadata": {},
     "output_type": "execute_result"
    }
   ],
   "source": [
    "neighbourhood_group_dummy=pd.get_dummies(dfSource['neighbourhood_group'],drop_first=True)\n",
    "neighbourhood_group_dummy.head()\n"
   ]
  },
  {
   "cell_type": "code",
   "execution_count": null,
   "metadata": {},
   "outputs": [
    {
     "data": {
      "text/html": [
       "<div>\n",
       "<style scoped>\n",
       "    .dataframe tbody tr th:only-of-type {\n",
       "        vertical-align: middle;\n",
       "    }\n",
       "\n",
       "    .dataframe tbody tr th {\n",
       "        vertical-align: top;\n",
       "    }\n",
       "\n",
       "    .dataframe thead th {\n",
       "        text-align: right;\n",
       "    }\n",
       "</style>\n",
       "<table border=\"1\" class=\"dataframe\">\n",
       "  <thead>\n",
       "    <tr style=\"text-align: right;\">\n",
       "      <th></th>\n",
       "      <th>AVL_365_100-200</th>\n",
       "      <th>AVL_365_200-300</th>\n",
       "      <th>AVL_365_300-400</th>\n",
       "    </tr>\n",
       "  </thead>\n",
       "  <tbody>\n",
       "    <tr>\n",
       "      <th>0</th>\n",
       "      <td>False</td>\n",
       "      <td>False</td>\n",
       "      <td>True</td>\n",
       "    </tr>\n",
       "    <tr>\n",
       "      <th>1</th>\n",
       "      <td>False</td>\n",
       "      <td>False</td>\n",
       "      <td>True</td>\n",
       "    </tr>\n",
       "    <tr>\n",
       "      <th>2</th>\n",
       "      <td>False</td>\n",
       "      <td>False</td>\n",
       "      <td>True</td>\n",
       "    </tr>\n",
       "    <tr>\n",
       "      <th>3</th>\n",
       "      <td>True</td>\n",
       "      <td>False</td>\n",
       "      <td>False</td>\n",
       "    </tr>\n",
       "    <tr>\n",
       "      <th>4</th>\n",
       "      <td>False</td>\n",
       "      <td>False</td>\n",
       "      <td>False</td>\n",
       "    </tr>\n",
       "  </tbody>\n",
       "</table>\n",
       "</div>"
      ],
      "text/plain": [
       "   AVL_365_100-200  AVL_365_200-300  AVL_365_300-400\n",
       "0            False            False             True\n",
       "1            False            False             True\n",
       "2            False            False             True\n",
       "3             True            False            False\n",
       "4            False            False            False"
      ]
     },
     "execution_count": 658,
     "metadata": {},
     "output_type": "execute_result"
    }
   ],
   "source": [
    "availability_365group_dummy=pd.get_dummies(dfSource['availability_365group'],drop_first=True,prefix='AVL_365')\n",
    "availability_365group_dummy.head()\n"
   ]
  },
  {
   "cell_type": "code",
   "execution_count": null,
   "metadata": {},
   "outputs": [],
   "source": [
    "reviews_per_monthgroup_dummy=pd.get_dummies(dfSource['reviews_per_monthgroup'],drop_first=True,prefix='RVWSPERMONTH')\n",
    "minimum_nightsgroup_dummy=pd.get_dummies(dfSource['minimum_nightsgroup'],drop_first=True,prefix='MIN_NTS')\n",
    "number_of_reviewsgroup_dummy=pd.get_dummies(dfSource['number_of_reviewsgroup'],drop_first=True,prefix='NUM_RVW')"
   ]
  },
  {
   "cell_type": "code",
   "execution_count": null,
   "metadata": {},
   "outputs": [
    {
     "data": {
      "text/html": [
       "<div>\n",
       "<style scoped>\n",
       "    .dataframe tbody tr th:only-of-type {\n",
       "        vertical-align: middle;\n",
       "    }\n",
       "\n",
       "    .dataframe tbody tr th {\n",
       "        vertical-align: top;\n",
       "    }\n",
       "\n",
       "    .dataframe thead th {\n",
       "        text-align: right;\n",
       "    }\n",
       "</style>\n",
       "<table border=\"1\" class=\"dataframe\">\n",
       "  <thead>\n",
       "    <tr style=\"text-align: right;\">\n",
       "      <th></th>\n",
       "      <th>RVWSPERMONTH_2-4</th>\n",
       "      <th>RVWSPERMONTH_4-6</th>\n",
       "      <th>RVWSPERMONTH_6-8</th>\n",
       "      <th>RVWSPERMONTH_Greater Than 8</th>\n",
       "    </tr>\n",
       "  </thead>\n",
       "  <tbody>\n",
       "    <tr>\n",
       "      <th>0</th>\n",
       "      <td>False</td>\n",
       "      <td>False</td>\n",
       "      <td>False</td>\n",
       "      <td>False</td>\n",
       "    </tr>\n",
       "    <tr>\n",
       "      <th>1</th>\n",
       "      <td>False</td>\n",
       "      <td>False</td>\n",
       "      <td>False</td>\n",
       "      <td>False</td>\n",
       "    </tr>\n",
       "    <tr>\n",
       "      <th>2</th>\n",
       "      <td>False</td>\n",
       "      <td>False</td>\n",
       "      <td>False</td>\n",
       "      <td>False</td>\n",
       "    </tr>\n",
       "    <tr>\n",
       "      <th>3</th>\n",
       "      <td>True</td>\n",
       "      <td>False</td>\n",
       "      <td>False</td>\n",
       "      <td>False</td>\n",
       "    </tr>\n",
       "    <tr>\n",
       "      <th>4</th>\n",
       "      <td>False</td>\n",
       "      <td>False</td>\n",
       "      <td>False</td>\n",
       "      <td>False</td>\n",
       "    </tr>\n",
       "  </tbody>\n",
       "</table>\n",
       "</div>"
      ],
      "text/plain": [
       "   RVWSPERMONTH_2-4  RVWSPERMONTH_4-6  RVWSPERMONTH_6-8  \\\n",
       "0             False             False             False   \n",
       "1             False             False             False   \n",
       "2             False             False             False   \n",
       "3              True             False             False   \n",
       "4             False             False             False   \n",
       "\n",
       "   RVWSPERMONTH_Greater Than 8  \n",
       "0                        False  \n",
       "1                        False  \n",
       "2                        False  \n",
       "3                        False  \n",
       "4                        False  "
      ]
     },
     "execution_count": 660,
     "metadata": {},
     "output_type": "execute_result"
    }
   ],
   "source": [
    "reviews_per_monthgroup_dummy.head()"
   ]
  },
  {
   "cell_type": "code",
   "execution_count": null,
   "metadata": {},
   "outputs": [
    {
     "data": {
      "text/html": [
       "<div>\n",
       "<style scoped>\n",
       "    .dataframe tbody tr th:only-of-type {\n",
       "        vertical-align: middle;\n",
       "    }\n",
       "\n",
       "    .dataframe tbody tr th {\n",
       "        vertical-align: top;\n",
       "    }\n",
       "\n",
       "    .dataframe thead th {\n",
       "        text-align: right;\n",
       "    }\n",
       "</style>\n",
       "<table border=\"1\" class=\"dataframe\">\n",
       "  <thead>\n",
       "    <tr style=\"text-align: right;\">\n",
       "      <th></th>\n",
       "      <th>MIN_NTS_Greater Than 30</th>\n",
       "    </tr>\n",
       "  </thead>\n",
       "  <tbody>\n",
       "    <tr>\n",
       "      <th>0</th>\n",
       "      <td>False</td>\n",
       "    </tr>\n",
       "    <tr>\n",
       "      <th>1</th>\n",
       "      <td>False</td>\n",
       "    </tr>\n",
       "    <tr>\n",
       "      <th>2</th>\n",
       "      <td>False</td>\n",
       "    </tr>\n",
       "    <tr>\n",
       "      <th>3</th>\n",
       "      <td>False</td>\n",
       "    </tr>\n",
       "    <tr>\n",
       "      <th>4</th>\n",
       "      <td>False</td>\n",
       "    </tr>\n",
       "  </tbody>\n",
       "</table>\n",
       "</div>"
      ],
      "text/plain": [
       "   MIN_NTS_Greater Than 30\n",
       "0                    False\n",
       "1                    False\n",
       "2                    False\n",
       "3                    False\n",
       "4                    False"
      ]
     },
     "execution_count": 661,
     "metadata": {},
     "output_type": "execute_result"
    }
   ],
   "source": [
    "minimum_nightsgroup_dummy.head()"
   ]
  },
  {
   "cell_type": "code",
   "execution_count": null,
   "metadata": {},
   "outputs": [
    {
     "data": {
      "text/html": [
       "<div>\n",
       "<style scoped>\n",
       "    .dataframe tbody tr th:only-of-type {\n",
       "        vertical-align: middle;\n",
       "    }\n",
       "\n",
       "    .dataframe tbody tr th {\n",
       "        vertical-align: top;\n",
       "    }\n",
       "\n",
       "    .dataframe thead th {\n",
       "        text-align: right;\n",
       "    }\n",
       "</style>\n",
       "<table border=\"1\" class=\"dataframe\">\n",
       "  <thead>\n",
       "    <tr style=\"text-align: right;\">\n",
       "      <th></th>\n",
       "      <th>NUM_RVW_60-120</th>\n",
       "      <th>NUM_RVW_Greater Than 120</th>\n",
       "    </tr>\n",
       "  </thead>\n",
       "  <tbody>\n",
       "    <tr>\n",
       "      <th>0</th>\n",
       "      <td>False</td>\n",
       "      <td>False</td>\n",
       "    </tr>\n",
       "    <tr>\n",
       "      <th>1</th>\n",
       "      <td>False</td>\n",
       "      <td>False</td>\n",
       "    </tr>\n",
       "    <tr>\n",
       "      <th>2</th>\n",
       "      <td>False</td>\n",
       "      <td>False</td>\n",
       "    </tr>\n",
       "    <tr>\n",
       "      <th>3</th>\n",
       "      <td>False</td>\n",
       "      <td>True</td>\n",
       "    </tr>\n",
       "    <tr>\n",
       "      <th>4</th>\n",
       "      <td>False</td>\n",
       "      <td>False</td>\n",
       "    </tr>\n",
       "  </tbody>\n",
       "</table>\n",
       "</div>"
      ],
      "text/plain": [
       "   NUM_RVW_60-120  NUM_RVW_Greater Than 120\n",
       "0           False                     False\n",
       "1           False                     False\n",
       "2           False                     False\n",
       "3           False                      True\n",
       "4           False                     False"
      ]
     },
     "execution_count": 662,
     "metadata": {},
     "output_type": "execute_result"
    }
   ],
   "source": [
    "number_of_reviewsgroup_dummy.head()"
   ]
  },
  {
   "cell_type": "code",
   "execution_count": null,
   "metadata": {},
   "outputs": [],
   "source": [
    "dfSource=pd.concat([dfSource,price_group_dummy],axis=1)\n",
    "dfSource=pd.concat([dfSource,room_type_dummy],axis=1)\n",
    "dfSource=pd.concat([dfSource,neighbourhood_group_dummy],axis=1)\n",
    "dfSource=pd.concat([dfSource,availability_365group_dummy],axis=1)\n",
    "dfSource=pd.concat([dfSource,reviews_per_monthgroup_dummy],axis=1)\n",
    "dfSource=pd.concat([dfSource,minimum_nightsgroup_dummy],axis=1)\n",
    "dfSource=pd.concat([dfSource,number_of_reviewsgroup_dummy],axis=1)"
   ]
  },
  {
   "cell_type": "code",
   "execution_count": null,
   "metadata": {},
   "outputs": [
    {
     "data": {
      "text/plain": [
       "Index(['id', 'name', 'host_id', 'host_name', 'neighbourhood_group',\n",
       "       'neighbourhood', 'latitude', 'longitude', 'room_type', 'price',\n",
       "       'minimum_nights', 'number_of_reviews', 'last_review',\n",
       "       'reviews_per_month', 'calculated_host_listings_count',\n",
       "       'availability_365', 'last_review_date', 'last_review_Year',\n",
       "       'last_review_month', 'last_review_elapsed', 'pricegroup',\n",
       "       'availability_365group', 'reviews_per_monthgroup',\n",
       "       'minimum_nightsgroup', 'number_of_reviewsgroup', 'Bedroom',\n",
       "       'Bedroom_Matched', 'Furnished', 'Has_Gym', 'Gender_Spec',\n",
       "       'Landmark_Spec', 'Event_Spec', 'Bedroom_Spec', 'price_300-600',\n",
       "       'price_600-900', 'price_900-1200', 'price_Greater Than 1200',\n",
       "       'Private room', 'Shared room', 'Brooklyn', 'Manhattan', 'Queens',\n",
       "       'Staten Island', 'AVL_365_100-200', 'AVL_365_200-300',\n",
       "       'AVL_365_300-400', 'RVWSPERMONTH_2-4', 'RVWSPERMONTH_4-6',\n",
       "       'RVWSPERMONTH_6-8', 'RVWSPERMONTH_Greater Than 8',\n",
       "       'MIN_NTS_Greater Than 30', 'NUM_RVW_60-120',\n",
       "       'NUM_RVW_Greater Than 120'],\n",
       "      dtype='object')"
      ]
     },
     "execution_count": 664,
     "metadata": {},
     "output_type": "execute_result"
    }
   ],
   "source": [
    "dfSource_Analysis=dfSource.copy(deep=True)\n",
    "dfSource_Analysis.columns\n"
   ]
  },
  {
   "cell_type": "code",
   "execution_count": null,
   "metadata": {},
   "outputs": [
    {
     "data": {
      "text/plain": [
       "['name',\n",
       " 'host_name',\n",
       " 'neighbourhood_group',\n",
       " 'neighbourhood',\n",
       " 'room_type',\n",
       " 'last_review',\n",
       " 'last_review_Year',\n",
       " 'last_review_month',\n",
       " 'pricegroup',\n",
       " 'availability_365group',\n",
       " 'reviews_per_monthgroup',\n",
       " 'minimum_nightsgroup',\n",
       " 'number_of_reviewsgroup',\n",
       " 'Bedroom']"
      ]
     },
     "execution_count": 665,
     "metadata": {},
     "output_type": "execute_result"
    }
   ],
   "source": [
    "getColumnsByType(dfSource_Analysis,'categorical')"
   ]
  },
  {
   "cell_type": "code",
   "execution_count": null,
   "metadata": {},
   "outputs": [],
   "source": [
    "dfSource_Analysis.drop(['name',\n",
    " 'host_name',\n",
    " 'neighbourhood_group',\n",
    " 'neighbourhood',\n",
    " 'room_type',\n",
    " 'last_review',\n",
    " 'last_review_Year',\n",
    " 'last_review_month',\n",
    " 'pricegroup',\n",
    " 'availability_365group',\n",
    " 'reviews_per_monthgroup',\n",
    " 'minimum_nightsgroup',\n",
    " 'number_of_reviewsgroup',\n",
    " 'Bedroom'],axis=1,inplace=True)"
   ]
  },
  {
   "cell_type": "code",
   "execution_count": null,
   "metadata": {},
   "outputs": [
    {
     "data": {
      "text/plain": [
       "id                                       float64\n",
       "host_id                                  float64\n",
       "latitude                                 float64\n",
       "longitude                                float64\n",
       "price                                    float64\n",
       "minimum_nights                           float64\n",
       "number_of_reviews                        float64\n",
       "reviews_per_month                        float64\n",
       "calculated_host_listings_count           float64\n",
       "availability_365                         float64\n",
       "last_review_date                  datetime64[ns]\n",
       "last_review_elapsed                      float64\n",
       "Bedroom_Matched                          float64\n",
       "Furnished                                  int64\n",
       "Has_Gym                                    int64\n",
       "Gender_Spec                                int64\n",
       "Landmark_Spec                              int64\n",
       "Event_Spec                                 int64\n",
       "Bedroom_Spec                               int64\n",
       "price_300-600                               bool\n",
       "price_600-900                               bool\n",
       "price_900-1200                              bool\n",
       "price_Greater Than 1200                     bool\n",
       "Private room                                bool\n",
       "Shared room                                 bool\n",
       "Brooklyn                                    bool\n",
       "Manhattan                                   bool\n",
       "Queens                                      bool\n",
       "Staten Island                               bool\n",
       "AVL_365_100-200                             bool\n",
       "AVL_365_200-300                             bool\n",
       "AVL_365_300-400                             bool\n",
       "RVWSPERMONTH_2-4                            bool\n",
       "RVWSPERMONTH_4-6                            bool\n",
       "RVWSPERMONTH_6-8                            bool\n",
       "RVWSPERMONTH_Greater Than 8                 bool\n",
       "MIN_NTS_Greater Than 30                     bool\n",
       "NUM_RVW_60-120                              bool\n",
       "NUM_RVW_Greater Than 120                    bool\n",
       "dtype: object"
      ]
     },
     "execution_count": 667,
     "metadata": {},
     "output_type": "execute_result"
    }
   ],
   "source": [
    "dfSource_Analysis.dtypes"
   ]
  },
  {
   "cell_type": "code",
   "execution_count": null,
   "metadata": {},
   "outputs": [
    {
     "data": {
      "text/plain": [
       "['id',\n",
       " 'host_id',\n",
       " 'latitude',\n",
       " 'longitude',\n",
       " 'price',\n",
       " 'minimum_nights',\n",
       " 'number_of_reviews',\n",
       " 'reviews_per_month',\n",
       " 'calculated_host_listings_count',\n",
       " 'availability_365',\n",
       " 'last_review_elapsed',\n",
       " 'Bedroom_Matched',\n",
       " 'Furnished',\n",
       " 'Has_Gym',\n",
       " 'Gender_Spec',\n",
       " 'Landmark_Spec',\n",
       " 'Event_Spec',\n",
       " 'Bedroom_Spec',\n",
       " 'price_300-600',\n",
       " 'price_600-900',\n",
       " 'price_900-1200',\n",
       " 'price_Greater Than 1200',\n",
       " 'Private room',\n",
       " 'Shared room',\n",
       " 'Brooklyn',\n",
       " 'Manhattan',\n",
       " 'Queens',\n",
       " 'Staten Island',\n",
       " 'AVL_365_100-200',\n",
       " 'AVL_365_200-300',\n",
       " 'AVL_365_300-400',\n",
       " 'RVWSPERMONTH_2-4',\n",
       " 'RVWSPERMONTH_4-6',\n",
       " 'RVWSPERMONTH_6-8',\n",
       " 'RVWSPERMONTH_Greater Than 8',\n",
       " 'MIN_NTS_Greater Than 30',\n",
       " 'NUM_RVW_60-120',\n",
       " 'NUM_RVW_Greater Than 120']"
      ]
     },
     "execution_count": 668,
     "metadata": {},
     "output_type": "execute_result"
    }
   ],
   "source": [
    "getColumnsByType(dfSource_Analysis,'numeric')"
   ]
  },
  {
   "cell_type": "code",
   "execution_count": null,
   "metadata": {},
   "outputs": [],
   "source": [
    "dfSource_Analysis.drop(\n",
    "['id',\n",
    " 'host_id',\n",
    " 'latitude',\n",
    " 'longitude',\n",
    " 'minimum_nights',\n",
    " 'number_of_reviews',\n",
    " 'reviews_per_month',\n",
    " 'availability_365',\n",
    " 'last_review_elapsed',\n",
    " 'Bedroom_Matched',\n",
    " 'last_review_date',\n",
    " 'Furnished',\n",
    " 'Has_Gym',\n",
    " 'Gender_Spec',\n",
    " 'Landmark_Spec',\n",
    " 'Event_Spec',\n",
    " 'Bedroom_Spec',\n",
    " 'calculated_host_listings_count'\n",
    "]\n",
    ",axis=1,inplace=True,errors='ignore')"
   ]
  },
  {
   "cell_type": "code",
   "execution_count": null,
   "metadata": {},
   "outputs": [
    {
     "data": {
      "text/plain": [
       "price                          float64\n",
       "price_300-600                     bool\n",
       "price_600-900                     bool\n",
       "price_900-1200                    bool\n",
       "price_Greater Than 1200           bool\n",
       "Private room                      bool\n",
       "Shared room                       bool\n",
       "Brooklyn                          bool\n",
       "Manhattan                         bool\n",
       "Queens                            bool\n",
       "Staten Island                     bool\n",
       "AVL_365_100-200                   bool\n",
       "AVL_365_200-300                   bool\n",
       "AVL_365_300-400                   bool\n",
       "RVWSPERMONTH_2-4                  bool\n",
       "RVWSPERMONTH_4-6                  bool\n",
       "RVWSPERMONTH_6-8                  bool\n",
       "RVWSPERMONTH_Greater Than 8       bool\n",
       "MIN_NTS_Greater Than 30           bool\n",
       "NUM_RVW_60-120                    bool\n",
       "NUM_RVW_Greater Than 120          bool\n",
       "dtype: object"
      ]
     },
     "execution_count": 670,
     "metadata": {},
     "output_type": "execute_result"
    }
   ],
   "source": [
    "dfSource_Analysis.dtypes"
   ]
  },
  {
   "cell_type": "markdown",
   "metadata": {},
   "source": [
    "<h4>Building a Linear MOdel</h4>"
   ]
  },
  {
   "cell_type": "code",
   "execution_count": null,
   "metadata": {},
   "outputs": [],
   "source": [
    "dfSource_Analysis=dfSource_Analysis.astype(float)\n",
    "dfSource_Analysis.fillna(0,inplace=True)\n",
    "\n",
    "from sklearn.model_selection import train_test_split\n",
    "# We specify this so that the train and test data set always have the same rows, respectively\n",
    "np.random.seed(0)\n",
    "dfSource_Analysis_train_rfe, dfSource_Analysis_test_rfe = train_test_split(dfSource_Analysis, train_size = 0.7, test_size = 0.3, random_state = 100)\n"
   ]
  },
  {
   "cell_type": "code",
   "execution_count": null,
   "metadata": {},
   "outputs": [],
   "source": [
    "from sklearn.preprocessing import MinMaxScaler\n",
    "scaler = MinMaxScaler()"
   ]
  },
  {
   "cell_type": "code",
   "execution_count": null,
   "metadata": {},
   "outputs": [
    {
     "data": {
      "text/html": [
       "<div>\n",
       "<style scoped>\n",
       "    .dataframe tbody tr th:only-of-type {\n",
       "        vertical-align: middle;\n",
       "    }\n",
       "\n",
       "    .dataframe tbody tr th {\n",
       "        vertical-align: top;\n",
       "    }\n",
       "\n",
       "    .dataframe thead th {\n",
       "        text-align: right;\n",
       "    }\n",
       "</style>\n",
       "<table border=\"1\" class=\"dataframe\">\n",
       "  <thead>\n",
       "    <tr style=\"text-align: right;\">\n",
       "      <th></th>\n",
       "      <th>price</th>\n",
       "      <th>price_300-600</th>\n",
       "      <th>price_600-900</th>\n",
       "      <th>price_900-1200</th>\n",
       "      <th>price_Greater Than 1200</th>\n",
       "      <th>Private room</th>\n",
       "      <th>Shared room</th>\n",
       "      <th>Brooklyn</th>\n",
       "      <th>Manhattan</th>\n",
       "      <th>Queens</th>\n",
       "      <th>...</th>\n",
       "      <th>AVL_365_100-200</th>\n",
       "      <th>AVL_365_200-300</th>\n",
       "      <th>AVL_365_300-400</th>\n",
       "      <th>RVWSPERMONTH_2-4</th>\n",
       "      <th>RVWSPERMONTH_4-6</th>\n",
       "      <th>RVWSPERMONTH_6-8</th>\n",
       "      <th>RVWSPERMONTH_Greater Than 8</th>\n",
       "      <th>MIN_NTS_Greater Than 30</th>\n",
       "      <th>NUM_RVW_60-120</th>\n",
       "      <th>NUM_RVW_Greater Than 120</th>\n",
       "    </tr>\n",
       "  </thead>\n",
       "  <tbody>\n",
       "    <tr>\n",
       "      <th>28062</th>\n",
       "      <td>0.0666</td>\n",
       "      <td>1.0</td>\n",
       "      <td>0.0</td>\n",
       "      <td>0.0</td>\n",
       "      <td>0.0</td>\n",
       "      <td>0.0</td>\n",
       "      <td>0.0</td>\n",
       "      <td>0.0</td>\n",
       "      <td>1.0</td>\n",
       "      <td>0.0</td>\n",
       "      <td>...</td>\n",
       "      <td>0.0</td>\n",
       "      <td>0.0</td>\n",
       "      <td>1.0</td>\n",
       "      <td>0.0</td>\n",
       "      <td>0.0</td>\n",
       "      <td>0.0</td>\n",
       "      <td>0.0</td>\n",
       "      <td>0.0</td>\n",
       "      <td>0.0</td>\n",
       "      <td>0.0</td>\n",
       "    </tr>\n",
       "    <tr>\n",
       "      <th>44735</th>\n",
       "      <td>0.0380</td>\n",
       "      <td>0.0</td>\n",
       "      <td>0.0</td>\n",
       "      <td>0.0</td>\n",
       "      <td>0.0</td>\n",
       "      <td>0.0</td>\n",
       "      <td>0.0</td>\n",
       "      <td>1.0</td>\n",
       "      <td>0.0</td>\n",
       "      <td>0.0</td>\n",
       "      <td>...</td>\n",
       "      <td>0.0</td>\n",
       "      <td>0.0</td>\n",
       "      <td>0.0</td>\n",
       "      <td>0.0</td>\n",
       "      <td>0.0</td>\n",
       "      <td>0.0</td>\n",
       "      <td>0.0</td>\n",
       "      <td>0.0</td>\n",
       "      <td>0.0</td>\n",
       "      <td>0.0</td>\n",
       "    </tr>\n",
       "    <tr>\n",
       "      <th>35697</th>\n",
       "      <td>0.0056</td>\n",
       "      <td>0.0</td>\n",
       "      <td>0.0</td>\n",
       "      <td>0.0</td>\n",
       "      <td>0.0</td>\n",
       "      <td>0.0</td>\n",
       "      <td>1.0</td>\n",
       "      <td>0.0</td>\n",
       "      <td>0.0</td>\n",
       "      <td>0.0</td>\n",
       "      <td>...</td>\n",
       "      <td>0.0</td>\n",
       "      <td>0.0</td>\n",
       "      <td>0.0</td>\n",
       "      <td>1.0</td>\n",
       "      <td>0.0</td>\n",
       "      <td>0.0</td>\n",
       "      <td>0.0</td>\n",
       "      <td>0.0</td>\n",
       "      <td>0.0</td>\n",
       "      <td>0.0</td>\n",
       "    </tr>\n",
       "    <tr>\n",
       "      <th>13214</th>\n",
       "      <td>0.0500</td>\n",
       "      <td>0.0</td>\n",
       "      <td>0.0</td>\n",
       "      <td>0.0</td>\n",
       "      <td>0.0</td>\n",
       "      <td>0.0</td>\n",
       "      <td>0.0</td>\n",
       "      <td>1.0</td>\n",
       "      <td>0.0</td>\n",
       "      <td>0.0</td>\n",
       "      <td>...</td>\n",
       "      <td>0.0</td>\n",
       "      <td>0.0</td>\n",
       "      <td>0.0</td>\n",
       "      <td>0.0</td>\n",
       "      <td>0.0</td>\n",
       "      <td>0.0</td>\n",
       "      <td>0.0</td>\n",
       "      <td>0.0</td>\n",
       "      <td>0.0</td>\n",
       "      <td>0.0</td>\n",
       "    </tr>\n",
       "    <tr>\n",
       "      <th>14192</th>\n",
       "      <td>0.0396</td>\n",
       "      <td>0.0</td>\n",
       "      <td>0.0</td>\n",
       "      <td>0.0</td>\n",
       "      <td>0.0</td>\n",
       "      <td>0.0</td>\n",
       "      <td>0.0</td>\n",
       "      <td>0.0</td>\n",
       "      <td>1.0</td>\n",
       "      <td>0.0</td>\n",
       "      <td>...</td>\n",
       "      <td>0.0</td>\n",
       "      <td>1.0</td>\n",
       "      <td>0.0</td>\n",
       "      <td>0.0</td>\n",
       "      <td>0.0</td>\n",
       "      <td>0.0</td>\n",
       "      <td>0.0</td>\n",
       "      <td>0.0</td>\n",
       "      <td>0.0</td>\n",
       "      <td>0.0</td>\n",
       "    </tr>\n",
       "  </tbody>\n",
       "</table>\n",
       "<p>5 rows × 21 columns</p>\n",
       "</div>"
      ],
      "text/plain": [
       "        price  price_300-600  price_600-900  price_900-1200  \\\n",
       "28062  0.0666            1.0            0.0             0.0   \n",
       "44735  0.0380            0.0            0.0             0.0   \n",
       "35697  0.0056            0.0            0.0             0.0   \n",
       "13214  0.0500            0.0            0.0             0.0   \n",
       "14192  0.0396            0.0            0.0             0.0   \n",
       "\n",
       "       price_Greater Than 1200  Private room  Shared room  Brooklyn  \\\n",
       "28062                      0.0           0.0          0.0       0.0   \n",
       "44735                      0.0           0.0          0.0       1.0   \n",
       "35697                      0.0           0.0          1.0       0.0   \n",
       "13214                      0.0           0.0          0.0       1.0   \n",
       "14192                      0.0           0.0          0.0       0.0   \n",
       "\n",
       "       Manhattan  Queens  ...  AVL_365_100-200  AVL_365_200-300  \\\n",
       "28062        1.0     0.0  ...              0.0              0.0   \n",
       "44735        0.0     0.0  ...              0.0              0.0   \n",
       "35697        0.0     0.0  ...              0.0              0.0   \n",
       "13214        0.0     0.0  ...              0.0              0.0   \n",
       "14192        1.0     0.0  ...              0.0              1.0   \n",
       "\n",
       "       AVL_365_300-400  RVWSPERMONTH_2-4  RVWSPERMONTH_4-6  RVWSPERMONTH_6-8  \\\n",
       "28062              1.0               0.0               0.0               0.0   \n",
       "44735              0.0               0.0               0.0               0.0   \n",
       "35697              0.0               1.0               0.0               0.0   \n",
       "13214              0.0               0.0               0.0               0.0   \n",
       "14192              0.0               0.0               0.0               0.0   \n",
       "\n",
       "       RVWSPERMONTH_Greater Than 8  MIN_NTS_Greater Than 30  NUM_RVW_60-120  \\\n",
       "28062                          0.0                      0.0             0.0   \n",
       "44735                          0.0                      0.0             0.0   \n",
       "35697                          0.0                      0.0             0.0   \n",
       "13214                          0.0                      0.0             0.0   \n",
       "14192                          0.0                      0.0             0.0   \n",
       "\n",
       "       NUM_RVW_Greater Than 120  \n",
       "28062                       0.0  \n",
       "44735                       0.0  \n",
       "35697                       0.0  \n",
       "13214                       0.0  \n",
       "14192                       0.0  \n",
       "\n",
       "[5 rows x 21 columns]"
      ]
     },
     "execution_count": 673,
     "metadata": {},
     "output_type": "execute_result"
    }
   ],
   "source": [
    "numerical_variables=getColumnsByType(dfSource_Analysis,'numeric')\n",
    "nFeatures=len(numerical_variables)\n",
    "dfSource_Analysis_train_rfe[numerical_variables] = scaler.fit_transform(dfSource_Analysis_train_rfe[numerical_variables])\n",
    "dfSource_Analysis_train_rfe.head()"
   ]
  },
  {
   "cell_type": "markdown",
   "metadata": {},
   "source": [
    "<h4>Dividing into X and Y sets for model building</h4>"
   ]
  },
  {
   "cell_type": "code",
   "execution_count": null,
   "metadata": {},
   "outputs": [],
   "source": [
    "y_train_new = dfSource_Analysis_train_rfe.pop('price')\n",
    "X_train_new = dfSource_Analysis_train_rfe"
   ]
  },
  {
   "cell_type": "markdown",
   "metadata": {},
   "source": [
    "<h4>Building Model Using RFE</h4>"
   ]
  },
  {
   "cell_type": "code",
   "execution_count": null,
   "metadata": {},
   "outputs": [],
   "source": [
    "from sklearn.feature_selection import RFE\n",
    "from sklearn.linear_model import LinearRegression"
   ]
  },
  {
   "cell_type": "code",
   "execution_count": null,
   "metadata": {},
   "outputs": [],
   "source": [
    "lm = LinearRegression()\n",
    "lm.fit(X_train_new, y_train_new)\n",
    "\n",
    "rfe = RFE(lm, n_features_to_select=nFeatures)             # running RFE\n",
    "rfe = rfe.fit(X_train_new, y_train_new)"
   ]
  },
  {
   "cell_type": "code",
   "execution_count": null,
   "metadata": {},
   "outputs": [
    {
     "data": {
      "text/plain": [
       "[('price_300-600', True, 1),\n",
       " ('price_600-900', True, 1),\n",
       " ('price_900-1200', True, 1),\n",
       " ('price_Greater Than 1200', True, 1),\n",
       " ('Private room', True, 1),\n",
       " ('Shared room', True, 1),\n",
       " ('Brooklyn', True, 1),\n",
       " ('Manhattan', True, 1),\n",
       " ('Queens', True, 1),\n",
       " ('Staten Island', True, 1),\n",
       " ('AVL_365_100-200', True, 1),\n",
       " ('AVL_365_200-300', True, 1),\n",
       " ('AVL_365_300-400', True, 1),\n",
       " ('RVWSPERMONTH_2-4', True, 1),\n",
       " ('RVWSPERMONTH_4-6', True, 1),\n",
       " ('RVWSPERMONTH_6-8', True, 1),\n",
       " ('RVWSPERMONTH_Greater Than 8', True, 1),\n",
       " ('MIN_NTS_Greater Than 30', True, 1),\n",
       " ('NUM_RVW_60-120', True, 1),\n",
       " ('NUM_RVW_Greater Than 120', True, 1)]"
      ]
     },
     "execution_count": 677,
     "metadata": {},
     "output_type": "execute_result"
    }
   ],
   "source": [
    "list(zip(X_train_new.columns,rfe.support_,rfe.ranking_))\n"
   ]
  },
  {
   "cell_type": "code",
   "execution_count": null,
   "metadata": {},
   "outputs": [
    {
     "data": {
      "text/plain": [
       "Index(['price_300-600', 'price_600-900', 'price_900-1200',\n",
       "       'price_Greater Than 1200', 'Private room', 'Shared room', 'Brooklyn',\n",
       "       'Manhattan', 'Queens', 'Staten Island', 'AVL_365_100-200',\n",
       "       'AVL_365_200-300', 'AVL_365_300-400', 'RVWSPERMONTH_2-4',\n",
       "       'RVWSPERMONTH_4-6', 'RVWSPERMONTH_6-8', 'RVWSPERMONTH_Greater Than 8',\n",
       "       'MIN_NTS_Greater Than 30', 'NUM_RVW_60-120',\n",
       "       'NUM_RVW_Greater Than 120'],\n",
       "      dtype='object')"
      ]
     },
     "execution_count": 678,
     "metadata": {},
     "output_type": "execute_result"
    }
   ],
   "source": [
    "col = X_train_new.columns[rfe.support_]\n",
    "col"
   ]
  },
  {
   "cell_type": "code",
   "execution_count": null,
   "metadata": {},
   "outputs": [],
   "source": [
    "X_train_rfe = X_train_new[col]"
   ]
  },
  {
   "cell_type": "code",
   "execution_count": null,
   "metadata": {},
   "outputs": [],
   "source": [
    "import statsmodels.api as sm  \n",
    "X_train_rfe = sm.add_constant(X_train_rfe)\n"
   ]
  },
  {
   "cell_type": "code",
   "execution_count": null,
   "metadata": {},
   "outputs": [],
   "source": [
    "def getModelTable1AsDataFrames(lr_RFE_1):\n",
    "    dfTable1=pd.DataFrame(lr_RFE_1.summary().tables[0].data).transpose()\n",
    "    dfPart1=dfTable1.iloc[0:2]\n",
    "    dfPart2=dfTable1.iloc[2:]\n",
    "    dfPart1.columns=list(dfPart1.iloc[0])\n",
    "    dfPart1.drop(dfPart1.index[0],axis=0,inplace=True)\n",
    "    dfPart1=dfPart1.reset_index(drop=True)\n",
    "    dfPart1.columns = dfPart1.columns.str.strip()\n",
    "\n",
    "    dfPart2=dfTable1.iloc[2:]\n",
    "    dfPart2.columns=list(dfPart2.iloc[0])\n",
    "    dfPart2.drop(dfPart2.index[0],axis=0,inplace=True)\n",
    "\n",
    "    dfPart2=dfPart2.reset_index(drop=True)\n",
    "    dfPart2.columns = dfPart2.columns.str.strip()\n",
    "    _selectedColumns=[]\n",
    "    for _col in dfPart2.columns:\n",
    "        #print(_col,_col==\"\")\n",
    "        if _col!=\"\":\n",
    "            _selectedColumns.append(_col)\n",
    "    dfPart2=dfPart2[_selectedColumns] \n",
    "    return pd.concat([dfPart1,dfPart2],axis=1)"
   ]
  },
  {
   "cell_type": "code",
   "execution_count": null,
   "metadata": {},
   "outputs": [],
   "source": [
    "def getModelSummaryAsDataFrame(lr_RFE_1,showstats=True):\n",
    "    results_df = pd.DataFrame(lr_RFE_1.summary().tables[1].data)\n",
    "    results_df = results_df.set_index(0)\n",
    "    #print(list(results_df.iloc[0]))\n",
    "    _lstCols=[]\n",
    "    for item in results_df.iloc[0]:\n",
    "        #print(\"item\",str(item))\n",
    "        _lstCols.append(str(item))\n",
    "    results_df.columns = _lstCols\n",
    "    results_df = results_df.iloc[1:]\n",
    "    results_df.index.name='Parameter'\n",
    "    results_df.rename(columns={'P>|t|':'pvalues'},inplace=True)\n",
    "    results_df=results_df.reset_index()\n",
    "    results_df['pvalues']=results_df['pvalues'].astype(float)\n",
    "    if showstats==True:\n",
    "        df1=getModelTable1AsDataFrames(lr_RFE_1)\n",
    "        for _col in df1.columns:\n",
    "            results_df[_col]=df1[_col]\n",
    "    return results_df"
   ]
  },
  {
   "cell_type": "code",
   "execution_count": null,
   "metadata": {},
   "outputs": [],
   "source": [
    "def getInsignificantColumn(model_variable,pvalue_threshold=0.05,showstats=False):\n",
    "    df=getModelSummaryAsDataFrame(model_variable,showstats)\n",
    "    return df[df['pvalues']>pvalue_threshold].sort_values(by='pvalues',ascending=False,)"
   ]
  },
  {
   "cell_type": "code",
   "execution_count": null,
   "metadata": {},
   "outputs": [],
   "source": [
    "lr_RFE_1 = sm.OLS(y_train_new,X_train_rfe).fit()   # Running the linear model"
   ]
  },
  {
   "cell_type": "code",
   "execution_count": null,
   "metadata": {},
   "outputs": [
    {
     "data": {
      "text/html": [
       "<div>\n",
       "<style scoped>\n",
       "    .dataframe tbody tr th:only-of-type {\n",
       "        vertical-align: middle;\n",
       "    }\n",
       "\n",
       "    .dataframe tbody tr th {\n",
       "        vertical-align: top;\n",
       "    }\n",
       "\n",
       "    .dataframe thead th {\n",
       "        text-align: right;\n",
       "    }\n",
       "</style>\n",
       "<table border=\"1\" class=\"dataframe\">\n",
       "  <thead>\n",
       "    <tr style=\"text-align: right;\">\n",
       "      <th></th>\n",
       "      <th>Dep. Variable:</th>\n",
       "      <th>Model:</th>\n",
       "      <th>Method:</th>\n",
       "      <th>Date:</th>\n",
       "      <th>Time:</th>\n",
       "      <th>No. Observations:</th>\n",
       "      <th>Df Residuals:</th>\n",
       "      <th>Df Model:</th>\n",
       "      <th>Covariance Type:</th>\n",
       "      <th>R-squared:</th>\n",
       "      <th>Adj. R-squared:</th>\n",
       "      <th>F-statistic:</th>\n",
       "      <th>Prob (F-statistic):</th>\n",
       "      <th>Log-Likelihood:</th>\n",
       "      <th>AIC:</th>\n",
       "      <th>BIC:</th>\n",
       "    </tr>\n",
       "  </thead>\n",
       "  <tbody>\n",
       "    <tr>\n",
       "      <th>0</th>\n",
       "      <td>price</td>\n",
       "      <td>OLS</td>\n",
       "      <td>Least Squares</td>\n",
       "      <td>Sun, 09 Mar 2025</td>\n",
       "      <td>13:13:47</td>\n",
       "      <td>33656</td>\n",
       "      <td>33635</td>\n",
       "      <td>20</td>\n",
       "      <td>nonrobust</td>\n",
       "      <td>0.833</td>\n",
       "      <td>0.833</td>\n",
       "      <td>8368.</td>\n",
       "      <td>0.00</td>\n",
       "      <td>93418.</td>\n",
       "      <td>-1.868e+05</td>\n",
       "      <td>-1.866e+05</td>\n",
       "    </tr>\n",
       "  </tbody>\n",
       "</table>\n",
       "</div>"
      ],
      "text/plain": [
       "  Dep. Variable: Model:        Method:             Date:     Time:  \\\n",
       "0          price    OLS  Least Squares  Sun, 09 Mar 2025  13:13:47   \n",
       "\n",
       "  No. Observations: Df Residuals: Df Model: Covariance Type: R-squared:  \\\n",
       "0             33656         33635        20        nonrobust      0.833   \n",
       "\n",
       "  Adj. R-squared: F-statistic: Prob (F-statistic): Log-Likelihood:  \\\n",
       "0           0.833        8368.                0.00          93418.   \n",
       "\n",
       "         AIC:        BIC:  \n",
       "0  -1.868e+05  -1.866e+05  "
      ]
     },
     "execution_count": 685,
     "metadata": {},
     "output_type": "execute_result"
    }
   ],
   "source": [
    "getModelTable1AsDataFrames(lr_RFE_1)"
   ]
  },
  {
   "cell_type": "code",
   "execution_count": null,
   "metadata": {},
   "outputs": [
    {
     "data": {
      "text/html": [
       "<div>\n",
       "<style scoped>\n",
       "    .dataframe tbody tr th:only-of-type {\n",
       "        vertical-align: middle;\n",
       "    }\n",
       "\n",
       "    .dataframe tbody tr th {\n",
       "        vertical-align: top;\n",
       "    }\n",
       "\n",
       "    .dataframe thead th {\n",
       "        text-align: right;\n",
       "    }\n",
       "</style>\n",
       "<table border=\"1\" class=\"dataframe\">\n",
       "  <thead>\n",
       "    <tr style=\"text-align: right;\">\n",
       "      <th></th>\n",
       "      <th>Parameter</th>\n",
       "      <th>coef</th>\n",
       "      <th>std err</th>\n",
       "      <th>t</th>\n",
       "      <th>pvalues</th>\n",
       "      <th>[0.025</th>\n",
       "      <th>0.975]</th>\n",
       "    </tr>\n",
       "  </thead>\n",
       "  <tbody>\n",
       "    <tr>\n",
       "      <th>16</th>\n",
       "      <td>RVWSPERMONTH_6-8</td>\n",
       "      <td>0.0001</td>\n",
       "      <td>0.001</td>\n",
       "      <td>0.116</td>\n",
       "      <td>0.908</td>\n",
       "      <td>-0.002</td>\n",
       "      <td>0.002</td>\n",
       "    </tr>\n",
       "    <tr>\n",
       "      <th>15</th>\n",
       "      <td>RVWSPERMONTH_4-6</td>\n",
       "      <td>-0.0002</td>\n",
       "      <td>0.001</td>\n",
       "      <td>-0.365</td>\n",
       "      <td>0.715</td>\n",
       "      <td>-0.001</td>\n",
       "      <td>0.001</td>\n",
       "    </tr>\n",
       "    <tr>\n",
       "      <th>14</th>\n",
       "      <td>RVWSPERMONTH_2-4</td>\n",
       "      <td>-0.0004</td>\n",
       "      <td>0.000</td>\n",
       "      <td>-1.258</td>\n",
       "      <td>0.208</td>\n",
       "      <td>-0.001</td>\n",
       "      <td>0.000</td>\n",
       "    </tr>\n",
       "    <tr>\n",
       "      <th>18</th>\n",
       "      <td>MIN_NTS_Greater Than 30</td>\n",
       "      <td>-0.0013</td>\n",
       "      <td>0.001</td>\n",
       "      <td>-1.872</td>\n",
       "      <td>0.061</td>\n",
       "      <td>-0.003</td>\n",
       "      <td>5.97e-05</td>\n",
       "    </tr>\n",
       "  </tbody>\n",
       "</table>\n",
       "</div>"
      ],
      "text/plain": [
       "                  Parameter        coef    std err          t  pvalues  \\\n",
       "16         RVWSPERMONTH_6-8      0.0001      0.001      0.116    0.908   \n",
       "15         RVWSPERMONTH_4-6     -0.0002      0.001     -0.365    0.715   \n",
       "14         RVWSPERMONTH_2-4     -0.0004      0.000     -1.258    0.208   \n",
       "18  MIN_NTS_Greater Than 30     -0.0013      0.001     -1.872    0.061   \n",
       "\n",
       "       [0.025     0.975]  \n",
       "16     -0.002      0.002  \n",
       "15     -0.001      0.001  \n",
       "14     -0.001      0.000  \n",
       "18     -0.003   5.97e-05  "
      ]
     },
     "execution_count": 686,
     "metadata": {},
     "output_type": "execute_result"
    }
   ],
   "source": [
    "getInsignificantColumn(lr_RFE_1)"
   ]
  },
  {
   "cell_type": "code",
   "execution_count": null,
   "metadata": {},
   "outputs": [],
   "source": []
  },
  {
   "cell_type": "code",
   "execution_count": null,
   "metadata": {},
   "outputs": [],
   "source": [
    "removed_columns_RFE=[]"
   ]
  },
  {
   "cell_type": "code",
   "execution_count": null,
   "metadata": {},
   "outputs": [
    {
     "data": {
      "text/html": [
       "<div>\n",
       "<style scoped>\n",
       "    .dataframe tbody tr th:only-of-type {\n",
       "        vertical-align: middle;\n",
       "    }\n",
       "\n",
       "    .dataframe tbody tr th {\n",
       "        vertical-align: top;\n",
       "    }\n",
       "\n",
       "    .dataframe thead th {\n",
       "        text-align: right;\n",
       "    }\n",
       "</style>\n",
       "<table border=\"1\" class=\"dataframe\">\n",
       "  <thead>\n",
       "    <tr style=\"text-align: right;\">\n",
       "      <th></th>\n",
       "      <th>Parameter</th>\n",
       "      <th>coef</th>\n",
       "      <th>std err</th>\n",
       "      <th>t</th>\n",
       "      <th>pvalues</th>\n",
       "      <th>[0.025</th>\n",
       "      <th>0.975]</th>\n",
       "    </tr>\n",
       "  </thead>\n",
       "  <tbody>\n",
       "    <tr>\n",
       "      <th>15</th>\n",
       "      <td>RVWSPERMONTH_4-6</td>\n",
       "      <td>-0.0002</td>\n",
       "      <td>0.001</td>\n",
       "      <td>-0.370</td>\n",
       "      <td>0.712</td>\n",
       "      <td>-0.001</td>\n",
       "      <td>0.001</td>\n",
       "    </tr>\n",
       "    <tr>\n",
       "      <th>14</th>\n",
       "      <td>RVWSPERMONTH_2-4</td>\n",
       "      <td>-0.0004</td>\n",
       "      <td>0.000</td>\n",
       "      <td>-1.269</td>\n",
       "      <td>0.205</td>\n",
       "      <td>-0.001</td>\n",
       "      <td>0.000</td>\n",
       "    </tr>\n",
       "    <tr>\n",
       "      <th>17</th>\n",
       "      <td>MIN_NTS_Greater Than 30</td>\n",
       "      <td>-0.0013</td>\n",
       "      <td>0.001</td>\n",
       "      <td>-1.874</td>\n",
       "      <td>0.061</td>\n",
       "      <td>-0.003</td>\n",
       "      <td>5.88e-05</td>\n",
       "    </tr>\n",
       "  </tbody>\n",
       "</table>\n",
       "</div>"
      ],
      "text/plain": [
       "                  Parameter        coef    std err          t  pvalues  \\\n",
       "15         RVWSPERMONTH_4-6     -0.0002      0.001     -0.370    0.712   \n",
       "14         RVWSPERMONTH_2-4     -0.0004      0.000     -1.269    0.205   \n",
       "17  MIN_NTS_Greater Than 30     -0.0013      0.001     -1.874    0.061   \n",
       "\n",
       "       [0.025     0.975]  \n",
       "15     -0.001      0.001  \n",
       "14     -0.001      0.000  \n",
       "17     -0.003   5.88e-05  "
      ]
     },
     "execution_count": 688,
     "metadata": {},
     "output_type": "execute_result"
    }
   ],
   "source": [
    "_column_current='RVWSPERMONTH_6-8'\n",
    "removed_columns_RFE.append(_column_current)\n",
    "X_train_rfe.drop(_column_current, axis = 1,inplace=True)\n",
    "X_train_lm_new = sm.add_constant(X_train_rfe)\n",
    "lr_RFE_2=sm.OLS(y_train_new,X_train_lm_new).fit()\n",
    "getInsignificantColumn(lr_RFE_2)"
   ]
  },
  {
   "cell_type": "code",
   "execution_count": null,
   "metadata": {},
   "outputs": [
    {
     "data": {
      "text/html": [
       "<div>\n",
       "<style scoped>\n",
       "    .dataframe tbody tr th:only-of-type {\n",
       "        vertical-align: middle;\n",
       "    }\n",
       "\n",
       "    .dataframe tbody tr th {\n",
       "        vertical-align: top;\n",
       "    }\n",
       "\n",
       "    .dataframe thead th {\n",
       "        text-align: right;\n",
       "    }\n",
       "</style>\n",
       "<table border=\"1\" class=\"dataframe\">\n",
       "  <thead>\n",
       "    <tr style=\"text-align: right;\">\n",
       "      <th></th>\n",
       "      <th>Parameter</th>\n",
       "      <th>coef</th>\n",
       "      <th>std err</th>\n",
       "      <th>t</th>\n",
       "      <th>pvalues</th>\n",
       "      <th>[0.025</th>\n",
       "      <th>0.975]</th>\n",
       "    </tr>\n",
       "  </thead>\n",
       "  <tbody>\n",
       "    <tr>\n",
       "      <th>14</th>\n",
       "      <td>RVWSPERMONTH_2-4</td>\n",
       "      <td>-0.0004</td>\n",
       "      <td>0.000</td>\n",
       "      <td>-1.233</td>\n",
       "      <td>0.218</td>\n",
       "      <td>-0.001</td>\n",
       "      <td>0.000</td>\n",
       "    </tr>\n",
       "    <tr>\n",
       "      <th>16</th>\n",
       "      <td>MIN_NTS_Greater Than 30</td>\n",
       "      <td>-0.0013</td>\n",
       "      <td>0.001</td>\n",
       "      <td>-1.868</td>\n",
       "      <td>0.062</td>\n",
       "      <td>-0.003</td>\n",
       "      <td>6.25e-05</td>\n",
       "    </tr>\n",
       "  </tbody>\n",
       "</table>\n",
       "</div>"
      ],
      "text/plain": [
       "                  Parameter        coef    std err          t  pvalues  \\\n",
       "14         RVWSPERMONTH_2-4     -0.0004      0.000     -1.233    0.218   \n",
       "16  MIN_NTS_Greater Than 30     -0.0013      0.001     -1.868    0.062   \n",
       "\n",
       "       [0.025     0.975]  \n",
       "14     -0.001      0.000  \n",
       "16     -0.003   6.25e-05  "
      ]
     },
     "execution_count": 689,
     "metadata": {},
     "output_type": "execute_result"
    }
   ],
   "source": [
    "_column_current='RVWSPERMONTH_4-6'\n",
    "removed_columns_RFE.append(_column_current)\n",
    "X_train_rfe.drop(_column_current, axis = 1,inplace=True)\n",
    "X_train_lm_new = sm.add_constant(X_train_rfe)\n",
    "lr_RFE_3=sm.OLS(y_train_new,X_train_lm_new).fit()\n",
    "getInsignificantColumn(lr_RFE_3)"
   ]
  },
  {
   "cell_type": "code",
   "execution_count": null,
   "metadata": {},
   "outputs": [
    {
     "data": {
      "text/html": [
       "<div>\n",
       "<style scoped>\n",
       "    .dataframe tbody tr th:only-of-type {\n",
       "        vertical-align: middle;\n",
       "    }\n",
       "\n",
       "    .dataframe tbody tr th {\n",
       "        vertical-align: top;\n",
       "    }\n",
       "\n",
       "    .dataframe thead th {\n",
       "        text-align: right;\n",
       "    }\n",
       "</style>\n",
       "<table border=\"1\" class=\"dataframe\">\n",
       "  <thead>\n",
       "    <tr style=\"text-align: right;\">\n",
       "      <th></th>\n",
       "      <th>Parameter</th>\n",
       "      <th>coef</th>\n",
       "      <th>std err</th>\n",
       "      <th>t</th>\n",
       "      <th>pvalues</th>\n",
       "      <th>[0.025</th>\n",
       "      <th>0.975]</th>\n",
       "    </tr>\n",
       "  </thead>\n",
       "  <tbody>\n",
       "    <tr>\n",
       "      <th>15</th>\n",
       "      <td>MIN_NTS_Greater Than 30</td>\n",
       "      <td>-0.0012</td>\n",
       "      <td>0.001</td>\n",
       "      <td>-1.835</td>\n",
       "      <td>0.066</td>\n",
       "      <td>-0.003</td>\n",
       "      <td>8.49e-05</td>\n",
       "    </tr>\n",
       "  </tbody>\n",
       "</table>\n",
       "</div>"
      ],
      "text/plain": [
       "                  Parameter        coef    std err          t  pvalues  \\\n",
       "15  MIN_NTS_Greater Than 30     -0.0012      0.001     -1.835    0.066   \n",
       "\n",
       "       [0.025     0.975]  \n",
       "15     -0.003   8.49e-05  "
      ]
     },
     "execution_count": 690,
     "metadata": {},
     "output_type": "execute_result"
    }
   ],
   "source": [
    "_column_current='RVWSPERMONTH_2-4'\n",
    "removed_columns_RFE.append(_column_current)\n",
    "X_train_rfe.drop(_column_current, axis = 1,inplace=True)\n",
    "X_train_lm_new = sm.add_constant(X_train_rfe)\n",
    "lr_RFE_4=sm.OLS(y_train_new,X_train_lm_new).fit()\n",
    "getInsignificantColumn(lr_RFE_4)"
   ]
  },
  {
   "cell_type": "code",
   "execution_count": null,
   "metadata": {},
   "outputs": [
    {
     "data": {
      "text/html": [
       "<div>\n",
       "<style scoped>\n",
       "    .dataframe tbody tr th:only-of-type {\n",
       "        vertical-align: middle;\n",
       "    }\n",
       "\n",
       "    .dataframe tbody tr th {\n",
       "        vertical-align: top;\n",
       "    }\n",
       "\n",
       "    .dataframe thead th {\n",
       "        text-align: right;\n",
       "    }\n",
       "</style>\n",
       "<table border=\"1\" class=\"dataframe\">\n",
       "  <thead>\n",
       "    <tr style=\"text-align: right;\">\n",
       "      <th></th>\n",
       "      <th>Parameter</th>\n",
       "      <th>coef</th>\n",
       "      <th>std err</th>\n",
       "      <th>t</th>\n",
       "      <th>pvalues</th>\n",
       "      <th>[0.025</th>\n",
       "      <th>0.975]</th>\n",
       "    </tr>\n",
       "  </thead>\n",
       "  <tbody>\n",
       "  </tbody>\n",
       "</table>\n",
       "</div>"
      ],
      "text/plain": [
       "Empty DataFrame\n",
       "Columns: [Parameter, coef, std err, t, pvalues, [0.025, 0.975]]\n",
       "Index: []"
      ]
     },
     "execution_count": 691,
     "metadata": {},
     "output_type": "execute_result"
    }
   ],
   "source": [
    "_column_current='MIN_NTS_Greater Than 30'\n",
    "removed_columns_RFE.append(_column_current)\n",
    "X_train_rfe.drop(_column_current, axis = 1,inplace=True)\n",
    "X_train_lm_new = sm.add_constant(X_train_rfe)\n",
    "lr_RFE_5=sm.OLS(y_train_new,X_train_lm_new).fit()\n",
    "getInsignificantColumn(lr_RFE_5)"
   ]
  },
  {
   "cell_type": "code",
   "execution_count": null,
   "metadata": {},
   "outputs": [],
   "source": [
    "def getVIF(X_train_rfe,threshold=5):\n",
    "    from statsmodels.stats.outliers_influence import variance_inflation_factor\n",
    "    vif = pd.DataFrame()\n",
    "    X_new = X_train_rfe\n",
    "    vif['Features'] = X_new.columns\n",
    "    vif['VIF'] = [variance_inflation_factor(X_new.values, i) for i in range(X_new.shape[1])]\n",
    "    vif['VIF'] = round(vif['VIF'], 2)\n",
    "    vif['Outside Limit?']=vif['VIF']>5\n",
    "    vif = vif.sort_values(by = \"VIF\", ascending = False)\n",
    "    return vif[vif['VIF']>=threshold]\n",
    "    "
   ]
  },
  {
   "cell_type": "code",
   "execution_count": null,
   "metadata": {},
   "outputs": [
    {
     "data": {
      "text/html": [
       "<div>\n",
       "<style scoped>\n",
       "    .dataframe tbody tr th:only-of-type {\n",
       "        vertical-align: middle;\n",
       "    }\n",
       "\n",
       "    .dataframe tbody tr th {\n",
       "        vertical-align: top;\n",
       "    }\n",
       "\n",
       "    .dataframe thead th {\n",
       "        text-align: right;\n",
       "    }\n",
       "</style>\n",
       "<table border=\"1\" class=\"dataframe\">\n",
       "  <thead>\n",
       "    <tr style=\"text-align: right;\">\n",
       "      <th></th>\n",
       "      <th>Features</th>\n",
       "      <th>VIF</th>\n",
       "      <th>Outside Limit?</th>\n",
       "    </tr>\n",
       "  </thead>\n",
       "  <tbody>\n",
       "    <tr>\n",
       "      <th>0</th>\n",
       "      <td>const</td>\n",
       "      <td>30.88</td>\n",
       "      <td>True</td>\n",
       "    </tr>\n",
       "    <tr>\n",
       "      <th>8</th>\n",
       "      <td>Manhattan</td>\n",
       "      <td>7.81</td>\n",
       "      <td>True</td>\n",
       "    </tr>\n",
       "    <tr>\n",
       "      <th>7</th>\n",
       "      <td>Brooklyn</td>\n",
       "      <td>7.78</td>\n",
       "      <td>True</td>\n",
       "    </tr>\n",
       "  </tbody>\n",
       "</table>\n",
       "</div>"
      ],
      "text/plain": [
       "    Features    VIF  Outside Limit?\n",
       "0      const  30.88            True\n",
       "8  Manhattan   7.81            True\n",
       "7   Brooklyn   7.78            True"
      ]
     },
     "execution_count": 693,
     "metadata": {},
     "output_type": "execute_result"
    }
   ],
   "source": [
    "getVIF(X_train_rfe)"
   ]
  },
  {
   "cell_type": "code",
   "execution_count": null,
   "metadata": {},
   "outputs": [
    {
     "data": {
      "text/html": [
       "<div>\n",
       "<style scoped>\n",
       "    .dataframe tbody tr th:only-of-type {\n",
       "        vertical-align: middle;\n",
       "    }\n",
       "\n",
       "    .dataframe tbody tr th {\n",
       "        vertical-align: top;\n",
       "    }\n",
       "\n",
       "    .dataframe thead th {\n",
       "        text-align: right;\n",
       "    }\n",
       "</style>\n",
       "<table border=\"1\" class=\"dataframe\">\n",
       "  <thead>\n",
       "    <tr style=\"text-align: right;\">\n",
       "      <th></th>\n",
       "      <th>Parameter</th>\n",
       "      <th>coef</th>\n",
       "      <th>std err</th>\n",
       "      <th>t</th>\n",
       "      <th>pvalues</th>\n",
       "      <th>[0.025</th>\n",
       "      <th>0.975]</th>\n",
       "    </tr>\n",
       "  </thead>\n",
       "  <tbody>\n",
       "  </tbody>\n",
       "</table>\n",
       "</div>"
      ],
      "text/plain": [
       "Empty DataFrame\n",
       "Columns: [Parameter, coef, std err, t, pvalues, [0.025, 0.975]]\n",
       "Index: []"
      ]
     },
     "execution_count": 694,
     "metadata": {},
     "output_type": "execute_result"
    }
   ],
   "source": [
    "_column_current='const'\n",
    "removed_columns_RFE.append(_column_current)\n",
    "X_train_rfe.drop(_column_current, axis = 1,inplace=True)\n",
    "X_train_lm_new = sm.add_constant(X_train_rfe)\n",
    "lr_RFE_6=sm.OLS(y_train_new,X_train_lm_new).fit()\n",
    "getInsignificantColumn(lr_RFE_6)"
   ]
  },
  {
   "cell_type": "code",
   "execution_count": null,
   "metadata": {},
   "outputs": [
    {
     "data": {
      "text/html": [
       "<div>\n",
       "<style scoped>\n",
       "    .dataframe tbody tr th:only-of-type {\n",
       "        vertical-align: middle;\n",
       "    }\n",
       "\n",
       "    .dataframe tbody tr th {\n",
       "        vertical-align: top;\n",
       "    }\n",
       "\n",
       "    .dataframe thead th {\n",
       "        text-align: right;\n",
       "    }\n",
       "</style>\n",
       "<table border=\"1\" class=\"dataframe\">\n",
       "  <thead>\n",
       "    <tr style=\"text-align: right;\">\n",
       "      <th></th>\n",
       "      <th>Features</th>\n",
       "      <th>VIF</th>\n",
       "      <th>Outside Limit?</th>\n",
       "    </tr>\n",
       "  </thead>\n",
       "  <tbody>\n",
       "  </tbody>\n",
       "</table>\n",
       "</div>"
      ],
      "text/plain": [
       "Empty DataFrame\n",
       "Columns: [Features, VIF, Outside Limit?]\n",
       "Index: []"
      ]
     },
     "execution_count": 695,
     "metadata": {},
     "output_type": "execute_result"
    }
   ],
   "source": [
    "getVIF(X_train_rfe)"
   ]
  },
  {
   "cell_type": "code",
   "execution_count": null,
   "metadata": {},
   "outputs": [],
   "source": [
    "y_train_cnt_new = lr_RFE_6.predict(X_train_lm_new)"
   ]
  },
  {
   "cell_type": "code",
   "execution_count": null,
   "metadata": {},
   "outputs": [
    {
     "data": {
      "text/plain": [
       "Text(0.5, 0, 'Errors')"
      ]
     },
     "execution_count": 697,
     "metadata": {},
     "output_type": "execute_result"
    },
    {
     "data": {
      "image/png": "[encoded data removed]",
      "text/plain": [
       "<Figure size 640x480 with 1 Axes>"
      ]
     },
     "metadata": {},
     "output_type": "display_data"
    }
   ],
   "source": [
    "fig = plt.figure()\n",
    "sns.distplot((y_train_new - y_train_cnt_new), bins = 20)\n",
    "fig.suptitle('Error Terms', fontsize = 20)                  # Plot heading \n",
    "plt.xlabel('Errors', fontsize = 18)                         # X-label"
   ]
  },
  {
   "cell_type": "code",
   "execution_count": null,
   "metadata": {},
   "outputs": [
    {
     "data": {
      "text/plain": [
       "['price',\n",
       " 'price_300-600',\n",
       " 'price_600-900',\n",
       " 'price_900-1200',\n",
       " 'price_Greater Than 1200',\n",
       " 'Private room',\n",
       " 'Shared room',\n",
       " 'Brooklyn',\n",
       " 'Manhattan',\n",
       " 'Queens',\n",
       " 'Staten Island',\n",
       " 'AVL_365_100-200',\n",
       " 'AVL_365_200-300',\n",
       " 'AVL_365_300-400',\n",
       " 'RVWSPERMONTH_2-4',\n",
       " 'RVWSPERMONTH_4-6',\n",
       " 'RVWSPERMONTH_6-8',\n",
       " 'RVWSPERMONTH_Greater Than 8',\n",
       " 'MIN_NTS_Greater Than 30',\n",
       " 'NUM_RVW_60-120',\n",
       " 'NUM_RVW_Greater Than 120']"
      ]
     },
     "execution_count": 698,
     "metadata": {},
     "output_type": "execute_result"
    }
   ],
   "source": [
    "numerical_variables=getColumnsByType(dfSource_Analysis_test_rfe,'numeric')\n",
    "numerical_variables"
   ]
  },
  {
   "cell_type": "code",
   "execution_count": null,
   "metadata": {},
   "outputs": [],
   "source": [
    "dfSource_Analysis_test_rfe [numerical_variables] = scaler.transform(dfSource_Analysis_test_rfe[numerical_variables])"
   ]
  },
  {
   "cell_type": "code",
   "execution_count": null,
   "metadata": {},
   "outputs": [],
   "source": [
    "y_test_new = dfSource_Analysis_test_rfe.pop('price')\n",
    "X_test_new = dfSource_Analysis_test_rfe"
   ]
  },
  {
   "cell_type": "code",
   "execution_count": null,
   "metadata": {},
   "outputs": [],
   "source": [
    "X_test_new = X_test_new[X_train_rfe.columns]\n",
    "\n",
    "# Adding a constant variable \n",
    "X_test_new = sm.add_constant(X_test_new)"
   ]
  },
  {
   "cell_type": "code",
   "execution_count": null,
   "metadata": {},
   "outputs": [],
   "source": [
    "y_pred_cnt_new = lr_RFE_6.predict(X_test_new)"
   ]
  },
  {
   "cell_type": "code",
   "execution_count": null,
   "metadata": {},
   "outputs": [
    {
     "data": {
      "text/plain": [
       "0.8059996807702011"
      ]
     },
     "execution_count": 703,
     "metadata": {},
     "output_type": "execute_result"
    }
   ],
   "source": [
    "from sklearn.metrics import r2_score\n",
    "r2_score(y_test_new, y_pred_cnt_new)"
   ]
  },
  {
   "cell_type": "code",
   "execution_count": null,
   "metadata": {},
   "outputs": [
    {
     "data": {
      "text/plain": [
       "[<matplotlib.lines.Line2D at 0x1251c962630>]"
      ]
     },
     "execution_count": 704,
     "metadata": {},
     "output_type": "execute_result"
    },
    {
     "data": {
      "image/png": "[encoded data removed]",
      "text/plain": [
       "<Figure size 640x480 with 1 Axes>"
      ]
     },
     "metadata": {},
     "output_type": "display_data"
    }
   ],
   "source": [
    "fig = plt.figure()\n",
    "plt.scatter(y_test_new,y_pred_cnt_new)\n",
    "m, b= np.polyfit(y_test_new, y_pred_cnt_new,1)\n",
    "\n",
    "fig.suptitle('y_test vs y_pred', fontsize=20)              # Plot heading \n",
    "plt.xlabel('y_test', fontsize=18)                          # X-label\n",
    "plt.ylabel('y_pred', fontsize=16)                          # Y-label\n",
    "\n",
    "plt.plot(y_test_new, m*y_test_new+b, color='red') "
   ]
  },
  {
   "cell_type": "code",
   "execution_count": null,
   "metadata": {},
   "outputs": [
    {
     "data": {
      "text/plain": [
       "'const x 0.0158 + price_300-600 x 0.0511 + price_600-900 x 0.1169 + price_900-1200 x 0.1741 + price_Greater Than 1200 x 0.4225 + Private room x -0.0142 + Shared room x -0.0185 + Brooklyn x 0.0123 + Manhattan x 0.0178 + Queens x 0.0100 + Staten Island x 0.0090 + AVL_365_100-200 x 0.0021 + AVL_365_200-300 x 0.0020 + AVL_365_300-400 x 0.0037 + RVWSPERMONTH_Greater Than 8 x -0.0031 + NUM_RVW_60-120 x -0.0007 + NUM_RVW_Greater Than 120 x -0.0012'"
      ]
     },
     "execution_count": 717,
     "metadata": {},
     "output_type": "execute_result"
    }
   ],
   "source": [
    "df=getModelSummaryAsDataFrame(lr_RFE_6,False)\n",
    "df[\"eqn_variable\"]=df[\"Parameter\"].str.strip()+\" x \"+ df[\"coef\"].str.strip()\n",
    "' + '.join(list(df[\"eqn_variable\"].unique()))\n",
    "\n"
   ]
  },
  {
   "cell_type": "markdown",
   "metadata": {},
   "source": []
  },
  {
   "cell_type": "code",
   "execution_count": null,
   "metadata": {},
   "outputs": [
    {
     "ename": "NameError",
     "evalue": "name 'lr_RFE_6' is not defined",
     "output_type": "error",
     "traceback": [
      "\u001b[1;31m---------------------------------------------------------------------------\u001b[0m",
      "\u001b[1;31mNameError\u001b[0m                                 Traceback (most recent call last)",
      "Cell \u001b[1;32mIn[1], line 1\u001b[0m\n\u001b[1;32m----> 1\u001b[0m \u001b[43mlr_RFE_6\u001b[49m\u001b[38;5;241m.\u001b[39mSummary()\n",
      "\u001b[1;31mNameError\u001b[0m: name 'lr_RFE_6' is not defined"
     ]
    }
   ],
   "source": [
    "lr_RFE_6.Summary()"
   ]
  },
  {
   "cell_type": "code",
   "execution_count": null,
   "metadata": {},
   "outputs": [],
   "source": []
  }
 ],
 "metadata": {
  "kernelspec": {
   "display_name": "Python 3",
   "language": "python",
   "name": "python3"
  },
  "language_info": {
   "codemirror_mode": {
    "name": "ipython",
    "version": 3
   },
   "file_extension": ".py",
   "mimetype": "text/x-python",
   "name": "python",
   "nbconvert_exporter": "python",
   "pygments_lexer": "ipython3",
   "version": "3.12.3"
  }
 },
 "nbformat": 4,
 "nbformat_minor": 2
}
