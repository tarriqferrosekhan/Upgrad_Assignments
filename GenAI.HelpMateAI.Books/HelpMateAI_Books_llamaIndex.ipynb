{
  "cells": [
    {
      "cell_type": "code",
      "execution_count": 1,
      "metadata": {
        "id": "nEJxEHSn-3ZW"
      },
      "outputs": [],
      "source": [
        "# Import the libraries\n",
        "import os, json, ast\n",
        "import openai\n",
        "import pandas as pd\n",
        "import csv\n",
        "from pathlib import Path\n",
        "from tenacity import retry, wait_random_exponential, stop_after_attempt\n",
        "from llama_index.core import VectorStoreIndex,Document\n",
        "from llama_index.readers.file import CSVReader\n",
        "from llama_index.llms.openai import OpenAI\n",
        "from llama_index.core.prompts import PromptTemplate\n",
        "from llama_index.core import Settings  # <-- NEW instead of ServiceContext\n",
        "from json2html import *\n",
        "from IPython.display import display, HTML"
      ]
    },
    {
      "cell_type": "markdown",
      "metadata": {
        "id": "VO1J6ihYOjs8"
      },
      "source": [
        "### **Installing the required Libraries for Colab in case if running in Google Golab**"
      ]
    },
    {
      "cell_type": "code",
      "execution_count": 2,
      "metadata": {
        "colab": {
          "base_uri": "https://localhost:8080/"
        },
        "id": "Npw8Bj94NBah",
        "outputId": "8a7a305a-72e9-4726-bf5f-100847c5f389"
      },
      "outputs": [],
      "source": [
        "#!pip install -qU openai\n",
        "#!pip install json2html\n",
        "#!pip install llama-index\n"
      ]
    },
    {
      "cell_type": "markdown",
      "metadata": {
        "id": "GcOgdRNjOsCQ"
      },
      "source": [
        "**Mounting the Goole drive for Colab**<br>\n",
        "In case if testing in colab please un comment this section and Kindly ensure to create the Path as in the COLAB PATHS Section"
      ]
    },
    {
      "cell_type": "code",
      "execution_count": 3,
      "metadata": {
        "colab": {
          "base_uri": "https://localhost:8080/"
        },
        "id": "z2mWJ-1gN7WI",
        "outputId": "d99e3b6d-ebd1-4d20-c160-5ccc5c394e03"
      },
      "outputs": [],
      "source": [
        "# from google.colab import drive\n",
        "# drive.mount('/content/drive')"
      ]
    },
    {
      "cell_type": "markdown",
      "metadata": {},
      "source": [
        "#COLAB PATHS TO UNCOMMENT (create folders as applicable) in case if using"
      ]
    },
    {
      "cell_type": "code",
      "execution_count": 4,
      "metadata": {
        "id": "uenXAkh6N8jU"
      },
      "outputs": [],
      "source": [
        "# base_path = \"/content/drive/MyDrive/01OpenAI/\"\n",
        "# path_books=base_path+\"Books/books_gpt.csv\" #Source: Chatgpt\n",
        "# path_api_key=base_path+\"Resources/OpenAI_API_Key.txt\""
      ]
    },
    {
      "cell_type": "markdown",
      "metadata": {},
      "source": [
        "### Configuring the File Paths"
      ]
    },
    {
      "cell_type": "code",
      "execution_count": 5,
      "metadata": {},
      "outputs": [],
      "source": [
        "base_path = os.getcwd()+\"\\\\\"\n",
        "path_books=base_path+\"books_gpt.csv\" #Source: Chatgpt\n",
        "path_api_key=base_path+\"OpenAI_API_Key.txt\"\n"
      ]
    },
    {
      "cell_type": "markdown",
      "metadata": {
        "id": "xU037R6nPsK8"
      },
      "source": [
        "**Reading the OPENAPI KEY from the KEY FILE**"
      ]
    },
    {
      "cell_type": "code",
      "execution_count": 6,
      "metadata": {
        "id": "sGJrffcTPndD"
      },
      "outputs": [],
      "source": [
        "with open(path_api_key, \"r\") as f:\n",
        "  openai.api_key = ' '.join(f.readlines())"
      ]
    },
    {
      "cell_type": "markdown",
      "metadata": {
        "id": "zpW_mslmQM4U"
      },
      "source": [
        "# Stage 1 - Initialization , Intent Clarity and Confirmation"
      ]
    },
    {
      "cell_type": "markdown",
      "metadata": {
        "id": "hzgZikmGP_hS"
      },
      "source": [
        "**Initializes the Conversation with the end user**\n",
        "* Transparency :Tells the user they are interacting with LLM\n",
        "* Explanation : Tells the user what they can expect from this HelpMate Bot and how their prompt should be provided for better response.\n",
        "* Disclaimer & Warning – To avoid any unwarranted inputs like Killing etc.,\n",
        "\n",
        "\n"
      ]
    },
    {
      "cell_type": "code",
      "execution_count": 7,
      "metadata": {
        "id": "meybOxMBQUWa"
      },
      "outputs": [],
      "source": [
        "def initialize_conversation():\n",
        "  print(\"Welcome to BookBot! Ask me for book recommendations.\\n\")\n",
        "  print(\"You are Interacting with an AI system that will be help you to fetch books from specific catalogue and return top n matches\\n\")\n",
        "  print(\"This bot scores your result basis these attributes :Genre,Published Year, Pages Count,Price :\\n\")\n",
        "  print(\"For Faster and better results please ensure to include these attributes in your prompt.\")\n",
        "  print(\"Recommended way of interacting with this bot are as follows:\\n\")\n",
        "  print(\"=\"*50)\n",
        "  print(\"can you recommend a Physics book'\")\n",
        "  print(\"can you recommend a book for research'\")\n",
        "  print(\"can you recommend a book of price say 1000 INR'\")\n",
        "  print(\"can you recommend a book on Physica of price around 1500 INR'\")\n",
        "  print(\"can you recommend a book on Physica of price around 1500 INR and of 450 pages'\")\n",
        "  print(\"can you recommend a book on Physica of price around 1500 INR and of 450 pages' published within 5 years\")\n",
        "  print(\"=\"*50)\n",
        "  print(\"Any query out of scope of the Books Catalogue will not be served\")\n",
        "  print(\"Any unwarranted questions that endangers the society, unethical etc,.will not be answered by the B\")"
      ]
    },
    {
      "cell_type": "markdown",
      "metadata": {
        "id": "MJ8lwxo6SsGa"
      },
      "source": [
        "**Gets Source Data and Does Necessary Formatting**"
      ]
    },
    {
      "cell_type": "code",
      "execution_count": 8,
      "metadata": {
        "id": "peFROrafSnYv"
      },
      "outputs": [],
      "source": [
        "def getSourceData(path_books):\n",
        "  col_Price='Price (INR)'\n",
        "  #path_books=base_path+\"Books/books_gpt.csv\" #Source: Chatgpt\n",
        "  df=pd.read_csv(path_books, quoting=csv.QUOTE_ALL,quotechar='\"', encoding='utf-8')\n",
        "  df[col_Price] = df[col_Price].str.replace(',', '').astype(int)\n",
        "  return df"
      ]
    },
    {
      "cell_type": "markdown",
      "metadata": {
        "id": "ftFJKRwSVK-o"
      },
      "source": [
        "**Manages User Input and entire Chat flow**"
      ]
    },
    {
      "cell_type": "code",
      "execution_count": 9,
      "metadata": {
        "id": "VhHOg-zaVJkH"
      },
      "outputs": [],
      "source": [
        "def HelpMateAiBookBot():\n",
        "  _message_prompt=\"\\nPlease enter your query , or type 'exit' to  quit:\"\n",
        "  _recommended_attributes=\"'Genre', 'Publication Year', 'Page Count', 'Price (INR)'\"\n",
        "  _message_flagged=\"Sorry, I cannot process this as this query seems inappropriate from Books Context (Message flagged)\\n. Quitting.\"\n",
        "  user_input = ''\n",
        "  _const_Flagged='Flagged'\n",
        "  df=getSourceData(path_books)\n",
        "  initialize_conversation()\n",
        "\n",
        "  while(user_input.lower() != \"exit\"):\n",
        "      user_input = input(_message_prompt)\n",
        "      print(\"Processing you Query='\",user_input,\"'...\")\n",
        "      moderation = moderation_check(user_input)\n",
        "      if moderation == _const_Flagged:\n",
        "        display(_message_flagged)\n",
        "        break\n",
        "      response_intent,retrieved_nodes=llamaindex_intent_confirmation_layer(user_input,df)\n",
        "      scored_results=mapProductsByScoring(retrieved_nodes,user_input)\n",
        "      if response_intent.response=='No':\n",
        "        print(\"Sorry I cant process this, it may be out of scope\")\n",
        "      if len(scored_results)==0:\n",
        "        print(\"Please reword your Prompt it may be missing the recommended attributes:{}\".format(_recommended_attributes))\n",
        "      if len(scored_results)>0:\n",
        "        filtered_df=information_extraction(scored_results,df)\n",
        "        showProductRecommendation(filtered_df)\n",
        "  if user_input.lower()=='exit':\n",
        "    print(\"Quitting...\")"
      ]
    },
    {
      "cell_type": "markdown",
      "metadata": {
        "id": "biNkO35xQn9g"
      },
      "source": [
        "**Intent Clarity - Moderation Check**"
      ]
    },
    {
      "cell_type": "markdown",
      "metadata": {
        "id": "_XDFLkQeRKes"
      },
      "source": [
        "**Checks if the User Input is Unwarranted if yes then returns the flag**\n",
        "* uses openai.moderations.create API\n",
        "* checks if the User input has any  unwarranted content\n",
        "* if yes , it appropriately returns the Flag."
      ]
    },
    {
      "cell_type": "code",
      "execution_count": 10,
      "metadata": {
        "id": "wtfyPb3pQsVq"
      },
      "outputs": [],
      "source": [
        "def moderation_check(user_input):\n",
        "    # Call the OpenAI API to perform moderation on the user's input.\n",
        "    response = openai.moderations.create(input=user_input)\n",
        "    #print(response)\n",
        "    # Extract the moderation result from the API response.\n",
        "    moderation_output = response.results[0].flagged\n",
        "    # Check if the input was flagged by the moderation system.\n",
        "    if response.results[0].flagged == True:\n",
        "        return \"Flagged\"\n",
        "    else:\n",
        "        return \"Not Flagged\""
      ]
    },
    {
      "cell_type": "markdown",
      "metadata": {
        "id": "bk_cKCmwSafu"
      },
      "source": [
        "**Intent Confirmation** - llamaindex_intent_confirmation_layer"
      ]
    },
    {
      "cell_type": "markdown",
      "metadata": {
        "id": "A8SezuL_SxiT"
      },
      "source": [
        "* Reads the data Source and creates  Documents from it.\n",
        "* Creates a VectorStoreIndex  for querying basis the prompt.\n",
        "* Sets the Context to avoid Hallucination (temperature Zero)\n",
        "* Templating – Using Binary Prompt to return No if the Query is out of context from the data set being catalogued.\n",
        "* Executes the query basis the User Prompt\n",
        "* Returns the Query Response and RetrieverNodes for scoring down the line.\n"
      ]
    },
    {
      "cell_type": "code",
      "execution_count": 11,
      "metadata": {
        "id": "7l2GDqeTkIBQ"
      },
      "outputs": [],
      "source": [
        "def llamaindex_intent_confirmation_layer(prompt_query,df):\n",
        "  # Load CSV\n",
        "  #reader = CSVReader()\n",
        "  important_columns = ['Genre', 'Publication Year', 'Page Count', 'Price (INR)']\n",
        "  documents = []\n",
        "  for idx, row in df.iterrows():\n",
        "      content = \"\\n\".join([f\"{col}: {row[col]}\" for col in important_columns])\n",
        "      documents.append(Document(text=content, metadata={\"row\": idx}))\n",
        "  # Create an index\n",
        "  index = VectorStoreIndex.from_documents(documents)\n",
        "  # Configure the LLM globally using Settings\n",
        "  Settings.llm = OpenAI(model=\"gpt-3.5-turbo\", temperature=0)\n",
        "  binary_prompt = PromptTemplate(\n",
        "      \"You are verifying product specifications based ONLY on the following context.\\n\"\n",
        "      \"If the information is found, answer 'Yes'.\\n\"\n",
        "      \"If the information is missing or unclear, answer 'No'.\\n\"\n",
        "      \"Be strictly based on context. Do not guess.\\n\"\n",
        "      \"Context:\\n{context_str}\\n\\n\"\n",
        "      \"Question: {query_str}\\n\"\n",
        "      \"Answer:\"\n",
        "  )\n",
        "\n",
        "  query_engine = index.as_query_engine(\n",
        "        text_qa_template=binary_prompt,\n",
        "      similarity_top_k=10  # search top 3 most similar entries\n",
        "  )\n",
        "  # Query\n",
        "  response = query_engine.query(prompt_query)\n",
        "  retrieved_nodes=query_engine.retrieve(prompt_query)\n",
        "\n",
        "  return response,retrieved_nodes\n",
        "\n",
        "\n",
        "\n"
      ]
    },
    {
      "cell_type": "markdown",
      "metadata": {
        "id": "ZfnAMabaTQ-a"
      },
      "source": [
        "# Stage 2 - Product Mapping and Information Extraction"
      ]
    },
    {
      "cell_type": "markdown",
      "metadata": {
        "id": "gy2-ld1OTfux"
      },
      "source": [
        "**Scoring -compute_match_score**\n",
        "* Extracts the attributes from the Query\n",
        "* Matches with the set of important columns in the data ('Genre', 'Publication Year', 'Page Count', 'Price (INR)’)\n",
        "* Calculates and returns a Score ,on the Range of 1,2 and 3, with 1 being the lowest.\n"
      ]
    },
    {
      "cell_type": "code",
      "execution_count": 12,
      "metadata": {
        "id": "7EN6uknrbhlm"
      },
      "outputs": [],
      "source": [
        "def compute_match_score(doc_text, query_text,important_columns= ['Genre', 'Publication Year', 'Page Count', 'Price (INR)']):\n",
        "    total_score = 0\n",
        "\n",
        "    for attr in important_columns:\n",
        "        if attr.lower() in doc_text.lower():\n",
        "            # Extract attribute value\n",
        "            attr_value_start = doc_text.lower().find(attr.lower()) + len(attr) + 2  # Skip \": \"\n",
        "            attr_value_end = doc_text.lower().find('\\n', attr_value_start)\n",
        "            attr_value = doc_text[attr_value_start:attr_value_end if attr_value_end != -1 else None].strip()\n",
        "\n",
        "            if attr_value:\n",
        "                attr_value_lower = attr_value.lower()\n",
        "                query_lower = query_text.lower()\n",
        "\n",
        "                # 3 points → Strong match: full attribute value found\n",
        "                if attr_value_lower in query_lower:\n",
        "                    total_score += 3\n",
        "                # 2 points → Medium match: all keywords from attribute found separately\n",
        "                elif all(word in query_lower for word in attr_value_lower.split()):\n",
        "                    total_score += 2\n",
        "                # 1 point → Weak match: any keyword from attribute found\n",
        "                elif any(word in query_lower for word in attr_value_lower.split()):\n",
        "                    total_score += 1\n",
        "    return total_score"
      ]
    },
    {
      "cell_type": "markdown",
      "metadata": {
        "id": "ks3yI-kDT17r"
      },
      "source": [
        "**Product Mapping**\n",
        "* Using RetreivedNodes from the LLAMAINDEX Search Query and the Query from user calculates the Score using the compute_match_score method explained above.\n",
        "* If the Score is above the defined Threshold it is added to a dictionary.\n",
        "* The scored result is returned as a Data Frame for Product information extraction.\n"
      ]
    },
    {
      "cell_type": "code",
      "execution_count": 13,
      "metadata": {
        "id": "d_MMAsAlynNZ"
      },
      "outputs": [],
      "source": [
        "def mapProductsByScoring(retrieved_nodes,query):\n",
        "  scored_results = []\n",
        "  dictionary_ScoredResults=[]\n",
        "  score_threshold=2\n",
        "  for node in retrieved_nodes:\n",
        "      text = node.node.text\n",
        "      match_score = compute_match_score(text, query)\n",
        "      if match_score>=score_threshold:\n",
        "        item={}\n",
        "        item[\"Score\"]=match_score\n",
        "        for _text in text.split(\"\\n\"):\n",
        "          key=_text.split(\":\")[0].strip()\n",
        "          value=_text.split(\":\")[1].strip()\n",
        "          item[key]=value\n",
        "        dictionary_ScoredResults.append(item)\n",
        "\n",
        "  dfScoredResult=pd.DataFrame.from_dict(dictionary_ScoredResults,)\n",
        "  return dfScoredResult"
      ]
    },
    {
      "cell_type": "markdown",
      "metadata": {
        "id": "Oc3x1Pf_UEVu"
      },
      "source": [
        "**information_extraction**\n",
        "* The Scored Result Dataframe is JOINED with the original dataframe to return the Extracted product Information\n"
      ]
    },
    {
      "cell_type": "code",
      "execution_count": 14,
      "metadata": {
        "id": "gk6AfAtYzQ_k"
      },
      "outputs": [],
      "source": [
        "def information_extraction(dfScoredResult,df):\n",
        "  filtered_df=df.copy()\n",
        "  dfScoredResult['Publication Year']=dfScoredResult['Publication Year'].astype(int)\n",
        "  dfScoredResult['Page Count']=dfScoredResult['Page Count'].astype(int)\n",
        "  dfScoredResult['Price (INR)']=dfScoredResult['Price (INR)'].astype(float)\n",
        "\n",
        "\n",
        "  new_df = pd.merge(\n",
        "    left=df,\n",
        "    right=dfScoredResult,\n",
        "    how='inner',\n",
        "    left_on=['Genre', 'Publication Year', 'Page Count', 'Price (INR)'],\n",
        "    right_on=['Genre', 'Publication Year', 'Page Count', 'Price (INR)'],\n",
        "   )\n",
        "  return (new_df)\n"
      ]
    },
    {
      "cell_type": "markdown",
      "metadata": {
        "id": "HWgLKAhgUZ2a"
      },
      "source": [
        "# Stage 3 - Product Recommendation\n",
        "\n",
        "---\n",
        "\n"
      ]
    },
    {
      "cell_type": "markdown",
      "metadata": {
        "id": "Jg9KmTgaUnV9"
      },
      "source": [
        "\n",
        "**The Extracted Producted information is displayed to user as Prompt Response in Human readbale and not as JSON or table format.**"
      ]
    },
    {
      "cell_type": "code",
      "execution_count": 15,
      "metadata": {
        "id": "lKb4eLTAHHWl"
      },
      "outputs": [],
      "source": [
        "def showProductRecommendation(filtered_df):\n",
        "  print(\"Here's your current recommendation basis your prompt:\")\n",
        "  for idx,row in filtered_df.iterrows():\n",
        "    strOutput=\"\"\n",
        "    strOutput=\"Title :\" +str(row['Book Title'])+\" \\n \"\n",
        "    strOutput=strOutput+\"Genre:\"+str(row['Genre'])+\" \\n \"\n",
        "    strOutput=strOutput+\"Published in the Year:\"+str(row['Publication Year'])+\" \\n \"\n",
        "    strOutput=strOutput+\"Priced at :\"+str(row['Price (INR)'])+\" \\n \"\n",
        "    strOutput=strOutput+\"of Pages :\"+str(row['Page Count'])+\" \\n \"\n",
        "    print(strOutput)\n",
        "    print(\"=\"*50)\n",
        "  print(\"Query again as recommended for more\")"
      ]
    },
    {
      "cell_type": "code",
      "execution_count": 16,
      "metadata": {
        "colab": {
          "base_uri": "https://localhost:8080/"
        },
        "id": "Ynndgxl5pZQJ",
        "outputId": "8ed4dd84-c43c-4e6b-fef6-4d0db1b76f71"
      },
      "outputs": [
        {
          "name": "stdout",
          "output_type": "stream",
          "text": [
            "Here's your current recommendation basis your prompt:\n",
            "Title :Data Science in Practice \n",
            " Genre:Data Science \n",
            " Published in the Year:2019 \n",
            " Priced at :2100 \n",
            " of Pages :500 \n",
            " \n",
            "==================================================\n",
            "Title :Introduction to Data Science \n",
            " Genre:Data Science \n",
            " Published in the Year:2022 \n",
            " Priced at :2000 \n",
            " of Pages :550 \n",
            " \n",
            "==================================================\n",
            "Title :Data Science for Business \n",
            " Genre:Data Science \n",
            " Published in the Year:2020 \n",
            " Priced at :2300 \n",
            " of Pages :650 \n",
            " \n",
            "==================================================\n",
            "Title :R for Data Science \n",
            " Genre:Data Science \n",
            " Published in the Year:2021 \n",
            " Priced at :1700 \n",
            " of Pages :400 \n",
            " \n",
            "==================================================\n",
            "Title :Machine Learning Yearning \n",
            " Genre:Data Science \n",
            " Published in the Year:2021 \n",
            " Priced at :1100 \n",
            " of Pages :150 \n",
            " \n",
            "==================================================\n",
            "Title :Data-Driven Science and Engineering \n",
            " Genre:Data Science \n",
            " Published in the Year:2019 \n",
            " Priced at :2100 \n",
            " of Pages :550 \n",
            " \n",
            "==================================================\n",
            "Query again as recommended for more\n"
          ]
        }
      ],
      "source": [
        "#debugging llamaindex_intent_confirmation_layer\n",
        "query=\"I need a book on Data Science\"\n",
        "df=getSourceData(path_books)\n",
        "r1,r2=llamaindex_intent_confirmation_layer(query,df)\n",
        "#print(r1.response)\n",
        "#print(r2)\n",
        "scored_results = []\n",
        "scored_results=mapProductsByScoring(r2,query)\n",
        "#print(scored_results)\n",
        "extracted_data=information_extraction(scored_results,df)\n",
        "showProductRecommendation(extracted_data)\n",
        "\n"
      ]
    },
    {
      "cell_type": "markdown",
      "metadata": {
        "id": "gKmbBMATU-6S"
      },
      "source": [
        "# Entry Point"
      ]
    },
    {
      "cell_type": "code",
      "execution_count": null,
      "metadata": {
        "colab": {
          "base_uri": "https://localhost:8080/",
          "height": 1000
        },
        "id": "2S5csF5NWyEJ",
        "outputId": "f78a42f7-e674-41be-d31a-8cecd1f97ee1"
      },
      "outputs": [],
      "source": [
        "HelpMateAiBookBot()"
      ]
    }
  ],
  "metadata": {
    "colab": {
      "provenance": []
    },
    "kernelspec": {
      "display_name": "Python 3",
      "name": "python3"
    },
    "language_info": {
      "codemirror_mode": {
        "name": "ipython",
        "version": 3
      },
      "file_extension": ".py",
      "mimetype": "text/x-python",
      "name": "python",
      "nbconvert_exporter": "python",
      "pygments_lexer": "ipython3",
      "version": "3.12.3"
    }
  },
  "nbformat": 4,
  "nbformat_minor": 0
}
